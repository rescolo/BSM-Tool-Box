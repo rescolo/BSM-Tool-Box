{
 "cells": [
  {
   "cell_type": "markdown",
   "metadata": {},
   "source": [
    "#  Inert doublet model"
   ]
  },
  {
   "cell_type": "markdown",
   "metadata": {},
   "source": [
    "According to this  [bug report](http://stauby.de/sarah_userforum/viewtopic.php?f=5&t=50#p252), we need to change by hand the file [prtcls1.mdl](../micromegas/SimplifiedDMIDM/work/models/prtcls1.mdl) of the `micromegas` model files, to be sure that the DM candidate appears as the first defined $Z_2$-particle. In this case:\n",
    "\n",
    "` etR       |~etR    |~etR    |35 ...\n",
    "etI       |~etI    |~etI    |36 ...\n",
    "etp       |~etp    |~Etp    |37 ...`"
   ]
  },
  {
   "cell_type": "code",
   "execution_count": 1,
   "metadata": {
    "collapsed": false
   },
   "outputs": [
    {
     "name": "stdout",
     "output_type": "stream",
     "text": [
      "Populating the interactive namespace from numpy and matplotlib\n"
     ]
    }
   ],
   "source": [
    "%pylab inline"
   ]
  },
  {
   "cell_type": "code",
   "execution_count": 2,
   "metadata": {
    "collapsed": false
   },
   "outputs": [],
   "source": [
    "import pandas as pd\n",
    "import numpy as np\n",
    "import os, sys, inspect\n",
    "import commands\n",
    "from hep_new import *"
   ]
  },
  {
   "cell_type": "markdown",
   "metadata": {},
   "source": [
    "Define functions to change from general basis to physical basis "
   ]
  },
  {
   "cell_type": "code",
   "execution_count": 3,
   "metadata": {
    "collapsed": false
   },
   "outputs": [],
   "source": [
    "def run_official_idm(MHX,MH3,MHC,laL,la2,Mh,check=False):\n",
    "    pd.Series({'MHX':MHX,'MH3':MH3,'MHC':MHC,'laL':laL,'la2':la2,'Mh':Mh}).to_csv('mo.dat',sep=' ')\n",
    "    omegah2=-1\n",
    "    if os.path.isfile('../micromegas/IDM/main'):\n",
    "        mo=commands.getoutput(\"../micromegas/IDM/main mo.dat\")\n",
    "        \n",
    "    return mo\n",
    "\n",
    "def phys_to_int(mH,mA,mHc,lambda_L,v):\n",
    "    '''\n",
    "    See arXiv:1003.3125\n",
    "    '''\n",
    "    mH2=mH*mH;mA2=mA*mA;mHc2=mHc*mHc;v2=v*v\n",
    "    lambda_5=(mH2-mA2)/v2\n",
    "    mu2=mH2-lambda_L*v2\n",
    "    lambda_3=2.*(mHc2-mu2)/v2\n",
    "    lambda_4=-lambda_3-lambda_5+2*lambda_L\n",
    "    return mu2,lambda_3,lambda_4,lambda_5\n",
    "\n",
    "def int_to_phys(mu2,lambda_3,lambda_4,lambda_5,v):\n",
    "    '''\n",
    "    See arXiv:1003.3125\n",
    "    '''\n",
    "    v2=v*v\n",
    "    tachyons=False\n",
    "    mHc2=mu2+lambda_3*v2/2.\n",
    "    if mHc2<0: tachyons=True\n",
    "    mH2=mu2+(lambda_3+lambda_4+lambda_5)*v2/2.\n",
    "    if mH2<0: tachyons=True\n",
    "    mA2=mu2+(lambda_3+lambda_4-lambda_5)*v2/2.\n",
    "    if mA2<0: tachyons=True\n",
    "    if tachyons: print \"Warning: Tachyionic masses\"\n",
    "    return np.sqrt(np.abs(np.array([mH2,mA2,mHc2]))),(lambda_3+lambda_4+lambda_5)/2 "
   ]
  },
  {
   "cell_type": "markdown",
   "metadata": {},
   "source": [
    "Define function to run official micromegas IDM"
   ]
  },
  {
   "cell_type": "code",
   "execution_count": 4,
   "metadata": {
    "collapsed": true
   },
   "outputs": [],
   "source": [
    "def run_official_idm_lha(spc,check=False):\n",
    "    '''\n",
    "    Standard PDGs for inert scalars\n",
    "    '''\n",
    "    laL=(spc.blocks['MINPAR'][3]+spc.blocks['MINPAR'][4]+spc.blocks['MINPAR'][5])/2.\n",
    "    MHX=spc.blocks['MASS'][35];MH3=spc.blocks['MASS'][36];MHC=spc.blocks['MASS'][37]\n",
    "    la2=spc.blocks['MINPAR'][2];Mh=spc.blocks['MASS'][25]\n",
    "    return run_official_idm(MHX,MH3,MHC,laL,la2,Mh,check=check)"
   ]
  },
  {
   "cell_type": "markdown",
   "metadata": {},
   "source": [
    "\n",
    "## Check one point"
   ]
  },
  {
   "cell_type": "code",
   "execution_count": 5,
   "metadata": {
    "collapsed": true
   },
   "outputs": [],
   "source": [
    "model?"
   ]
  },
  {
   "cell_type": "markdown",
   "metadata": {},
   "source": [
    "###  With SARAH implementation\n",
    "Based in [Scotogenic model implementation](https://github.com/restrepo/Scotogenic) by Avelino Vicente. Model files in the [SARAH/Models/SimplifiedDM/IDM](../SARAH/Models/SimplifiedDM/IDM) folder of this repo. We use below the python [hep](./hep.py) module to automalically manage input/output SARAH-Toolbox files (in a similar way to SSP)"
   ]
  },
  {
   "cell_type": "code",
   "execution_count": 6,
   "metadata": {
    "collapsed": false
   },
   "outputs": [],
   "source": [
    "a=hep(MODEL='radinertRSIII')"
   ]
  },
  {
   "cell_type": "markdown",
   "metadata": {},
   "source": [
    "`a-object` is an object with many attributes and methods. Use the tab to explore them. Some of them are\n",
    "* a.Series: [pandas](http://pandas.pydata.org/) Series object with the \"relevant\" variables \n",
    "* a.LHA: Input LesHouces file as [pyslha](https://pypi.python.org/pypi/pyslha/) object\n",
    "* a.runSPheno() -> a.LHA_out: return LHA output files as [pyslha](https://pypi.python.org/pypi/pyslha/) object\n",
    "* a.runmicromegas() -> a.runSPheno() -> Updated the `a-object`  with micrOMEGAS \"relevant\" output"
   ]
  },
  {
   "cell_type": "markdown",
   "metadata": {},
   "source": [
    "#### Benchmark BP1\n",
    "from [arXiv:1504.05949](http://arxiv.org/pdf/1504.05949v3.pdf). See also: [arXiv:1207.0084](https://arxiv.org/pdf/1207.0084v2.pdf)"
   ]
  },
  {
   "cell_type": "code",
   "execution_count": 9,
   "metadata": {
    "collapsed": false
   },
   "outputs": [
    {
     "data": {
      "text/plain": [
       "1    1.3000000E-01  # lambda1Input\n",
       "2    0.0000000E+00  # lambda2Input\n",
       "3    0.0000000E+00  # lambda3Input\n",
       "4    0.0000000E+00  # lambda4Input\n",
       "5    -1.0000000E-05 # lambda5Input\n",
       "6       1.0000000E+04  # mEt2Input\n",
       "dtype: object"
      ]
     },
     "execution_count": 9,
     "metadata": {},
     "output_type": "execute_result"
    }
   ],
   "source": [
    "pd.Series(a.LHA.blocks['MINPAR'].entries)"
   ]
  },
  {
   "cell_type": "code",
   "execution_count": 10,
   "metadata": {
    "collapsed": false
   },
   "outputs": [
    {
     "name": "stdout",
     "output_type": "stream",
     "text": [
      "expected: 60.0 300.0 300.0\n",
      "obtained: [  60.  300.  300.]\n",
      "Omega h^2, SI proton, neutron = 4.36e-05 5.714e-07 5.862e-07\n",
      "mu2,lambda_3,lambda_4,lambda_5 nan 3.4503295593 -1.42516477965 -1.42516477965 0.3\n"
     ]
    }
   ],
   "source": [
    "v=a.vev\n",
    "#lambda_1=0.13\n",
    "ipt=pd.Series({'MHX':60,'MH3':300,'MHC':300,'lambda_L':0.3}) #Official micromegas/IDM names\n",
    "mu2,lambda_3,lambda_4,lambda_5=phys_to_int(ipt.MHX,ipt.MH3,ipt.MHC,ipt.lambda_L,v)\n",
    "print 'expected:',ipt.MHX,ipt.MH3,ipt.MHC\n",
    "print 'obtained:',int_to_phys(mu2,lambda_3,lambda_4,lambda_5,v)[0]\n",
    "devnull=commands.getoutput('rm -f SPheno.spc.%s' %a.MODEL)\n",
    "a.LHA.blocks['SPHENOINPUT'].entries[55]='0               # Calculate one loop masses'\n",
    "a.LHA.blocks['SPHENOINPUT'].entries[520]='0.             # Write effective Higgs couplings (HiggsBounds blocks): put 0 to use file with MadGraph! '\n",
    "a.LHA.blocks['MINPAR'][3]='%0.8E       #lambda3Input' %lambda_3\n",
    "a.LHA.blocks['MINPAR'][4]='%0.8E       #lambda4Input' %lambda_4\n",
    "a.LHA.blocks['MINPAR'][5]='%0.8E       #lambda5Input' %lambda_5\n",
    "a.LHA.blocks['MINPAR'][6]='%0.8E       #mEt2Input' %mu2\n",
    "moc=a.runmicromegas(Direct_Detection=True)\n",
    "print 'Omega h^2, SI proton, neutron =',a.Series.Omega_h2,a.Series.proton_SI,a.Series.neutron_SI\n",
    "print 'mu2,lambda_3,lambda_4,lambda_5',mu2,lambda_3,lambda_4,lambda_5,(lambda_3+lambda_4+lambda_5)/2."
   ]
  },
  {
   "cell_type": "markdown",
   "metadata": {},
   "source": [
    "##  Check $\\mu \\to e \\gamma$"
   ]
  },
  {
   "cell_type": "code",
   "execution_count": 27,
   "metadata": {
    "collapsed": true
   },
   "outputs": [],
   "source": [
    "a=hep(MODEL='radinertRSIII',spc_input_file='LesHouches.in.radinertRSIII')"
   ]
  },
  {
   "cell_type": "code",
   "execution_count": 28,
   "metadata": {
    "collapsed": false
   },
   "outputs": [
    {
     "data": {
      "text/plain": [
       "_dict([('MODSEL',\n",
       "        MODSEL { 1 : 1              #  1/0: High/low scale input; 2 : 1              # Boundary Condition; 6 : 1              # Generation Mixing }),\n",
       "       ('SMINPUTS',\n",
       "        SMINPUTS { 2 : 1.166370E-05   # G_F,Fermi constant; 3 : 1.187000E-01   # alpha_s(MZ) SM MSbar; 4 : 9.118870E+01   # Z-boson pole mass; 5 : 4.180000E+00   # m_b(mb) SM MSbar; 6 : 1.735000E+02   # m_top(pole); 7 : 1.776690E+00   # m_tau(pole) }),\n",
       "       ('MINPAR',\n",
       "        MINPAR { 1 : 1.3000000E-01  # lambda1Input; 2 : 0.0000000E+00  # lambda2Input; 3 : 2.85546319E+00 # lambda3Input; 4 : -1.42772159E+00# lambda4Input; 5 : -1.42772159E+00# lambda5Input; 6 : 3.59939484E+03 # mEt2Input }),\n",
       "       ('SPHENOINPUT',\n",
       "        SPHENOINPUT { 1 : -1             # error level; 2 : 0              # SPA conventions; 11 : 1              # calculate branching ratios; 12 : 1.000E-15       # write only branching ratios larger than this value; 13 : 1               # 3-Body decays: none (0), fermion (1), scalar (2), both (3); 14 : 0              # Run couplings to scale of decaying particle; 15 : 1.000E-40       # write only decay if width larger than this value; 31 : -1             # fixed GUT scale (-1: dynamical GUT scale); 32 : 0              # Strict unification; 34 : 1.000E-04      # Precision of mass calculation; 35 : 40             # Maximal number of iterations; 36 : 5              # Minimal number of iterations before discarding points; 37 : 1              # Set Yukawa scheme; 38 : 2              # 1- or 2-Loop RGEs; 50 : 0               # Majorana phases: use only positive masses; 51 : 0              # Write Output in CKM basis; 52 : 1               # Write spectrum in case of tachyonic states; 55 : 0              # Calculate one loop masses; 57 : 1              # Calculate low energy constraints; 61 : 0              # Running SM parameters; 65 : 1              # Solution tadpole equation; 75 : 1              # Write WHIZARD files; 76 : 1              # Write HiggsBounds file; 86 : 0.             # Maximal width to be counted as invisible in Higgs decays; -1: only LSP; 510 : 0.             # Write tree level values for tadpole solutions; 515 : 0              # Write parameter values at GUT scale; 520 : 1.             # Write effective Higgs couplings (HiggsBounds blocks): put 0 to use file with MadGraph!; 521 : 1.             # Diphoton/Digluon widths including higher order; 525 : 0.             # Write loop contributions to diphoton decay of Higgs; 530 : 1.             # Write Blocks for Vevacious }),\n",
       "       ('MTFIN',\n",
       "        MTFIN { 1,1 : 2.76823283E+02 # MTF(1,1); 1,2 : 0.000000E+00   # MTF(1,2); 1,3 : 0.000000E+00   # MTF(1,3); 2,1 : 0.000000E+00   # MTF(2,1); 2,2 : 4.42096196E+02 # MTF(2,2); 2,3 : 0.000000E+00   # MTF(2,3); 3,1 : 0.000000E+00   # MTF(3,1); 3,2 : 0.000000E+00   # MTF(3,2); 3,3 : 7.60066816E+02 # MTF(3,3) }),\n",
       "       ('YNIN',\n",
       "        YNIN { 1,1 : -1.05672272E-05# Yn(1,1); 1,2 : -1.63235942E-05# Yn(1,2); 1,3 : -2.40844462E-05# Yn(1,3); 2,1 : -2.09582329E-05# Yn(2,1); 2,2 : -1.32799561E-05# Yn(2,2); 2,3 : 1.81823563E-05 # Yn(2,3); 3,1 : -2.08394437E-05# Yn(3,1); 3,2 : 2.36244603E-05 # Yn(3,2); 3,3 : -6.77403648E-06# Yn(3,3) })])"
      ]
     },
     "execution_count": 28,
     "metadata": {},
     "output_type": "execute_result"
    }
   ],
   "source": [
    "a.LHA.blocks"
   ]
  },
  {
   "cell_type": "code",
   "execution_count": 29,
   "metadata": {
    "collapsed": true
   },
   "outputs": [],
   "source": [
    "rm SPheno.spc.radinertRSIII"
   ]
  },
  {
   "cell_type": "code",
   "execution_count": 30,
   "metadata": {
    "collapsed": false
   },
   "outputs": [
    {
     "ename": "AssertionError",
     "evalue": "",
     "output_type": "error",
     "traceback": [
      "\u001b[1;31m---------------------------------------------------------------------------\u001b[0m",
      "\u001b[1;31mAssertionError\u001b[0m                            Traceback (most recent call last)",
      "\u001b[1;32m<ipython-input-30-432a08d1fea3>\u001b[0m in \u001b[0;36m<module>\u001b[1;34m()\u001b[0m\n\u001b[1;32m----> 1\u001b[1;33m \u001b[0ma\u001b[0m\u001b[1;33m.\u001b[0m\u001b[0mrunSPheno\u001b[0m\u001b[1;33m(\u001b[0m\u001b[1;33m)\u001b[0m\u001b[1;33m\u001b[0m\u001b[0m\n\u001b[0m",
      "\u001b[1;32m/home/restrepo/prog/toolbox/toolbox/tests/hep_new.pyc\u001b[0m in \u001b[0;36mrunSPheno\u001b[1;34m(self, LHA, DEBUG)\u001b[0m\n\u001b[0;32m    182\u001b[0m         \u001b[1;32mif\u001b[0m \u001b[0mDEBUG\u001b[0m\u001b[1;33m:\u001b[0m\u001b[1;33m\u001b[0m\u001b[0m\n\u001b[0;32m    183\u001b[0m             \u001b[1;32mprint\u001b[0m\u001b[1;33m(\u001b[0m\u001b[0ma\u001b[0m\u001b[1;33m)\u001b[0m\u001b[1;33m\u001b[0m\u001b[0m\n\u001b[1;32m--> 184\u001b[1;33m         \u001b[1;32massert\u001b[0m \u001b[0mos\u001b[0m\u001b[1;33m.\u001b[0m\u001b[0mpath\u001b[0m\u001b[1;33m.\u001b[0m\u001b[0misfile\u001b[0m\u001b[1;33m(\u001b[0m\u001b[1;34m'SPheno.spc.%s'\u001b[0m \u001b[1;33m%\u001b[0m\u001b[0mself\u001b[0m\u001b[1;33m.\u001b[0m\u001b[0mMODEL\u001b[0m\u001b[1;33m)\u001b[0m\u001b[1;33m\u001b[0m\u001b[0m\n\u001b[0m\u001b[0;32m    185\u001b[0m         \u001b[1;31m#print a\u001b[0m\u001b[1;33m\u001b[0m\u001b[1;33m\u001b[0m\u001b[0m\n\u001b[0;32m    186\u001b[0m         \u001b[1;31m#exceptions\u001b[0m\u001b[1;33m\u001b[0m\u001b[1;33m\u001b[0m\u001b[0m\n",
      "\u001b[1;31mAssertionError\u001b[0m: "
     ]
    }
   ],
   "source": [
    "a.runSPheno()"
   ]
  },
  {
   "cell_type": "code",
   "execution_count": 16,
   "metadata": {
    "collapsed": false
   },
   "outputs": [
    {
     "data": {
      "text/plain": [
       "_dict([('MODSEL',\n",
       "        MODSEL { 1 : 1              #  1/0: High/low scale input; 2 : 1              # Boundary Condition; 6 : 1              # Generation Mixing }),\n",
       "       ('SMINPUTS',\n",
       "        SMINPUTS { 2 : 1.166370E-05   # G_F,Fermi constant; 3 : 1.187000E-01   # alpha_s(MZ) SM MSbar; 4 : 9.118870E+01   # Z-boson pole mass; 5 : 4.180000E+00   # m_b(mb) SM MSbar; 6 : 1.735000E+02   # m_top(pole); 7 : 1.776690E+00   # m_tau(pole) }),\n",
       "       ('MINPAR',\n",
       "        MINPAR { 1 : 1.3000000E-01  # lambda1Input; 2 : 0.0000000E+00  # lambda2Input; 3 : 2.85546319E+00 # lambda3Input; 4 : -1.42772159E+00# lambda4Input; 5 : -1.42772159E+00# lambda5Input; 6 : 3.59939484E+03 # mEt2Input }),\n",
       "       ('SPHENOINPUT',\n",
       "        SPHENOINPUT { 1 : -1             # error level; 2 : 0              # SPA conventions; 11 : 1              # calculate branching ratios; 12 : 1.000E-15       # write only branching ratios larger than this value; 13 : 1               # 3-Body decays: none (0), fermion (1), scalar (2), both (3); 14 : 0              # Run couplings to scale of decaying particle; 15 : 1.000E-40       # write only decay if width larger than this value; 31 : -1             # fixed GUT scale (-1: dynamical GUT scale); 32 : 0              # Strict unification; 34 : 1.000E-04      # Precision of mass calculation; 35 : 40             # Maximal number of iterations; 36 : 5              # Minimal number of iterations before discarding points; 37 : 1              # Set Yukawa scheme; 38 : 2              # 1- or 2-Loop RGEs; 50 : 0               # Majorana phases: use only positive masses; 51 : 0              # Write Output in CKM basis; 52 : 1               # Write spectrum in case of tachyonic states; 55 : 0              # Calculate one loop masses; 57 : 1              # Calculate low energy constraints; 61 : 0              # Running SM parameters; 65 : 1              # Solution tadpole equation; 75 : 1              # Write WHIZARD files; 76 : 1              # Write HiggsBounds file; 86 : 0.             # Maximal width to be counted as invisible in Higgs decays; -1: only LSP; 510 : 0.             # Write tree level values for tadpole solutions; 515 : 0              # Write parameter values at GUT scale; 520 : 1.             # Write effective Higgs couplings (HiggsBounds blocks): put 0 to use file with MadGraph!; 521 : 1.             # Diphoton/Digluon widths including higher order; 525 : 0.             # Write loop contributions to diphoton decay of Higgs; 530 : 1.             # Write Blocks for Vevacious }),\n",
       "       ('MTFIN',\n",
       "        MTFIN { 1,1 : 2.76823283E+02 # MTF(1,1); 1,2 : 0.000000E+00   # MTF(1,2); 1,3 : 0.000000E+00   # MTF(1,3); 2,1 : 0.000000E+00   # MTF(2,1); 2,2 : 4.42096196E+02 # MTF(2,2); 2,3 : 0.000000E+00   # MTF(2,3); 3,1 : 0.000000E+00   # MTF(3,1); 3,2 : 0.000000E+00   # MTF(3,2); 3,3 : 7.60066816E+02 # MTF(3,3) }),\n",
       "       ('YNIN',\n",
       "        YNIN { 1,1 : -1.05672272E-05# Yn(1,1); 1,2 : -1.63235942E-05# Yn(1,2); 1,3 : -2.40844462E-05# Yn(1,3); 2,1 : -2.09582329E-05# Yn(2,1); 2,2 : -1.32799561E-05# Yn(2,2); 2,3 : 1.81823563E-05 # Yn(2,3); 3,1 : -2.08394437E-05# Yn(3,1); 3,2 : 2.36244603E-05 # Yn(3,2); 3,3 : -6.77403648E-06# Yn(3,3) })])"
      ]
     },
     "execution_count": 16,
     "metadata": {},
     "output_type": "execute_result"
    }
   ],
   "source": [
    "a.LHA.blocks"
   ]
  },
  {
   "cell_type": "code",
   "execution_count": 17,
   "metadata": {
    "collapsed": false
   },
   "outputs": [],
   "source": [
    "moc=a.runmicromegas(Direct_Detection=True)"
   ]
  },
  {
   "cell_type": "code",
   "execution_count": 13,
   "metadata": {
    "collapsed": true
   },
   "outputs": [],
   "source": [
    "dp=pd.Series()\n",
    "y=np.zeros((3,3))\n",
    "for i in range(1,4):\n",
    "    dp['Mtr0%d' %i]=eval(a.LHA_out_with_comments.blocks['MASS'].entries[6000056+i])\n",
    "  \n",
    "for i in range(3): \n",
    "    for j in range(3): \n",
    "        y[i,j]=a.LHA_out.blocks['YN'].entries[i+1,j+1]\n",
    "\n",
    "\n",
    "dp['MH0']=eval(a.LHA_out_with_comments.blocks['MASS'].entries[35])\n",
    "dp['MA0']=eval(a.LHA_out_with_comments.blocks['MASS'].entries[36])\n",
    "dp['MHC']=eval(a.LHA_out_with_comments.blocks['MASS'].entries[37])"
   ]
  },
  {
   "cell_type": "code",
   "execution_count": 14,
   "metadata": {
    "collapsed": false
   },
   "outputs": [
    {
     "data": {
      "text/plain": [
       "Mtr01    1000.000000\n",
       "Mtr02    1000.000000\n",
       "Mtr03    1000.000000\n",
       "MH0        99.998484\n",
       "MA0       100.001516\n",
       "MHC       100.000000\n",
       "dtype: float64"
      ]
     },
     "execution_count": 14,
     "metadata": {},
     "output_type": "execute_result"
    }
   ],
   "source": [
    "dp"
   ]
  },
  {
   "cell_type": "code",
   "execution_count": 15,
   "metadata": {
    "collapsed": false
   },
   "outputs": [
    {
     "data": {
      "text/plain": [
       "array([[  1.00000000e-05,   0.00000000e+00,   0.00000000e+00],\n",
       "       [  0.00000000e+00,   1.00000000e-05,   0.00000000e+00],\n",
       "       [  0.00000000e+00,   0.00000000e+00,   1.00000000e-05]])"
      ]
     },
     "execution_count": 15,
     "metadata": {},
     "output_type": "execute_result"
    }
   ],
   "source": [
    "y"
   ]
  },
  {
   "cell_type": "markdown",
   "metadata": {},
   "source": [
    "generate p p > etr etr j j $$ wp wpc z h j QCD=0"
   ]
  },
  {
   "cell_type": "code",
   "execution_count": 33,
   "metadata": {
    "collapsed": false
   },
   "outputs": [],
   "source": [
    "SM={'G_F': 1.166e-05, 'alpha_em': 0.0078125, 'm_e': 0.000511, \\\n",
    "                'm_mu': 0.1057, 'm_tau': 1.777, 'vev': 246.0, \\\n",
    "                'MW': 80.385, 'MZ': 91.1876, 'WH':4.21e-3,'m_pi0':134.9766E-3,\\\n",
    "                'm_pipm':139.57018E-3,'hbarc':1.973269631E-16,'V_ud':0.97425,\\\n",
    "                'f_pi':131E-3}\n",
    "def Fme(x,xmin=0.996,xmax=1.005,xfit=1.001):\n",
    "    \"\"\"Fixing near to one values\n",
    "     xmin: close to 1 from below\n",
    "     xmax: close to 1 from above\n",
    "     xfit:  optimized 1 limit\n",
    "    \"\"\"\n",
    "    x=np.asarray(x)\n",
    "    if x.shape:\n",
    "        x[np.logical_and(x>xmin,x<xmax)]=xfit\n",
    "    else:\n",
    "        if x>xmin and x<xmax:\n",
    "            x=xfit\n",
    "        \n",
    "    return (1.-6.*x+3.*x**2+2.*x**3-6*x**2*np.log(x))/(6.*(x-1.)**4)\n",
    "\n",
    "def LFV(SM,dp,yuk):\n",
    "    '''Oscar Notes with \\pi^2 -> \\pi\n",
    "    '''\n",
    "    import numpy as np\n",
    "    const=False\n",
    "    SM=pd.Series(SM)\n",
    "    y=np.matrix(yuk)\n",
    "    \n",
    "    dp=pd.Series(dp)\n",
    "    FMl=[]\n",
    "    for i in range(1,4):\n",
    "        dp['Mtrp%d' %i]=dp['Mtr0%d' %i] #degenerate fermions\n",
    "        FMl.append(1./(dp.MHC**2)*Fme(dp['Mtr0%d' %i]**2/dp.MHC**2)\\\n",
    "                   -1./(dp['Mtr0%d' %i]**2)*( Fme(dp.MH0**2/dp['Mtrp%d' %i]**2)\\\n",
    "                                            + Fme(dp.MA0**2/dp['Mtrp%d' %i]**2)   )  )\n",
    "    FM=np.matrix(np.diag(FMl))\n",
    "    \n",
    "    Brmueg  =(3.*SM.alpha_em/(4.*16.*np.pi*SM.G_F**2)*np.abs(y[:,0].T*FM*y[:,1].conjugate())**2)[0,0]\n",
    "    Brtaumug=(3.*SM.alpha_em/(4.*16.*np.pi*SM.G_F**2)*np.abs(y[:,1].T*FM*y[:,2].conjugate())**2)[0,0]\n",
    "    if (Brmueg<5.7e-13):\n",
    "       if (Brtaumug<4.5e-8):\n",
    "           const=True\n",
    "\n",
    "    return Brmueg,Brtaumug,const"
   ]
  },
  {
   "cell_type": "code",
   "execution_count": 34,
   "metadata": {
    "collapsed": false
   },
   "outputs": [
    {
     "data": {
      "text/plain": [
       "(0.0, 0.0, True)"
      ]
     },
     "execution_count": 34,
     "metadata": {},
     "output_type": "execute_result"
    }
   ],
   "source": [
    "LFV(SM,dp,y)"
   ]
  },
  {
   "cell_type": "code",
   "execution_count": 8,
   "metadata": {
    "collapsed": false
   },
   "outputs": [
    {
     "name": "stdout",
     "output_type": "stream",
     "text": [
      "expected: 66.0 300.0 300.0\n",
      "obtained: [  66.  300.  300.]\n",
      "Omega h^2, SI proton, neutron = 0.108 8.853e-10 9.03e-10\n",
      "mu2,lambda_3,lambda_4,lambda_5 60.8877419158 2.84678917566 -1.41269458783 -1.41269458783 0.0107\n"
     ]
    }
   ],
   "source": [
    "v=a.vev\n",
    "#lambda_1=0.13\n",
    "ipt=pd.Series({'MHX':66,'MH3':300,'MHC':300,'lambda_L':0.0107}) #Official micromegas/IDM names\n",
    "mu2,lambda_3,lambda_4,lambda_5=phys_to_int(ipt.MHX,ipt.MH3,ipt.MHC,ipt.lambda_L,v)\n",
    "print 'expected:',ipt.MHX,ipt.MH3,ipt.MHC\n",
    "print 'obtained:',int_to_phys(mu2,lambda_3,lambda_4,lambda_5,v)[0]\n",
    "devnull=commands.getoutput('rm -f SPheno.spc.%s' %a.MODEL)\n",
    "a.LHA.blocks['SPHENOINPUT'].entries[55]='0               # Calculate one loop masses'\n",
    "a.LHA.blocks['MINPAR'][3]='%0.8E       #lambda3Input' %lambda_3\n",
    "a.LHA.blocks['MINPAR'][4]='%0.8E       #lambda4Input' %lambda_4\n",
    "a.LHA.blocks['MINPAR'][5]='%0.8E       #lambda5Input' %lambda_5\n",
    "a.LHA.blocks['MINPAR'][6]='%0.8E       #mEt2Input' %mu2\n",
    "moc=a.runmicromegas(Direct_Detection=True)\n",
    "print 'Omega h^2, SI proton, neutron =',a.Series.Omega_h2,a.Series.proton_SI,a.Series.neutron_SI\n",
    "print 'mu2,lambda_3,lambda_4,lambda_5',np.sqrt(mu2),lambda_3,lambda_4,lambda_5,(lambda_3+lambda_4+lambda_5)/2."
   ]
  },
  {
   "cell_type": "markdown",
   "metadata": {},
   "source": [
    "See full `LesHouches.in.SimplifiedDMIDM` and `SPheno.spc.SimplifiedDMIDM` in __Appendix 1__"
   ]
  },
  {
   "cell_type": "markdown",
   "metadata": {},
   "source": [
    "#### BP1 at one loop"
   ]
  },
  {
   "cell_type": "code",
   "execution_count": 20,
   "metadata": {
    "collapsed": false
   },
   "outputs": [
    {
     "name": "stdout",
     "output_type": "stream",
     "text": [
      " expected: 65.0 306.0 306.0\n",
      "obtained: [  65.  306.  306.]\n",
      "Omega h^2, SI proton, neutron = 0.106 5.594e-10 5.741e-10\n",
      "mu2,lambda_3,lambda_4,lambda_5 56.5685424949 2.97106222485 -1.47483111242 -1.47483111242 0.0107\n"
     ]
    }
   ],
   "source": [
    "v=a.vev\n",
    "#lambda_1=0.13\n",
    "ipt=pd.Series({'MHX':65,'MH3':306,'MHC':306,'lambda_L':0.0107}) #Official micromegas/IDM names\n",
    "mu2,lambda_3,lambda_4,lambda_5=phys_to_int(ipt.MHX,ipt.MH3,ipt.MHC,ipt.lambda_L,v)\n",
    "print 'expected:',ipt.MHX,ipt.MH3,ipt.MHC\n",
    "print 'obtained:',int_to_phys(mu2,lambda_3,lambda_4,lambda_5,v)[0]\n",
    "devnull=commands.getoutput('rm -f SPheno.spc.%s' %a.MODEL)\n",
    "a.LHA.blocks['SPHENOINPUT'].entries[55]='1               # Calculate one loop masses'\n",
    "mu2=3200.\n",
    "a.LHA.blocks['MINPAR'][1]='%0.8E       #lambda3Input' %0.082\n",
    "a.LHA.blocks['MINPAR'][2]='%0.8E       #lambda3Input' %0.01\n",
    "a.LHA.blocks['MINPAR'][3]='%0.8E       #lambda3Input' %lambda_3\n",
    "a.LHA.blocks['MINPAR'][4]='%0.8E       #lambda4Input' %lambda_4\n",
    "a.LHA.blocks['MINPAR'][5]='%0.8E       #lambda5Input' %lambda_5\n",
    "a.LHA.blocks['MINPAR'][6]='%0.8E       #mEt2Input' %mu2\n",
    "moc=a.runmicromegas(Direct_Detection=True)\n",
    "print 'Omega h^2, SI proton, neutron =',a.Series.Omega_h2,a.Series.proton_SI,a.Series.neutron_SI\n",
    "print 'mu2,lambda_3,lambda_4,lambda_5',np.sqrt(mu2),lambda_3,lambda_4,lambda_5,(lambda_3+lambda_4+lambda_5)/2."
   ]
  },
  {
   "cell_type": "code",
   "execution_count": 22,
   "metadata": {
    "collapsed": false
   },
   "outputs": [
    {
     "data": {
      "text/plain": [
       "0.106"
      ]
     },
     "execution_count": 22,
     "metadata": {},
     "output_type": "execute_result"
    }
   ],
   "source": [
    "a.Series.Omega_h2"
   ]
  },
  {
   "cell_type": "markdown",
   "metadata": {},
   "source": [
    "###  With the official IDM in micrOMEGAS at \n",
    "[micromegas/IDM](../micromegas/IDM)"
   ]
  },
  {
   "cell_type": "code",
   "execution_count": 23,
   "metadata": {
    "collapsed": false
   },
   "outputs": [
    {
     "name": "stdout",
     "output_type": "stream",
     "text": [
      "Omega h^2, SI proton, neutron= 0.098702 8.287e-10 8.452e-10\n",
      "micrOMEGAS-IDM/SARAH 1.48140865213 1.47221738373\n"
     ]
    }
   ],
   "source": [
    "omhof=run_official_idm_lha(a.LHA_out,check=True)\n",
    "omo=a.micromegas_output(omhof)\n",
    "print 'Omega h^2, SI proton, neutron=',a.micromegas.Omega_h2,a.micromegas.proton_SI,a.micromegas.neutron_SI\n",
    "print 'micrOMEGAS-IDM/SARAH',a.micromegas.proton_SI/a.Series.proton_SI,a.micromegas.neutron_SI/a.Series.neutron_SI"
   ]
  },
  {
   "cell_type": "markdown",
   "metadata": {},
   "source": [
    "See full micromegas input in __Appendix 2__"
   ]
  },
  {
   "cell_type": "markdown",
   "metadata": {},
   "source": [
    "## Scan $m_{H^0}$\n",
    "For the next two plots we fix:\n",
    "* $m_h=126\\ \\text{GeV}  $\n",
    "* $m_{A^0}= 701\\ \\text{GeV}  $\n",
    "* $m_{H^+}= 701\\ \\text{GeV}  $\n",
    "* $\\lambda_L=0.1$\n",
    "\n",
    "And vary \n",
    "* $40< m_{H^0}/\\text{GeV}< 700$"
   ]
  },
  {
   "cell_type": "code",
   "execution_count": 12,
   "metadata": {
    "collapsed": false,
    "scrolled": true
   },
   "outputs": [
    {
     "name": "stdout",
     "output_type": "stream",
     "text": [
      "0\n",
      "10\n",
      "20\n",
      "30\n",
      "40\n",
      "50\n",
      "60\n",
      "70\n",
      "80\n",
      "90\n"
     ]
    }
   ],
   "source": [
    "df=pd.DataFrame()\n",
    "ipt=pd.Series({'MHX':40,'MH3':701,'MHC':701,'lambda_L':0.1})\n",
    "a.LHA.blocks['SPHENOINPUT'].entries[55]='0               # Calculate one loop masses'\n",
    "dm_masses=np.linspace(40,700,100)\n",
    "for MHX in dm_masses:\n",
    "    if np.where(dm_masses==MHX)[0][0]%10==0: #find the index of the array entry\n",
    "        print np.where(dm_masses==MHX)[0][0]\n",
    "    ipt.MHX=MHX\n",
    "    mu2,lambda_3,lambda_4,lambda_5=phys_to_int(ipt.MHX,ipt.MH3,ipt.MHC,ipt.lambda_L,a.vev)\n",
    "    a.LHA.blocks['MINPAR'][5]='%0.8E       #lambda5Input' %lambda_5\n",
    "    a.LHA.blocks['MINPAR'][3]='%0.8E       #lambda4Input' %lambda_3\n",
    "    a.LHA.blocks['MINPAR'][4]='%0.8E       #lambda3Input' %lambda_4\n",
    "    a.LHA.blocks['MINPAR'][6]='%0.8E       #mEt2Input' %mu2\n",
    "    a.runmicromegas(Direct_Detection=True)\n",
    "    a.Series=a.Series.append(ipt)\n",
    "    a.Series=a.Series.append(pd.Series({'MH0':a.LHA_out.blocks['MASS'][35],\\\n",
    "                                        'MA0':a.LHA_out.blocks['MASS'][36],\\\n",
    "                                        'MHc':a.LHA_out.blocks['MASS'][37]}))\n",
    "    omhof=run_official_idm_lha(a.LHA_out,check=True)\n",
    "    omo=a.micromegas_output(omhof)\n",
    "    a.Series['Omega_h2_official']=a.micromegas.Omega_h2\n",
    "    a.Series['proton_SI_official']=a.micromegas.proton_SI\n",
    "    a.Series['neutron_SI_official']=a.micromegas.neutron_SI\n",
    "    df=df.append(a.Series,ignore_index=True)"
   ]
  },
  {
   "cell_type": "markdown",
   "metadata": {},
   "source": [
    "### Relic density"
   ]
  },
  {
   "cell_type": "code",
   "execution_count": 13,
   "metadata": {
    "collapsed": false
   },
   "outputs": [
    {
     "data": {
      "image/png": "[encoded data removed]",
      "text/plain": [
       "<matplotlib.figure.Figure at 0x7f2400b3d890>"
      ]
     },
     "metadata": {},
     "output_type": "display_data"
    }
   ],
   "source": [
    "dfm=df[df.MH0<df.MHc]\n",
    "plt.semilogy(dfm.MH0,dfm.Omega_h2,'ko',label='SARAH')\n",
    "plt.semilogy(dfm.MH0,dfm.Omega_h2_official,'r-',label='micromegas/IDM')\n",
    "plt.xlabel(r'$m_{H^0}$ [GeV]',size=20)\n",
    "plt.ylabel(r'$\\Omega h^2$',size=20)\n",
    "plt.legend(loc='best')\n",
    "plt.savefig('omega.pdf')"
   ]
  },
  {
   "cell_type": "code",
   "execution_count": 14,
   "metadata": {
    "collapsed": false
   },
   "outputs": [
    {
     "data": {
      "image/png": "[encoded data removed]",
      "text/plain": [
       "<matplotlib.figure.Figure at 0x7f2400b3d550>"
      ]
     },
     "metadata": {},
     "output_type": "display_data"
    }
   ],
   "source": [
    "dfm=df[df.MH0<df.MHc]\n",
    "plt.semilogy(dfm.MH0,dfm.proton_SI,'k-',label='SARAH')\n",
    "plt.semilogy(dfm.MH0,dfm.proton_SI_official,'r--',label='micromegas/IDM')\n",
    "plt.xlabel(r'$m_{H^0}$ [GeV]',size=20)\n",
    "plt.ylabel(r'Direct Detection [pb]' ,size=20)\n",
    "plt.legend(loc='best')\n",
    "plt.savefig('dd.pdf')"
   ]
  }
 ],
 "metadata": {
  "kernelspec": {
   "display_name": "Python 2",
   "language": "python",
   "name": "python2"
  },
  "language_info": {
   "codemirror_mode": {
    "name": "ipython",
    "version": 2
   },
   "file_extension": ".py",
   "mimetype": "text/x-python",
   "name": "python",
   "nbconvert_exporter": "python",
   "pygments_lexer": "ipython2",
   "version": "2.7.9"
  }
 },
 "nbformat": 4,
 "nbformat_minor": 0
}
