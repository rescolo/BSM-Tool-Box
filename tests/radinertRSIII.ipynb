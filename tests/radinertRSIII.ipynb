{
 "cells": [
  {
   "cell_type": "markdown",
   "metadata": {},
   "source": [
    "#  Inert doublet model"
   ]
  },
  {
   "cell_type": "markdown",
   "metadata": {},
   "source": [
    "According to this  [bug report](http://stauby.de/sarah_userforum/viewtopic.php?f=5&t=50#p252), we need to change by hand the file [prtcls1.mdl](../micromegas/SimplifiedDMIDM/work/models/prtcls1.mdl) of the `micromegas` model files, to be sure that the DM candidate appears as the first defined $Z_2$-particle. In this case:\n",
    "\n",
    "` etR       |~etR    |~etR    |35 ...\n",
    "etI       |~etI    |~etI    |36 ...\n",
    "etp       |~etp    |~Etp    |37 ...`"
   ]
  },
  {
   "cell_type": "code",
   "execution_count": 2,
   "metadata": {
    "collapsed": false
   },
   "outputs": [
    {
     "name": "stdout",
     "output_type": "stream",
     "text": [
      "Populating the interactive namespace from numpy and matplotlib\n"
     ]
    }
   ],
   "source": [
    "%pylab inline"
   ]
  },
  {
   "cell_type": "code",
   "execution_count": 3,
   "metadata": {
    "collapsed": false
   },
   "outputs": [],
   "source": [
    "import pandas as pd\n",
    "import numpy as np\n",
    "import os, sys, inspect\n",
    "import commands\n",
    "from hep_new import *"
   ]
  },
  {
   "cell_type": "markdown",
   "metadata": {},
   "source": [
    "Define functions to change from general basis to physical basis "
   ]
  },
  {
   "cell_type": "code",
   "execution_count": 4,
   "metadata": {
    "collapsed": false
   },
   "outputs": [],
   "source": [
    "def run_official_idm(MHX,MH3,MHC,laL,la2,Mh,check=False):\n",
    "    pd.Series({'MHX':MHX,'MH3':MH3,'MHC':MHC,'laL':laL,'la2':la2,'Mh':Mh}).to_csv('mo.dat',sep=' ')\n",
    "    omegah2=-1\n",
    "    if os.path.isfile('../micromegas/IDM/main'):\n",
    "        mo=commands.getoutput(\"../micromegas/IDM/main mo.dat\")\n",
    "        \n",
    "    return mo\n",
    "\n",
    "def phys_to_int(mH,mA,mHc,lambda_L,v):\n",
    "    '''\n",
    "    See arXiv:1003.3125\n",
    "    '''\n",
    "    mH2=mH*mH;mA2=mA*mA;mHc2=mHc*mHc;v2=v*v\n",
    "    lambda_5=(mH2-mA2)/v2\n",
    "    mu2=mH2-lambda_L*v2\n",
    "    lambda_3=2.*(mHc2-mu2)/v2\n",
    "    lambda_4=-lambda_3-lambda_5+2*lambda_L\n",
    "    return mu2,lambda_3,lambda_4,lambda_5\n",
    "\n",
    "def int_to_phys(mu2,lambda_3,lambda_4,lambda_5,v):\n",
    "    '''\n",
    "    See arXiv:1003.3125\n",
    "    '''\n",
    "    v2=v*v\n",
    "    tachyons=False\n",
    "    mHc2=mu2+lambda_3*v2/2.\n",
    "    if mHc2<0: tachyons=True\n",
    "    mH2=mu2+(lambda_3+lambda_4+lambda_5)*v2/2.\n",
    "    if mH2<0: tachyons=True\n",
    "    mA2=mu2+(lambda_3+lambda_4-lambda_5)*v2/2.\n",
    "    if mA2<0: tachyons=True\n",
    "    if tachyons: print \"Warning: Tachyionic masses\"\n",
    "    return np.sqrt(np.abs(np.array([mH2,mA2,mHc2]))),(lambda_3+lambda_4+lambda_5)/2 "
   ]
  },
  {
   "cell_type": "markdown",
   "metadata": {},
   "source": [
    "Define function to run official micromegas IDM"
   ]
  },
  {
   "cell_type": "code",
   "execution_count": 5,
   "metadata": {
    "collapsed": true
   },
   "outputs": [],
   "source": [
    "def run_official_idm_lha(spc,check=False):\n",
    "    '''\n",
    "    Standard PDGs for inert scalars\n",
    "    '''\n",
    "    laL=(spc.blocks['MINPAR'][3]+spc.blocks['MINPAR'][4]+spc.blocks['MINPAR'][5])/2.\n",
    "    MHX=spc.blocks['MASS'][35];MH3=spc.blocks['MASS'][36];MHC=spc.blocks['MASS'][37]\n",
    "    la2=spc.blocks['MINPAR'][2];Mh=spc.blocks['MASS'][25]\n",
    "    return run_official_idm(MHX,MH3,MHC,laL,la2,Mh,check=check)"
   ]
  },
  {
   "cell_type": "markdown",
   "metadata": {},
   "source": [
    "\n",
    "## Check one point"
   ]
  },
  {
   "cell_type": "markdown",
   "metadata": {},
   "source": [
    "###  With SARAH implementation\n",
    "Based in [Scotogenic model implementation](https://github.com/restrepo/Scotogenic) by Avelino Vicente. Model files in the [SARAH/Models/SimplifiedDM/IDM](../SARAH/Models/SimplifiedDM/IDM) folder of this repo. We use below the python [hep](./hep.py) module to automalically manage input/output SARAH-Toolbox files (in a similar way to SSP)"
   ]
  },
  {
   "cell_type": "code",
   "execution_count": 6,
   "metadata": {
    "collapsed": false
   },
   "outputs": [],
   "source": [
    "a=hep(MODEL='radinertRSIII')"
   ]
  },
  {
   "cell_type": "markdown",
   "metadata": {},
   "source": [
    "`a-object` is an object with many attributes and methods. Use the tab to explore them. Some of them are\n",
    "* a.Series: [pandas](http://pandas.pydata.org/) Series object with the \"relevant\" variables \n",
    "* a.LHA: Input LesHouces file as [pyslha](https://pypi.python.org/pypi/pyslha/) object\n",
    "* a.runSPheno() -> a.LHA_out: return LHA output files as [pyslha](https://pypi.python.org/pypi/pyslha/) object\n",
    "* a.runmicromegas() -> a.runSPheno() -> Updated the `a-object`  with micrOMEGAS \"relevant\" output"
   ]
  },
  {
   "cell_type": "markdown",
   "metadata": {},
   "source": [
    "#### Benchmark BP1\n",
    "from [arXiv:1504.05949](http://arxiv.org/pdf/1504.05949v3.pdf). See also: [arXiv:1207.0084](https://arxiv.org/pdf/1207.0084v2.pdf)"
   ]
  },
  {
   "cell_type": "code",
   "execution_count": 7,
   "metadata": {
    "collapsed": false
   },
   "outputs": [
    {
     "data": {
      "text/plain": [
       "1    1.3000000E-01   # lambda1Input\n",
       "2    0.0000000E+00   # lambda2Input\n",
       "3    0.0000000E+00   # lambda3Input\n",
       "4    0.0000000E+00   # lambda4Input\n",
       "5    -1.0000000E-05  # lambda5Input\n",
       "6       1.0000000E+04   # mEt2Input\n",
       "dtype: object"
      ]
     },
     "execution_count": 7,
     "metadata": {},
     "output_type": "execute_result"
    }
   ],
   "source": [
    "pd.Series(a.LHA.blocks['MINPAR'].entries)"
   ]
  },
  {
   "cell_type": "code",
   "execution_count": 8,
   "metadata": {
    "collapsed": false
   },
   "outputs": [
    {
     "name": "stdout",
     "output_type": "stream",
     "text": [
      "expected: 60.0 300.0 300.0\n",
      "obtained: [  60.  300.  300.]\n",
      "Omega h^2, SI proton, neutron ="
     ]
    },
    {
     "ename": "AttributeError",
     "evalue": "'Series' object has no attribute 'Omega_h2'",
     "output_type": "error",
     "traceback": [
      "\u001b[1;31m---------------------------------------------------------------------------\u001b[0m",
      "\u001b[1;31mAttributeError\u001b[0m                            Traceback (most recent call last)",
      "\u001b[1;32m<ipython-input-8-3636729d7143>\u001b[0m in \u001b[0;36m<module>\u001b[1;34m()\u001b[0m\n\u001b[0;32m     13\u001b[0m \u001b[0ma\u001b[0m\u001b[1;33m.\u001b[0m\u001b[0mLHA\u001b[0m\u001b[1;33m.\u001b[0m\u001b[0mblocks\u001b[0m\u001b[1;33m[\u001b[0m\u001b[1;34m'MINPAR'\u001b[0m\u001b[1;33m]\u001b[0m\u001b[1;33m[\u001b[0m\u001b[1;36m6\u001b[0m\u001b[1;33m]\u001b[0m\u001b[1;33m=\u001b[0m\u001b[1;34m'%0.8E       #mEt2Input'\u001b[0m \u001b[1;33m%\u001b[0m\u001b[0mmu2\u001b[0m\u001b[1;33m\u001b[0m\u001b[0m\n\u001b[0;32m     14\u001b[0m \u001b[0mmoc\u001b[0m\u001b[1;33m=\u001b[0m\u001b[0ma\u001b[0m\u001b[1;33m.\u001b[0m\u001b[0mrunmicromegas\u001b[0m\u001b[1;33m(\u001b[0m\u001b[0mDirect_Detection\u001b[0m\u001b[1;33m=\u001b[0m\u001b[0mTrue\u001b[0m\u001b[1;33m)\u001b[0m\u001b[1;33m\u001b[0m\u001b[0m\n\u001b[1;32m---> 15\u001b[1;33m \u001b[1;32mprint\u001b[0m \u001b[1;34m'Omega h^2, SI proton, neutron ='\u001b[0m\u001b[1;33m,\u001b[0m\u001b[0ma\u001b[0m\u001b[1;33m.\u001b[0m\u001b[0mSeries\u001b[0m\u001b[1;33m.\u001b[0m\u001b[0mOmega_h2\u001b[0m\u001b[1;33m,\u001b[0m\u001b[0ma\u001b[0m\u001b[1;33m.\u001b[0m\u001b[0mSeries\u001b[0m\u001b[1;33m.\u001b[0m\u001b[0mproton_SI\u001b[0m\u001b[1;33m,\u001b[0m\u001b[0ma\u001b[0m\u001b[1;33m.\u001b[0m\u001b[0mSeries\u001b[0m\u001b[1;33m.\u001b[0m\u001b[0mneutron_SI\u001b[0m\u001b[1;33m\u001b[0m\u001b[0m\n\u001b[0m\u001b[0;32m     16\u001b[0m \u001b[1;32mprint\u001b[0m \u001b[1;34m'mu2,lambda_3,lambda_4,lambda_5'\u001b[0m\u001b[1;33m,\u001b[0m\u001b[0mmu2\u001b[0m\u001b[1;33m,\u001b[0m\u001b[0mlambda_3\u001b[0m\u001b[1;33m,\u001b[0m\u001b[0mlambda_4\u001b[0m\u001b[1;33m,\u001b[0m\u001b[0mlambda_5\u001b[0m\u001b[1;33m,\u001b[0m\u001b[1;33m(\u001b[0m\u001b[0mlambda_3\u001b[0m\u001b[1;33m+\u001b[0m\u001b[0mlambda_4\u001b[0m\u001b[1;33m+\u001b[0m\u001b[0mlambda_5\u001b[0m\u001b[1;33m)\u001b[0m\u001b[1;33m/\u001b[0m\u001b[1;36m2.\u001b[0m\u001b[1;33m\u001b[0m\u001b[0m\n",
      "\u001b[1;32m/usr/local/lib/python2.7/dist-packages/pandas/core/generic.pyc\u001b[0m in \u001b[0;36m__getattr__\u001b[1;34m(self, name)\u001b[0m\n\u001b[0;32m   2358\u001b[0m                 \u001b[1;32mreturn\u001b[0m \u001b[0mself\u001b[0m\u001b[1;33m[\u001b[0m\u001b[0mname\u001b[0m\u001b[1;33m]\u001b[0m\u001b[1;33m\u001b[0m\u001b[0m\n\u001b[0;32m   2359\u001b[0m             raise AttributeError(\"'%s' object has no attribute '%s'\" %\n\u001b[1;32m-> 2360\u001b[1;33m                                  (type(self).__name__, name))\n\u001b[0m\u001b[0;32m   2361\u001b[0m \u001b[1;33m\u001b[0m\u001b[0m\n\u001b[0;32m   2362\u001b[0m     \u001b[1;32mdef\u001b[0m \u001b[0m__setattr__\u001b[0m\u001b[1;33m(\u001b[0m\u001b[0mself\u001b[0m\u001b[1;33m,\u001b[0m \u001b[0mname\u001b[0m\u001b[1;33m,\u001b[0m \u001b[0mvalue\u001b[0m\u001b[1;33m)\u001b[0m\u001b[1;33m:\u001b[0m\u001b[1;33m\u001b[0m\u001b[0m\n",
      "\u001b[1;31mAttributeError\u001b[0m: 'Series' object has no attribute 'Omega_h2'"
     ]
    }
   ],
   "source": [
    "v=a.vev\n",
    "#lambda_1=0.13\n",
    "ipt=pd.Series({'MHX':60,'MH3':300,'MHC':300,'lambda_L':0.3}) #Official micromegas/IDM names\n",
    "mu2,lambda_3,lambda_4,lambda_5=phys_to_int(ipt.MHX,ipt.MH3,ipt.MHC,ipt.lambda_L,v)\n",
    "print 'expected:',ipt.MHX,ipt.MH3,ipt.MHC\n",
    "print 'obtained:',int_to_phys(mu2,lambda_3,lambda_4,lambda_5,v)[0]\n",
    "devnull=commands.getoutput('rm -f SPheno.spc.%s' %a.MODEL)\n",
    "a.LHA.blocks['SPHENOINPUT'].entries[55]='0               # Calculate one loop masses'\n",
    "a.LHA.blocks['SPHENOINPUT'].entries[520]='0.             # Write effective Higgs couplings (HiggsBounds blocks): put 0 to use file with MadGraph! '\n",
    "a.LHA.blocks['MINPAR'][3]='%0.8E       #lambda3Input' %lambda_3\n",
    "a.LHA.blocks['MINPAR'][4]='%0.8E       #lambda4Input' %lambda_4\n",
    "a.LHA.blocks['MINPAR'][5]='%0.8E       #lambda5Input' %lambda_5\n",
    "a.LHA.blocks['MINPAR'][6]='%0.8E       #mEt2Input' %mu2\n",
    "moc=a.runmicromegas(Direct_Detection=True)\n",
    "print 'Omega h^2, SI proton, neutron =',a.Series.Omega_h2,a.Series.proton_SI,a.Series.neutron_SI\n",
    "print 'mu2,lambda_3,lambda_4,lambda_5',mu2,lambda_3,lambda_4,lambda_5,(lambda_3+lambda_4+lambda_5)/2."
   ]
  },
  {
   "cell_type": "code",
   "execution_count": 11,
   "metadata": {
    "collapsed": false
   },
   "outputs": [
    {
     "data": {
      "text/plain": [
       "'PROCESS: ~etR,~etR->AllEven,1*x{h,g,A,Z,Wp,Wm,nu1,nu2,nu3,d1,D1,d2,D2,d3,D3,u1,U1,u2,U2,u3,U3,e1,E1,e2,E2,e3,E3\\nmv: cannot move \\xe2\\x80\\x98omg_p2p2.so\\xe2\\x80\\x99 to \\xe2\\x80\\x98/home/restrepo/prog/toolbox/toolbox/micromegas/radinertRSIII/work/so_generated/omg_p2p2.so\\xe2\\x80\\x99: No such file or directory\\nSegmentation fault'"
      ]
     },
     "execution_count": 11,
     "metadata": {},
     "output_type": "execute_result"
    }
   ],
   "source": [
    "a.runmicromegas(Direct_Detection=True)"
   ]
  },
  {
   "cell_type": "code",
   "execution_count": 9,
   "metadata": {
    "collapsed": false
   },
   "outputs": [
    {
     "data": {
      "text/plain": [
       "GFFermiconstant                0.000012\n",
       "Zbosonpolemass                91.188700\n",
       "alphasMZSMMSbar                0.118700\n",
       "mbmbSMMSbar                    4.180000\n",
       "mtaupole                       1.776690\n",
       "mtoppole                     173.500000\n",
       "lambda1                        0.130000\n",
       "lambda2                        0.000000\n",
       "lambda3                        3.450330\n",
       "lambda4                       -1.425165\n",
       "lambda5                       -1.425165\n",
       "mEt2                      -14587.370600\n",
       "MTF11                       1000.000000\n",
       "MTF12                          0.000000\n",
       "MTF13                          0.000000\n",
       "MTF21                          0.000000\n",
       "MTF22                       1000.000000\n",
       "MTF23                          0.000000\n",
       "MTF31                          0.000000\n",
       "MTF32                          0.000000\n",
       "MTF33                       1000.000000\n",
       "Yn11                           0.000010\n",
       "Yn12                           0.000000\n",
       "Yn13                           0.000000\n",
       "Yn21                           0.000000\n",
       "Yn22                           0.000010\n",
       "Yn23                           0.000000\n",
       "Yn31                           0.000000\n",
       "Yn32                           0.000000\n",
       "Yn33                           0.000010\n",
       "O_chnl:~Ss ~Ss -> e1 E1        1.000000\n",
       "dtype: float64"
      ]
     },
     "execution_count": 9,
     "metadata": {},
     "output_type": "execute_result"
    },
    {
     "name": "stdout",
     "output_type": "stream",
     "text": [
      "\n"
     ]
    }
   ],
   "source": [
    "a.Series"
   ]
  },
  {
   "cell_type": "markdown",
   "metadata": {},
   "source": [
    "##  Check $\\mu \\to e \\gamma$"
   ]
  },
  {
   "cell_type": "code",
   "execution_count": 27,
   "metadata": {
    "collapsed": false
   },
   "outputs": [],
   "source": [
    "SM={'G_F': 1.166e-05, 'alpha_em': 0.0078125, 'm_e': 0.000511, \\\n",
    "                'm_mu': 0.1057, 'm_tau': 1.777, 'vev': 246.0, \\\n",
    "                'MW': 80.385, 'MZ': 91.1876, 'WH':4.21e-3,'m_pi0':134.9766E-3,\\\n",
    "                'm_pipm':139.57018E-3,'hbarc':1.973269631E-16,'V_ud':0.97425,\\\n",
    "                'f_pi':131E-3}\n",
    "def Fme(x,xmin=0.996,xmax=1.005,xfit=1.001):\n",
    "    \"\"\"Fixing near to one values\n",
    "     xmin: close to 1 from below\n",
    "     xmax: close to 1 from above\n",
    "     xfit:  optimized 1 limit\n",
    "    \"\"\"\n",
    "    x=np.asarray(x)\n",
    "    if x.shape:\n",
    "        x[np.logical_and(x>xmin,x<xmax)]=xfit\n",
    "    else:\n",
    "        if x>xmin and x<xmax:\n",
    "            x=xfit\n",
    "        \n",
    "    return (1.-6.*x+3.*x**2+2.*x**3-6*x**2*np.log(x))/(6.*(x-1.)**4)\n",
    "\n",
    "def LFV(SM,dp,yuk):\n",
    "    '''Oscar Notes with \\pi^2 -> \\pi\n",
    "    '''\n",
    "    import numpy as np\n",
    "    const=False\n",
    "    SM=pd.Series(SM)\n",
    "    y=np.matrix(yuk)\n",
    "    \n",
    "    dp=pd.Series(dp)\n",
    "    FMl=[]\n",
    "    for i in range(1,4):\n",
    "        dp['Mtrp%d' %i]=dp['Mtr0%d' %i] #degenerate fermions\n",
    "        FMl.append(1./(dp.MHC**2)*Fme(dp['Mtr0%d' %i]**2/dp.MHC**2)\\\n",
    "                   -1./(dp['Mtr0%d' %i]**2)*( Fme(dp.MH0**2/dp['Mtrp%d' %i]**2)\\\n",
    "                                            + Fme(dp.MA0**2/dp['Mtrp%d' %i]**2)   )  )\n",
    "    FM=np.matrix(np.diag(FMl))\n",
    "    \n",
    "    Brmueg  =(3.*SM.alpha_em/(4.*16.*np.pi*SM.G_F**2)*np.abs(y[:,0].T*FM*y[:,1].conjugate())**2)[0,0]\n",
    "    Brtaumug=(3.*SM.alpha_em/(4.*16.*np.pi*SM.G_F**2)*np.abs(y[:,1].T*FM*y[:,2].conjugate())**2)[0,0]\n",
    "    if (Brmueg<5.7e-13):\n",
    "       if (Brtaumug<4.5e-8):\n",
    "           const=True\n",
    "\n",
    "    return Brmueg,Brtaumug,const"
   ]
  },
  {
   "cell_type": "code",
   "execution_count": 33,
   "metadata": {
    "collapsed": true
   },
   "outputs": [],
   "source": [
    "def lfvin(spc):\n",
    "    dp=pd.Series()\n",
    "    y=np.zeros((3,3))\n",
    "    for i in range(1,4):\n",
    "        dp['Mtr0%d' %i]=eval(spc.blocks['MASS'].entries[6000056+i])\n",
    "\n",
    "    for i in range(3): \n",
    "        for j in range(3): \n",
    "            y[i,j]=eval(spc.blocks['YN'].entries[i+1,j+1])\n",
    "\n",
    "\n",
    "    dp['MH0']=eval(spc.blocks['MASS'].entries[35])\n",
    "    dp['MA0']=eval(spc.blocks['MASS'].entries[36])\n",
    "    dp['MHC']=eval(spc.blocks['MASS'].entries[37])\n",
    "    return dp,y"
   ]
  },
  {
   "cell_type": "code",
   "execution_count": 67,
   "metadata": {
    "collapsed": false
   },
   "outputs": [
    {
     "data": {
      "text/plain": [
       "<PySLHA Doc: 33 blocks, 24 decays, 0 xsections>"
      ]
     },
     "execution_count": 67,
     "metadata": {},
     "output_type": "execute_result"
    }
   ],
   "source": [
    "a=hep(MODEL='radinertRSIII',spc_input_file='LesHouches.in.radinertRSIII')\n",
    "a.runSPheno()"
   ]
  },
  {
   "cell_type": "code",
   "execution_count": 68,
   "metadata": {
    "collapsed": false
   },
   "outputs": [
    {
     "data": {
      "text/plain": [
       "(1.8575984851104539e-25, 3.0751963715623622e-25, True)"
      ]
     },
     "execution_count": 68,
     "metadata": {},
     "output_type": "execute_result"
    }
   ],
   "source": [
    "dp,y=lfvin(a.LHA_out_with_comments)\n",
    "LFV(SM,dp,y)"
   ]
  },
  {
   "cell_type": "code",
   "execution_count": 69,
   "metadata": {
    "collapsed": false
   },
   "outputs": [
    {
     "data": {
      "text/plain": [
       "(2.4170390547664699e-25, 3.5361645120769403e-25, True)"
      ]
     },
     "execution_count": 69,
     "metadata": {},
     "output_type": "execute_result"
    }
   ],
   "source": [
    "LFV(SM,dp,y.transpose())"
   ]
  },
  {
   "cell_type": "code",
   "execution_count": 70,
   "metadata": {
    "collapsed": false
   },
   "outputs": [
    {
     "data": {
      "text/plain": [
       "'4.32974619E-26  # BR(mu->e gamma)'"
      ]
     },
     "execution_count": 70,
     "metadata": {},
     "output_type": "execute_result"
    }
   ],
   "source": [
    "a.LHA_out_with_comments.blocks['FLAVORKITLFV'].entries[701]"
   ]
  },
  {
   "cell_type": "code",
   "execution_count": 56,
   "metadata": {
    "collapsed": false
   },
   "outputs": [
    {
     "name": "stdout",
     "output_type": "stream",
     "text": [
      "0\n",
      "10\n",
      "20\n",
      "30\n",
      "40\n",
      "50\n",
      "60\n",
      "70\n",
      "80\n",
      "90\n"
     ]
    }
   ],
   "source": [
    "commands.getoutput('cp LesHouches.in.FT_SD_3gen LesHouches.in.radinertRSIII')\n",
    "a=hep(MODEL='radinertRSIII',spc_input_file='LesHouches.in.radinertRSIII')\n",
    "df=pd.DataFrame()\n",
    "a.LHA.blocks['SPHENOINPUT'].entries[55]='0               # Calculate one loop masses'\n",
    "dm_masses=np.logspace(np.log10(2E3),np.log10(1E6),100)\n",
    "for MHX in dm_masses:\n",
    "    if np.where(dm_masses==MHX)[0][0]%10==0: #find the index of the array entry\n",
    "        print np.where(dm_masses==MHX)[0][0]\n",
    "    a.LHA.blocks['MINPAR'][6]='%0.8E  # mEt2' %MHX\n",
    "    a.runSPheno()\n",
    "    dp,y=lfvin(a.LHA_out_with_comments)\n",
    "    a.Series=a.Series.append(pd.Series({'muegamma_analy':LFV(SM,dp,y)[0],'muegamma_analyT':LFV(SM,dp,y.transpose())[0],\\\n",
    "                                         'muegamma':eval(a.LHA_out_with_comments.blocks['FLAVORKITLFV'].entries[701])}))\n",
    "    df=df.append(a.Series,ignore_index=True)"
   ]
  },
  {
   "cell_type": "code",
   "execution_count": 62,
   "metadata": {
    "collapsed": false
   },
   "outputs": [
    {
     "data": {
      "text/plain": [
       "[<matplotlib.lines.Line2D at 0x7fdd0119aed0>]"
      ]
     },
     "execution_count": 62,
     "metadata": {},
     "output_type": "execute_result"
    },
    {
     "data": {
      "image/png": "[encoded data removed]",
      "text/plain": [
       "<matplotlib.figure.Figure at 0x7fdd013278d0>"
      ]
     },
     "metadata": {},
     "output_type": "display_data"
    }
   ],
   "source": [
    "plt.loglog(df.mEt2,df.muegamma,'k-')\n",
    "plt.loglog(df.mEt2,df.muegamma_analy/4.,'r-')\n",
    "plt.loglog(df.mEt2,df.muegamma_analyT/4.,'b-')"
   ]
  },
  {
   "cell_type": "code",
   "execution_count": 94,
   "metadata": {
    "collapsed": false
   },
   "outputs": [
    {
     "name": "stdout",
     "output_type": "stream",
     "text": [
      "0\n",
      "10\n",
      "20\n",
      "30\n",
      "40\n",
      "50\n",
      "60\n",
      "70\n",
      "80\n",
      "90\n"
     ]
    }
   ],
   "source": [
    "commands.getoutput('cp LesHouches.in.FT_SD_3gen LesHouches.in.radinertRSIII')\n",
    "a=hep(MODEL='radinertRSIII',spc_input_file='LesHouches.in.radinertRSIII')\n",
    "df=pd.DataFrame()\n",
    "a.LHA.blocks['SPHENOINPUT'].entries[55]='0               # Calculate one loop masses'\n",
    "dm_masses=np.logspace(np.log10(1E-6),np.log10(1E-0),100)\n",
    "for MHX in dm_masses:\n",
    "    if np.where(dm_masses==MHX)[0][0]%10==0: #find the index of the array entry\n",
    "        print np.where(dm_masses==MHX)[0][0]\n",
    "    a.LHA.blocks['YNIN'][1,2]='-%0.8E  # Yn(1,2)' %MHX\n",
    "    a.runSPheno()\n",
    "    dp,y=lfvin(a.LHA_out_with_comments)\n",
    "    a.Series=a.Series.append(pd.Series({'muegamma_analy':LFV(SM,dp,y)[0],'muegamma_analyT':LFV(SM,dp,y.transpose())[0],\\\n",
    "                                         'muegamma':eval(a.LHA_out_with_comments.blocks['FLAVORKITLFV'].entries[701])}))\n",
    "    df=df.append(a.Series,ignore_index=True)"
   ]
  },
  {
   "cell_type": "code",
   "execution_count": 100,
   "metadata": {
    "collapsed": false
   },
   "outputs": [
    {
     "data": {
      "text/plain": [
       "[<matplotlib.lines.Line2D at 0x7fdd06413e50>]"
      ]
     },
     "execution_count": 100,
     "metadata": {},
     "output_type": "execute_result"
    },
    {
     "data": {
      "image/png": "[encoded data removed]",
      "text/plain": [
       "<matplotlib.figure.Figure at 0x7fdd067a46d0>"
      ]
     },
     "metadata": {},
     "output_type": "display_data"
    }
   ],
   "source": [
    "plt.loglog(np.abs(df.Yn12),df.muegamma,'k-')\n",
    "plt.loglog(np.abs(df.Yn12),df.muegamma_analy/4.,'r-')"
   ]
  },
  {
   "cell_type": "code",
   "execution_count": 63,
   "metadata": {
    "collapsed": false
   },
   "outputs": [
    {
     "data": {
      "text/plain": [
       "YNIN { 1,1 : -1.05672272E-05 # Yn(1,1); 1,2 : -1.63235942E-05 # Yn(1,2); 1,3 : -2.40844462E-05 # Yn(1,3); 2,1 : -2.09582329E-05 # Yn(2,1); 2,2 : -1.32799561E-05 # Yn(2,2); 2,3 : 1.81823563E-05  # Yn(2,3); 3,1 : -2.08394437E-05 # Yn(3,1); 3,2 : 2.36244603E-05  # Yn(3,2); 3,3 : -6.77403648E-06 # Yn(3,3) }"
      ]
     },
     "execution_count": 63,
     "metadata": {},
     "output_type": "execute_result"
    }
   ],
   "source": [
    "commands.getoutput('cp LesHouches.in.FT_SD_3gen LesHouches.in.radinertRSIII')\n",
    "a=hep(MODEL='radinertRSIII',spc_input_file='LesHouches.in.radinertRSIII')\n",
    "df=pd.DataFrame()\n",
    "a.LHA.blocks['SPHENOINPUT'].entries[55]='0               # Calculate one loop masses'\n",
    "dm_masses=np.logspace(np.log10(100),np.log10(1E5),100)\n",
    "for MHX in dm_masses:\n",
    "    if np.where(dm_masses==MHX)[0][0]%10==0: #find the index of the array entry\n",
    "        print np.where(dm_masses==MHX)[0][0]\n",
    "    a.LHA.blocks['MTFIN'][1,1]='%0.8E  # MTF(1,1)' %MHX\n",
    "    a.LHA.blocks['MTFIN'][2,2]='%0.8E  # MTF(2,2)' %(MHX+1000)\n",
    "    a.LHA.blocks['MTFIN'][3,3]='%0.8E  # MTF(3,3)' %(MHX+2000)\n",
    "    a.runSPheno()\n",
    "    dp,y=lfvin(a.LHA_out_with_comments)\n",
    "    a.Series=a.Series.append(pd.Series({'muegamma_analy':LFV(SM,dp,y)[0],'muegamma_analyT':LFV(SM,dp,y.transpose())[0],\\\n",
    "                                         'muegamma':eval(a.LHA_out_with_comments.blocks['FLAVORKITLFV'].entries[701])}))\n",
    "    df=df.append(a.Series,ignore_index=True)"
   ]
  },
  {
   "cell_type": "markdown",
   "metadata": {},
   "source": [
    "#### BP1 at one loop"
   ]
  },
  {
   "cell_type": "code",
   "execution_count": 20,
   "metadata": {
    "collapsed": false
   },
   "outputs": [
    {
     "name": "stdout",
     "output_type": "stream",
     "text": [
      " expected: 65.0 306.0 306.0\n",
      "obtained: [  65.  306.  306.]\n",
      "Omega h^2, SI proton, neutron = 0.106 5.594e-10 5.741e-10\n",
      "mu2,lambda_3,lambda_4,lambda_5 56.5685424949 2.97106222485 -1.47483111242 -1.47483111242 0.0107\n"
     ]
    }
   ],
   "source": [
    "v=a.vev\n",
    "#lambda_1=0.13\n",
    "ipt=pd.Series({'MHX':65,'MH3':306,'MHC':306,'lambda_L':0.0107}) #Official micromegas/IDM names\n",
    "mu2,lambda_3,lambda_4,lambda_5=phys_to_int(ipt.MHX,ipt.MH3,ipt.MHC,ipt.lambda_L,v)\n",
    "print 'expected:',ipt.MHX,ipt.MH3,ipt.MHC\n",
    "print 'obtained:',int_to_phys(mu2,lambda_3,lambda_4,lambda_5,v)[0]\n",
    "devnull=commands.getoutput('rm -f SPheno.spc.%s' %a.MODEL)\n",
    "a.LHA.blocks['SPHENOINPUT'].entries[55]='1               # Calculate one loop masses'\n",
    "mu2=3200.\n",
    "a.LHA.blocks['MINPAR'][1]='%0.8E       #lambda3Input' %0.082\n",
    "a.LHA.blocks['MINPAR'][2]='%0.8E       #lambda3Input' %0.01\n",
    "a.LHA.blocks['MINPAR'][3]='%0.8E       #lambda3Input' %lambda_3\n",
    "a.LHA.blocks['MINPAR'][4]='%0.8E       #lambda4Input' %lambda_4\n",
    "a.LHA.blocks['MINPAR'][5]='%0.8E       #lambda5Input' %lambda_5\n",
    "a.LHA.blocks['MINPAR'][6]='%0.8E       #mEt2Input' %mu2\n",
    "moc=a.runmicromegas(Direct_Detection=True)\n",
    "print 'Omega h^2, SI proton, neutron =',a.Series.Omega_h2,a.Series.proton_SI,a.Series.neutron_SI\n",
    "print 'mu2,lambda_3,lambda_4,lambda_5',np.sqrt(mu2),lambda_3,lambda_4,lambda_5,(lambda_3+lambda_4+lambda_5)/2."
   ]
  },
  {
   "cell_type": "code",
   "execution_count": 22,
   "metadata": {
    "collapsed": false
   },
   "outputs": [
    {
     "data": {
      "text/plain": [
       "0.106"
      ]
     },
     "execution_count": 22,
     "metadata": {},
     "output_type": "execute_result"
    }
   ],
   "source": [
    "a.Series.Omega_h2"
   ]
  },
  {
   "cell_type": "markdown",
   "metadata": {},
   "source": [
    "###  With the official IDM in micrOMEGAS at \n",
    "[micromegas/IDM](../micromegas/IDM)"
   ]
  },
  {
   "cell_type": "code",
   "execution_count": 23,
   "metadata": {
    "collapsed": false
   },
   "outputs": [
    {
     "name": "stdout",
     "output_type": "stream",
     "text": [
      "Omega h^2, SI proton, neutron= 0.098702 8.287e-10 8.452e-10\n",
      "micrOMEGAS-IDM/SARAH 1.48140865213 1.47221738373\n"
     ]
    }
   ],
   "source": [
    "omhof=run_official_idm_lha(a.LHA_out,check=True)\n",
    "omo=a.micromegas_output(omhof)\n",
    "print 'Omega h^2, SI proton, neutron=',a.micromegas.Omega_h2,a.micromegas.proton_SI,a.micromegas.neutron_SI\n",
    "print 'micrOMEGAS-IDM/SARAH',a.micromegas.proton_SI/a.Series.proton_SI,a.micromegas.neutron_SI/a.Series.neutron_SI"
   ]
  },
  {
   "cell_type": "markdown",
   "metadata": {},
   "source": [
    "See full micromegas input in __Appendix 2__"
   ]
  },
  {
   "cell_type": "markdown",
   "metadata": {},
   "source": [
    "## Scan $m_{H^0}$\n",
    "For the next two plots we fix:\n",
    "* $m_h=126\\ \\text{GeV}  $\n",
    "* $m_{A^0}= 701\\ \\text{GeV}  $\n",
    "* $m_{H^+}= 701\\ \\text{GeV}  $\n",
    "* $\\lambda_L=0.1$\n",
    "\n",
    "And vary \n",
    "* $40< m_{H^0}/\\text{GeV}< 700$"
   ]
  },
  {
   "cell_type": "code",
   "execution_count": 12,
   "metadata": {
    "collapsed": false,
    "scrolled": true
   },
   "outputs": [
    {
     "name": "stdout",
     "output_type": "stream",
     "text": [
      "0\n",
      "10\n",
      "20\n",
      "30\n",
      "40\n",
      "50\n",
      "60\n",
      "70\n",
      "80\n",
      "90\n"
     ]
    }
   ],
   "source": [
    "df=pd.DataFrame()\n",
    "ipt=pd.Series({'MHX':40,'MH3':701,'MHC':701,'lambda_L':0.1})\n",
    "a.LHA.blocks['SPHENOINPUT'].entries[55]='0               # Calculate one loop masses'\n",
    "dm_masses=np.linspace(40,700,100)\n",
    "for MHX in dm_masses:\n",
    "    if np.where(dm_masses==MHX)[0][0]%10==0: #find the index of the array entry\n",
    "        print np.where(dm_masses==MHX)[0][0]\n",
    "    ipt.MHX=MHX\n",
    "    mu2,lambda_3,lambda_4,lambda_5=phys_to_int(ipt.MHX,ipt.MH3,ipt.MHC,ipt.lambda_L,a.vev)\n",
    "    a.LHA.blocks['MINPAR'][5]='%0.8E       #lambda5Input' %lambda_5\n",
    "    a.LHA.blocks['MINPAR'][3]='%0.8E       #lambda4Input' %lambda_3\n",
    "    a.LHA.blocks['MINPAR'][4]='%0.8E       #lambda3Input' %lambda_4\n",
    "    a.LHA.blocks['MINPAR'][6]='%0.8E       #mEt2Input' %mu2\n",
    "    a.runmicromegas(Direct_Detection=True)\n",
    "    a.Series=a.Series.append(ipt)\n",
    "    a.Series=a.Series.append(pd.Series({'MH0':a.LHA_out.blocks['MASS'][35],\\\n",
    "                                        'MA0':a.LHA_out.blocks['MASS'][36],\\\n",
    "                                        'MHc':a.LHA_out.blocks['MASS'][37]}))\n",
    "    omhof=run_official_idm_lha(a.LHA_out,check=True)\n",
    "    omo=a.micromegas_output(omhof)\n",
    "    a.Series['Omega_h2_official']=a.micromegas.Omega_h2\n",
    "    a.Series['proton_SI_official']=a.micromegas.proton_SI\n",
    "    a.Series['neutron_SI_official']=a.micromegas.neutron_SI\n",
    "    df=df.append(a.Series,ignore_index=True)"
   ]
  },
  {
   "cell_type": "markdown",
   "metadata": {},
   "source": [
    "### Relic density"
   ]
  },
  {
   "cell_type": "code",
   "execution_count": 13,
   "metadata": {
    "collapsed": false
   },
   "outputs": [
    {
     "data": {
      "image/png": "[encoded data removed]",
      "text/plain": [
       "<matplotlib.figure.Figure at 0x7f2400b3d890>"
      ]
     },
     "metadata": {},
     "output_type": "display_data"
    }
   ],
   "source": [
    "dfm=df[df.MH0<df.MHc]\n",
    "plt.semilogy(dfm.MH0,dfm.Omega_h2,'ko',label='SARAH')\n",
    "plt.semilogy(dfm.MH0,dfm.Omega_h2_official,'r-',label='micromegas/IDM')\n",
    "plt.xlabel(r'$m_{H^0}$ [GeV]',size=20)\n",
    "plt.ylabel(r'$\\Omega h^2$',size=20)\n",
    "plt.legend(loc='best')\n",
    "plt.savefig('omega.pdf')"
   ]
  },
  {
   "cell_type": "code",
   "execution_count": 14,
   "metadata": {
    "collapsed": false
   },
   "outputs": [
    {
     "data": {
      "image/png": "[encoded data removed]",
      "text/plain": [
       "<matplotlib.figure.Figure at 0x7f2400b3d550>"
      ]
     },
     "metadata": {},
     "output_type": "display_data"
    }
   ],
   "source": [
    "dfm=df[df.MH0<df.MHc]\n",
    "plt.semilogy(dfm.MH0,dfm.proton_SI,'k-',label='SARAH')\n",
    "plt.semilogy(dfm.MH0,dfm.proton_SI_official,'r--',label='micromegas/IDM')\n",
    "plt.xlabel(r'$m_{H^0}$ [GeV]',size=20)\n",
    "plt.ylabel(r'Direct Detection [pb]' ,size=20)\n",
    "plt.legend(loc='best')\n",
    "plt.savefig('dd.pdf')"
   ]
  },
  {
   "cell_type": "markdown",
   "metadata": {},
   "source": [
    "## Casas ibarra"
   ]
  },
  {
   "cell_type": "code",
   "execution_count": null,
   "metadata": {
    "collapsed": true
   },
   "outputs": [],
   "source": [
    "def Lambda(LHA_out):\n",
    "    '''Loop funtion, defined for each neutral triplet component\n",
    "    The input must be a pyslha object'''\n",
    "    mH0=LHA_out.blocks['MASS'][35]\n",
    "    mA0=LHA_out.blocks['MASS'][36]\n",
    "    Mk=np.asarray([LHA_out.blocks['MASS'][1012],LHA_out.blocks['MASS'][1014],LHA_out.blocks['MASS'][1016]])\n",
    "    return ( Mk/(16*pi**2))*((mH0**2/(mH0**2-Mk**2))*np.log(mH0**2/Mk**2)\\\n",
    "                                    -(mA0**2/(mA0**2-Mk**2))*np.log(mA0**2/Mk**2) )/2. #Fix error! \n"
   ]
  }
 ],
 "metadata": {
  "kernelspec": {
   "display_name": "Python 2",
   "language": "python",
   "name": "python2"
  },
  "language_info": {
   "codemirror_mode": {
    "name": "ipython",
    "version": 2
   },
   "file_extension": ".py",
   "mimetype": "text/x-python",
   "name": "python",
   "nbconvert_exporter": "python",
   "pygments_lexer": "ipython2",
   "version": "2.7.9"
  }
 },
 "nbformat": 4,
 "nbformat_minor": 0
}
