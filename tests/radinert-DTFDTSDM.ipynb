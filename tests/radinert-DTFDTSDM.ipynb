{
 "cells": [
  {
   "cell_type": "markdown",
   "metadata": {},
   "source": [
    "#  Singlet doublet fermion dark matter model"
   ]
  },
  {
   "cell_type": "markdown",
   "metadata": {},
   "source": [
    "We expect here degenerate masses so we must be carefull about the DM particles that is registered by micrOMEGAS:\n",
    "\n",
    "We need to edit prtcls1.mld to have the righ order with Nv0 appearing first"
   ]
  },
  {
   "cell_type": "code",
   "execution_count": 1,
   "metadata": {
    "collapsed": false
   },
   "outputs": [
    {
     "name": "stdout",
     "output_type": "stream",
     "text": [
      "Populating the interactive namespace from numpy and matplotlib\n"
     ]
    }
   ],
   "source": [
    "%pylab inline"
   ]
  },
  {
   "cell_type": "code",
   "execution_count": 2,
   "metadata": {
    "collapsed": false
   },
   "outputs": [],
   "source": [
    "import pandas as pd\n",
    "import numpy as np\n",
    "import os, sys, inspect\n",
    "import commands\n",
    "from hep import *"
   ]
  },
  {
   "cell_type": "markdown",
   "metadata": {},
   "source": [
    "## Feynrules implementation\n",
    "[Preliminary Analysis](../../../2016/micromegas_feynrules/correr_micrOMEGAs-markov.ipynb)\n",
    "\n",
    "See also full results with user galcen in fisica? or gfif?"
   ]
  },
  {
   "cell_type": "markdown",
   "metadata": {},
   "source": [
    "\n",
    "## Check one point"
   ]
  },
  {
   "cell_type": "code",
   "execution_count": 3,
   "metadata": {
    "collapsed": false
   },
   "outputs": [],
   "source": [
    "a=hep(MODEL='radinertDTFDTSDM')"
   ]
  },
  {
   "cell_type": "markdown",
   "metadata": {},
   "source": [
    "`a-object` is an object with many attributes and methods. Use the tab to explore them. Some of them are\n",
    "* a.Series: [pandas](http://pandas.pydata.org/) Series object with the \"relevant\" variables \n",
    "* a.LHA: Input LesHouces file as [pyslha](https://pypi.python.org/pypi/pyslha/) object\n",
    "* a.runSPheno() -> a.LHA_out: return LHA output files as [pyslha](https://pypi.python.org/pypi/pyslha/) object\n",
    "* a.runmicromegas() -> a.runSPheno() -> Updated the `a-object`  with micrOMEGAS \"relevant\" output"
   ]
  },
  {
   "cell_type": "code",
   "execution_count": 5,
   "metadata": {
    "collapsed": false
   },
   "outputs": [
    {
     "name": "stdout",
     "output_type": "stream",
     "text": [
      "Omega h^2, SI proton, neutron = 0.121 0.0 0.0 1.08e-26\n"
     ]
    }
   ],
   "source": [
    "v=a.vev\n",
    "#lambda_1=0.13\n",
    "mdf=2.10E+02\n",
    "mtf=-2.101E+02\n",
    "\n",
    "devnull=commands.getoutput('rm -f SPheno.spc.%s' %a.MODEL)\n",
    "\n",
    "a.LHA.blocks['SPHENOINPUT'].entries[55]='0               # Calculate one loop masses'\n",
    "a.LHA.blocks['MDFIN'][1]='%0.8E       #MDF' %mdf  # -> Fill a.Series.MDF\n",
    "a.LHA.blocks['MTFIN'][1]='%0.8E       #MTF' %mtf \n",
    "a.LHA.blocks['PI1IN'][1]='%0.8E       #PI1' %3.\n",
    "a.LHA.blocks['PI2IN'][1]='%0.8E       #PI2' %3.\n",
    "a.LHA.blocks['MINPAR'][9]='%0.8E      #mEt2Input' %5.0000000E+06\n",
    "a.LHA.blocks['MINPAR'][10]='%0.8E     #mu3Input' %8.1357150E+06\n",
    "a.pdg['Chi_2p']=-210000602\n",
    "moc=a.runmicromegas(Direct_Detection=True)\n",
    "tmp=a.branchings(a.LHA_out.decays,min_pdg=25)\n",
    "#Store some masses in the main Output\n",
    "a.Series['Nv_1']=a.LHA_out.blocks['MASS'][a.pdg.pdg_name.Nv_1]\n",
    "print 'Omega h^2, SI proton, neutron =',a.Series.Omega_h2,a.Series.proton_SI,a.Series.neutron_SI,a.Series.sigmav"
   ]
  },
  {
   "cell_type": "code",
   "execution_count": 6,
   "metadata": {
    "collapsed": false
   },
   "outputs": [
    {
     "data": {
      "text/plain": [
       "array(['h0 ->  SBAR S', 'h0 ->  DBAR D', 'h0 ->  W- W+',\n",
       "       'h0 ->  GLUE GLUE', 'h0 ->  PHOT PHOT', 'h0 ->  MU+ MU-',\n",
       "       'h0 ->  Z0 Z0', 'h0 ->  E+ E-', 'h0 ->  CBAR C', 'h0 ->  UBAR U',\n",
       "       'h0 ->  BBAR B', 'h0 ->  TAU+ TAU-', 'Nv_2 ->  Nv_1 Z0',\n",
       "       'Chi_1 ->  Nv_1 W+', 'Chi_2 ->  Nv_1 W+', 'Nv_3 ->  Nv_1 Z0',\n",
       "       'etI ->  unknown', 'etI ->  TAU+ Chi_2p', 'etI ->  Nv_3 NUM',\n",
       "       'etI ->  MU+ Chi_2p', 'etI ->  TAU- Chi_1', 'etI ->  Nv_3 NUE',\n",
       "       'etI ->  MU- Chi_2', 'etI ->  Nv_2 NUM', 'etI ->  Nv_3 NUT',\n",
       "       'etI ->  E- Chi_2', 'etI ->  MU- Chi_1', 'etI ->  E+ Chi_2p',\n",
       "       'etI ->  Nv_2 NUT', 'etI ->  E- Chi_1', 'etI ->  Nv_2 NUE',\n",
       "       'etI ->  TAU- Chi_2', 'XP_1 ->  E+ Nv_1', 'XP_1 ->  E+ Nv_2',\n",
       "       'XP_1 ->  E+ Nv_3', 'XP_1 ->  NUE Chi_2', 'XP_1 ->  NUM Chi_1',\n",
       "       'XP_1 ->  NUE Chi_1', 'XP_1 ->  MU+ Nv_3', 'XP_1 ->  TAU+ Nv_2',\n",
       "       'XP_1 ->  NUM Chi_2', 'XP_1 ->  NUT Chi_2', 'XP_1 ->  NUT Chi_1',\n",
       "       'XP_1 ->  TAU+ Nv_3', 'XP_1 ->  MU+ Nv_2', 'XP_1 ->  MU+ Nv_1',\n",
       "       'XP_1 ->  TAU+ Nv_1', 'XP_2 ->  E+ Nv_1', 'XP_2 ->  NUM Chi_2',\n",
       "       'XP_2 ->  E+ Nv_2', 'XP_2 ->  E+ Nv_3', 'XP_2 ->  NUE Chi_2',\n",
       "       'XP_2 ->  NUM Chi_1', 'XP_2 ->  NUE Chi_1', 'XP_2 ->  MU+ Nv_3',\n",
       "       'XP_2 ->  TAU+ Nv_2', 'XP_2 ->  MU+ Nv_1', 'XP_2 ->  TAU+ Nv_1',\n",
       "       'XP_2 ->  NUT Chi_1', 'XP_2 ->  TAU+ Nv_3', 'XP_2 ->  MU+ Nv_2',\n",
       "       'XP_2 ->  NUT Chi_2', 'XO_1 ->  unknown', 'XO_1 ->  TAU+ Chi_2p',\n",
       "       'XO_1 ->  Nv_3 NUM', 'XO_1 ->  MU+ Chi_2p', 'XO_1 ->  TAU- Chi_1',\n",
       "       'XO_1 ->  Nv_3 NUE', 'XO_1 ->  MU- Chi_2', 'XO_1 ->  Nv_2 NUM',\n",
       "       'XO_1 ->  Nv_3 NUT', 'XO_1 ->  E- Chi_2', 'XO_1 ->  MU- Chi_1',\n",
       "       'XO_1 ->  E+ Chi_2p', 'XO_1 ->  Nv_2 NUT', 'XO_1 ->  E- Chi_1',\n",
       "       'XO_1 ->  Nv_2 NUE', 'XO_1 ->  TAU- Chi_2', 'XO_2 ->  Nv_3 NUE',\n",
       "       'XO_2 ->  Nv_1 NUT', 'XO_2 ->  unknown', 'XO_2 ->  TAU+ Chi_2p',\n",
       "       'XO_2 ->  Nv_3 NUM', 'XO_2 ->  MU+ Chi_2p', 'XO_2 ->  TAU- Chi_1',\n",
       "       'XO_2 ->  MU- Chi_1', 'XO_2 ->  MU- Chi_2', 'XO_2 ->  Nv_1 NUE',\n",
       "       'XO_2 ->  Nv_3 NUT', 'XO_2 ->  E- Chi_2', 'XO_2 ->  Nv_2 NUM',\n",
       "       'XO_2 ->  Nv_1 NUM', 'XO_2 ->  E+ Chi_2p', 'XO_2 ->  Nv_2 NUT',\n",
       "       'XO_2 ->  E- Chi_1', 'XO_2 ->  Nv_2 NUE', 'XO_2 ->  TAU- Chi_2',\n",
       "       'Gamma_h0', 'Gamma_Nv_2', 'Gamma_Nv_1', 'Gamma_Chi_1',\n",
       "       'Gamma_Chi_2', 'Gamma_Nv_3', 'Gamma_etI', 'Gamma_XP_1',\n",
       "       'Gamma_XP_2', 'Gamma_XO_1', 'Gamma_XO_2'], dtype=object)"
      ]
     },
     "execution_count": 6,
     "metadata": {},
     "output_type": "execute_result"
    }
   ],
   "source": [
    "a.Br_names.keys().values"
   ]
  },
  {
   "cell_type": "code",
   "execution_count": 7,
   "metadata": {
    "collapsed": false
   },
   "outputs": [
    {
     "data": {
      "text/html": [
       "<div>\n",
       "<table border=\"1\" class=\"dataframe\">\n",
       "  <thead>\n",
       "    <tr style=\"text-align: right;\">\n",
       "      <th></th>\n",
       "      <th>pdg</th>\n",
       "      <th>MASS</th>\n",
       "    </tr>\n",
       "  </thead>\n",
       "  <tbody>\n",
       "    <tr>\n",
       "      <th>0</th>\n",
       "      <td>25</td>\n",
       "      <td>1.28884180E+02 # hh</td>\n",
       "    </tr>\n",
       "    <tr>\n",
       "      <th>1</th>\n",
       "      <td>1002</td>\n",
       "      <td>2.23600020E+03 # etI</td>\n",
       "    </tr>\n",
       "    <tr>\n",
       "      <th>2</th>\n",
       "      <td>1003</td>\n",
       "      <td>2.23606798E+03 # XP_1</td>\n",
       "    </tr>\n",
       "    <tr>\n",
       "      <th>3</th>\n",
       "      <td>1004</td>\n",
       "      <td>2.85232279E+03 # XP_2</td>\n",
       "    </tr>\n",
       "    <tr>\n",
       "      <th>4</th>\n",
       "      <td>1005</td>\n",
       "      <td>2.23613576E+03 # XO_1</td>\n",
       "    </tr>\n",
       "    <tr>\n",
       "      <th>5</th>\n",
       "      <td>1006</td>\n",
       "      <td>2.85232279E+03 # XO_2</td>\n",
       "    </tr>\n",
       "    <tr>\n",
       "      <th>6</th>\n",
       "      <td>310000601</td>\n",
       "      <td>-2.10000000E+02# Nv_1</td>\n",
       "    </tr>\n",
       "    <tr>\n",
       "      <th>7</th>\n",
       "      <td>310000602</td>\n",
       "      <td>5.62916750E+02 # Nv_2</td>\n",
       "    </tr>\n",
       "    <tr>\n",
       "      <th>8</th>\n",
       "      <td>310000603</td>\n",
       "      <td>-5.63016750E+02# Nv_3</td>\n",
       "    </tr>\n",
       "    <tr>\n",
       "      <th>9</th>\n",
       "      <td>210000601</td>\n",
       "      <td>5.62916750E+02 # Chi_1</td>\n",
       "    </tr>\n",
       "    <tr>\n",
       "      <th>10</th>\n",
       "      <td>210000602</td>\n",
       "      <td>5.63016750E+02 # Chi_2</td>\n",
       "    </tr>\n",
       "  </tbody>\n",
       "</table>\n",
       "</div>"
      ],
      "text/plain": [
       "          pdg                    MASS\n",
       "0          25     1.28884180E+02 # hh\n",
       "1        1002    2.23600020E+03 # etI\n",
       "2        1003   2.23606798E+03 # XP_1\n",
       "3        1004   2.85232279E+03 # XP_2\n",
       "4        1005   2.23613576E+03 # XO_1\n",
       "5        1006   2.85232279E+03 # XO_2\n",
       "6   310000601   -2.10000000E+02# Nv_1\n",
       "7   310000602   5.62916750E+02 # Nv_2\n",
       "8   310000603   -5.63016750E+02# Nv_3\n",
       "9   210000601  5.62916750E+02 # Chi_1\n",
       "10  210000602  5.63016750E+02 # Chi_2"
      ]
     },
     "execution_count": 7,
     "metadata": {},
     "output_type": "execute_result"
    }
   ],
   "source": [
    "m=pd.DataFrame()\n",
    "m['pdg']=a.LHA_out_with_comments.blocks['MASS'].entries.keys()\n",
    "m['MASS']=a.LHA_out_with_comments.blocks['MASS'].entries.values()\n",
    "m[m.pdg>24].reset_index(drop=True)"
   ]
  },
  {
   "cell_type": "markdown",
   "metadata": {},
   "source": [
    "## Scan $m_{DM}$\n",
    "### Higgsilino-like"
   ]
  },
  {
   "cell_type": "code",
   "execution_count": 8,
   "metadata": {
    "collapsed": false,
    "scrolled": true
   },
   "outputs": [
    {
     "name": "stdout",
     "output_type": "stream",
     "text": [
      "0\n",
      "10\n",
      "20\n",
      "30\n"
     ]
    }
   ],
   "source": [
    "df=pd.DataFrame()\n",
    "a.LHA.blocks['MTFIN'][1]='%0.8E       #MTF' %1.5E3\n",
    "a.LHA.blocks['SPHENOINPUT'].entries[55]='0               # Calculate one loop masses'\n",
    "a.LHA.blocks['PI1IN'][1]='%0.8E       #PI1' %0.\n",
    "a.LHA.blocks['PI2IN'][1]='%0.8E       #PI2' %0.\n",
    "dm_masses=np.linspace(100,1200,40)\n",
    "for MDF in dm_masses:\n",
    "    if np.where(dm_masses==MDF)[0][0]%10==0: #find the index of the array entry\n",
    "        print np.where(dm_masses==MDF)[0][0]\n",
    "    a.LHA.blocks['MDFIN'][1]='%0.8E       #MDF' %MDF  # -> Fill a.Series.MDF\n",
    "    DD=True\n",
    "    a.runmicromegas(Direct_Detection=DD)\n",
    "    a.Series['Omega_h2_official']=a.micromegas.Omega_h2\n",
    "    if DD:\n",
    "        a.Series['proton_SI_official']=a.micromegas.proton_SI\n",
    "        a.Series['neutron_SI_official']=a.micromegas.neutron_SI\n",
    "        a.Series['sigmav_official']=a.micromegas.sigmav\n",
    "    df=df.append(a.Series,ignore_index=True)"
   ]
  },
  {
   "cell_type": "markdown",
   "metadata": {},
   "source": [
    "### Relic density"
   ]
  },
  {
   "cell_type": "code",
   "execution_count": 9,
   "metadata": {
    "collapsed": false
   },
   "outputs": [
    {
     "data": {
      "image/png": "[encoded data removed]",
      "text/plain": [
       "<matplotlib.figure.Figure at 0x7fd732e99350>"
      ]
     },
     "metadata": {},
     "output_type": "display_data"
    }
   ],
   "source": [
    "plt.semilogy(df.MDF,df.Omega_h2,'k-',label='SARAH')\n",
    "plt.xlabel(r'$m_{\\rm DM}$ [GeV]',size=20)\n",
    "plt.ylabel(r'$\\Omega h^2$',size=20)\n",
    "plt.grid()"
   ]
  },
  {
   "cell_type": "markdown",
   "metadata": {
    "collapsed": false
   },
   "source": [
    "Three level DD is zero"
   ]
  },
  {
   "cell_type": "code",
   "execution_count": 10,
   "metadata": {
    "collapsed": false
   },
   "outputs": [
    {
     "data": {
      "text/plain": [
       "<matplotlib.text.Text at 0x7fd72f0aae10>"
      ]
     },
     "execution_count": 10,
     "metadata": {},
     "output_type": "execute_result"
    },
    {
     "data": {
      "image/png": "[encoded data removed]",
      "text/plain": [
       "<matplotlib.figure.Figure at 0x7fd732ac6310>"
      ]
     },
     "metadata": {},
     "output_type": "display_data"
    }
   ],
   "source": [
    "plt.semilogy(df.MDF,df.sigmav,'k-',label='SARAH')\n",
    "plt.xlabel(r'$m_{\\rm DM}$ [GeV]',size=20)\n",
    "plt.ylabel(r'$\\langle\\sigma v \\rangle [{\\rm cm}^3/{\\rm s}]$' ,size=20)"
   ]
  },
  {
   "cell_type": "markdown",
   "metadata": {},
   "source": [
    "[![Home](http://www.incredimail.com/images/nav%20bar/home-icon.png)](./) \n",
    "[Jupyter home](./draft.pdf)"
   ]
  }
 ],
 "metadata": {
  "kernelspec": {
   "display_name": "Python 2",
   "language": "python",
   "name": "python2"
  },
  "language_info": {
   "codemirror_mode": {
    "name": "ipython",
    "version": 2
   },
   "file_extension": ".py",
   "mimetype": "text/x-python",
   "name": "python",
   "nbconvert_exporter": "python",
   "pygments_lexer": "ipython2",
   "version": "2.7.9"
  }
 },
 "nbformat": 4,
 "nbformat_minor": 0
}
