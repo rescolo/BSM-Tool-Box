{
 "cells": [
  {
   "cell_type": "markdown",
   "metadata": {},
   "source": [
    "#  Singlet doublet fermion dark matter model"
   ]
  },
  {
   "cell_type": "markdown",
   "metadata": {},
   "source": [
    "We expect here degenerate masses so we must be carefull about the DM particles that is registered by micrOMEGAS:\n",
    "\n",
    "We need to edit prtcls1.mld to have the righ order with Nv0 appearing first"
   ]
  },
  {
   "cell_type": "code",
   "execution_count": 1,
   "metadata": {
    "collapsed": false
   },
   "outputs": [
    {
     "name": "stdout",
     "output_type": "stream",
     "text": [
      "Populating the interactive namespace from numpy and matplotlib\n"
     ]
    }
   ],
   "source": [
    "%pylab inline"
   ]
  },
  {
   "cell_type": "code",
   "execution_count": 2,
   "metadata": {
    "collapsed": false
   },
   "outputs": [],
   "source": [
    "import pandas as pd\n",
    "import numpy as np\n",
    "import os, sys, inspect\n",
    "import commands\n",
    "from hep import *"
   ]
  },
  {
   "cell_type": "markdown",
   "metadata": {},
   "source": [
    "## Feynrules implementation\n",
    "[Preliminary Analysis](../../../2016/micromegas_feynrules/correr_micrOMEGAs-markov.ipynb)\n",
    "\n",
    "See also full results with user galcen in fisica? or gfif?"
   ]
  },
  {
   "cell_type": "markdown",
   "metadata": {},
   "source": [
    "\n",
    "## Check one point"
   ]
  },
  {
   "cell_type": "code",
   "execution_count": 3,
   "metadata": {
    "collapsed": false
   },
   "outputs": [],
   "source": [
    "a=hep(MODEL='radinertDTFDTSDM')"
   ]
  },
  {
   "cell_type": "markdown",
   "metadata": {},
   "source": [
    "`a-object` is an object with many attributes and methods. Use the tab to explore them. Some of them are\n",
    "* a.Series: [pandas](http://pandas.pydata.org/) Series object with the \"relevant\" variables \n",
    "* a.LHA: Input LesHouces file as [pyslha](https://pypi.python.org/pypi/pyslha/) object\n",
    "* a.runSPheno() -> a.LHA_out: return LHA output files as [pyslha](https://pypi.python.org/pypi/pyslha/) object\n",
    "* a.runmicromegas() -> a.runSPheno() -> Updated the `a-object`  with micrOMEGAS \"relevant\" output"
   ]
  },
  {
   "cell_type": "code",
   "execution_count": 10,
   "metadata": {
    "collapsed": false
   },
   "outputs": [
    {
     "data": {
      "text/plain": [
       "'0.000000E+00   # MTF'"
      ]
     },
     "execution_count": 10,
     "metadata": {},
     "output_type": "execute_result"
    }
   ],
   "source": [
    "a.LHA.blocks['MTFIN'][1]"
   ]
  },
  {
   "cell_type": "code",
   "execution_count": 8,
   "metadata": {
    "collapsed": false
   },
   "outputs": [
    {
     "data": {
      "text/plain": [
       "_dict([(1, '0.000000E+00   # MDF')])"
      ]
     },
     "execution_count": 8,
     "metadata": {},
     "output_type": "execute_result"
    }
   ],
   "source": [
    "a.LHA.blocks['MDFIN'].entries"
   ]
  },
  {
   "cell_type": "code",
   "execution_count": 44,
   "metadata": {
    "collapsed": false
   },
   "outputs": [
    {
     "name": "stdout",
     "output_type": "stream",
     "text": [
      "Omega h^2, SI proton, neutron = 0.00483 0.0 0.0 1.1e-24\n"
     ]
    }
   ],
   "source": [
    "v=a.vev\n",
    "#lambda_1=0.13\n",
    "mdf=2.078817E+02\n",
    "mtf=-2.078817E+02\n",
    "\n",
    "devnull=commands.getoutput('rm -f SPheno.spc.%s' %a.MODEL)\n",
    "\n",
    "a.LHA.blocks['SPHENOINPUT'].entries[55]='0               # Calculate one loop masses'\n",
    "a.LHA.blocks['MDFIN'][1]='%0.8E       #MDF' %mdf  # -> Fill a.Series.MDF\n",
    "a.LHA.blocks['MTFIN'][1]='%0.8E       #MTF' %mtf \n",
    "a.LHA.blocks['PI1IN'][1]='%0.8E       #PI1' %2.736048E+00\n",
    "a.LHA.blocks['PI2IN'][1]='%0.8E       #PI2' %2.736048E+00\n",
    "a.pdg['Chi_2p']=-210000602\n",
    "moc=a.runmicromegas(Direct_Detection=True)\n",
    "tmp=a.branchings(a.LHA_out.decays,min_pdg=25)\n",
    "#Store some masses in the main Output\n",
    "a.Series['Nv_1']=a.LHA_out.blocks['MASS'][a.pdg.pdg_name.Nv_1]\n",
    "print 'Omega h^2, SI proton, neutron =',a.Series.Omega_h2,a.Series.proton_SI,a.Series.neutron_SI,a.Series.sigmav"
   ]
  },
  {
   "cell_type": "code",
   "execution_count": 45,
   "metadata": {
    "collapsed": false
   },
   "outputs": [
    {
     "data": {
      "text/plain": [
       "array(['Chi_1 ->  NUM XP_1', 'Chi_1 ->  NUT XP_1', 'Chi_1 ->  TAU+ etI',\n",
       "       'Chi_1 ->  E+ etI', 'Chi_1 ->  NUE XP_1', 'Chi_1 ->  MU+ XO_1',\n",
       "       'Chi_1 ->  TAU+ XO_1', 'Chi_1 ->  MU+ etI', 'Chi_1 ->  E+ XO_1',\n",
       "       'h0 ->  SBAR S', 'h0 ->  DBAR D', 'h0 ->  W- W+',\n",
       "       'h0 ->  GLUE GLUE', 'h0 ->  PHOT PHOT', 'h0 ->  MU+ MU-',\n",
       "       'h0 ->  Z0 Z0', 'h0 ->  E+ E-', 'h0 ->  CBAR C', 'h0 ->  UBAR U',\n",
       "       'h0 ->  BBAR B', 'h0 ->  TAU+ TAU-', 'Nv_2 ->  NUM etI',\n",
       "       'Nv_2 ->  E- XP_1', 'Nv_2 ->  Nv_1 Z0', 'Nv_2 ->  unknown',\n",
       "       'Nv_2 ->  NUE XO_1', 'Nv_2 ->  NUM XO_1', 'Nv_2 ->  TAU- XP_1',\n",
       "       'Nv_2 ->  NUE etI', 'Nv_2 ->  NUT etI', 'Nv_2 ->  MU- XP_1',\n",
       "       'Nv_2 ->  NUT XO_1', 'Nv_1 ->  E- XP_1', 'Nv_1 ->  unknown',\n",
       "       'Nv_1 ->  TAU- XP_1', 'Nv_1 ->  MU- XP_1', 'Chi_2 ->  Nv_1 W+',\n",
       "       'Nv_3 ->  Nv_1 Z0', 'XP_2 ->  E+ Nv_1', 'XP_2 ->  E+ Nv_2',\n",
       "       'XP_2 ->  E+ Nv_3', 'XP_2 ->  NUE Chi_2', 'XP_2 ->  MU+ Nv_2',\n",
       "       'XP_2 ->  MU+ Nv_3', 'XP_2 ->  NUM Chi_2', 'XP_2 ->  NUT Chi_2',\n",
       "       'XP_2 ->  TAU+ Nv_2', 'XP_2 ->  TAU+ Nv_3', 'XP_2 ->  MU+ Nv_1',\n",
       "       'XP_2 ->  TAU+ Nv_1', 'XO_2 ->  Nv_1 NUT', 'XO_2 ->  Nv_2 NUM',\n",
       "       'XO_2 ->  TAU+ Chi_2p', 'XO_2 ->  Nv_3 NUM', 'XO_2 ->  MU+ Chi_2p',\n",
       "       'XO_2 ->  Nv_3 NUE', 'XO_2 ->  MU- Chi_2', 'XO_2 ->  Nv_1 NUE',\n",
       "       'XO_2 ->  Nv_3 NUT', 'XO_2 ->  E- Chi_2', 'XO_2 ->  Nv_1 NUM',\n",
       "       'XO_2 ->  E+ Chi_2p', 'XO_2 ->  Nv_2 NUT', 'XO_2 ->  Nv_2 NUE',\n",
       "       'XO_2 ->  TAU- Chi_2', 'Gamma_Chi_1', 'Gamma_h0', 'Gamma_Nv_2',\n",
       "       'Gamma_Nv_1', 'Gamma_Chi_2', 'Gamma_Nv_3', 'Gamma_etI',\n",
       "       'Gamma_XP_1', 'Gamma_XP_2', 'Gamma_XO_1', 'Gamma_XO_2'], dtype=object)"
      ]
     },
     "execution_count": 45,
     "metadata": {},
     "output_type": "execute_result"
    }
   ],
   "source": [
    "a.Br_names.keys().values"
   ]
  },
  {
   "cell_type": "code",
   "execution_count": 46,
   "metadata": {
    "collapsed": false
   },
   "outputs": [
    {
     "data": {
      "text/plain": [
       "25              1.28884180E+02 # hh\n",
       "1002           9.84727229E+01 # etI\n",
       "1003          1.00000000E+02 # XP_1\n",
       "1004          5.60001618E+02 # XP_2\n",
       "1005          1.01504300E+02 # XO_1\n",
       "1006          5.60001618E+02 # XO_2\n",
       "23              9.11887000E+01 # VZ\n",
       "24             8.03497269E+01 # VWp\n",
       "1             5.00000000E-03 # Fd_1\n",
       "3             9.50000000E-02 # Fd_2\n",
       "5             4.18000000E+00 # Fd_3\n",
       "2             2.50000000E-03 # Fu_1\n",
       "4             1.27000000E+00 # Fu_2\n",
       "6             1.73500000E+02 # Fu_3\n",
       "11            5.10998930E-04 # Fe_1\n",
       "13            1.05658372E-01 # Fe_2\n",
       "15            1.77669000E+00 # Fe_3\n",
       "12            0.00000000E+00 # Fv_1\n",
       "14            3.08148791E-33 # Fv_2\n",
       "16            -2.57929511E-17# Fv_3\n",
       "310000601     -2.07881700E+02# Nv_1\n",
       "310000602     -5.19741579E+02# Nv_2\n",
       "310000603     5.19741579E+02 # Nv_3\n",
       "210000601    5.19741579E+02 # Chi_1\n",
       "210000602    5.19741579E+02 # Chi_2\n",
       "dtype: object"
      ]
     },
     "execution_count": 46,
     "metadata": {},
     "output_type": "execute_result"
    }
   ],
   "source": [
    "pd.Series(a.LHA_out_with_comments.blocks['MASS'].entries)"
   ]
  },
  {
   "cell_type": "markdown",
   "metadata": {},
   "source": [
    "## Scan $m_{DM}$\n",
    "### Higgsilino-like"
   ]
  },
  {
   "cell_type": "code",
   "execution_count": 48,
   "metadata": {
    "collapsed": false,
    "scrolled": true
   },
   "outputs": [
    {
     "name": "stdout",
     "output_type": "stream",
     "text": [
      "0\n",
      "10\n",
      "20\n",
      "30\n",
      "40\n",
      "50\n",
      "60\n",
      "70\n",
      "80\n",
      "90\n"
     ]
    }
   ],
   "source": [
    "df=pd.DataFrame()\n",
    "a.LHA.blocks['SPHENOINPUT'].entries[55]='0               # Calculate one loop masses'\n",
    "dm_masses=np.linspace(100,1200,100)\n",
    "for MDF in dm_masses:\n",
    "    if np.where(dm_masses==MDF)[0][0]%10==0: #find the index of the array entry\n",
    "        print np.where(dm_masses==MDF)[0][0]\n",
    "    a.LHA.blocks['MDFIN'][1]='%0.8E       #MDF' %MDF  # -> Fill a.Series.MDF\n",
    "    a.runmicromegas(Direct_Detection=True)\n",
    "    a.Series['Omega_h2_official']=a.micromegas.Omega_h2\n",
    "    a.Series['proton_SI_official']=a.micromegas.proton_SI\n",
    "    a.Series['neutron_SI_official']=a.micromegas.neutron_SI\n",
    "    a.Series['sigmav_official']=a.micromegas.sigmav\n",
    "    df=df.append(a.Series,ignore_index=True)"
   ]
  },
  {
   "cell_type": "markdown",
   "metadata": {},
   "source": [
    "### Relic density"
   ]
  },
  {
   "cell_type": "code",
   "execution_count": 49,
   "metadata": {
    "collapsed": false
   },
   "outputs": [
    {
     "data": {
      "image/png": "[encoded data removed]",
      "text/plain": [
       "<matplotlib.figure.Figure at 0x7f309b9a2210>"
      ]
     },
     "metadata": {},
     "output_type": "display_data"
    }
   ],
   "source": [
    "plt.semilogy(df.MDF,df.Omega_h2,'ko',label='SARAH')\n",
    "plt.xlabel(r'$m_{\\rm DM}$ [GeV]',size=20)\n",
    "plt.ylabel(r'$\\Omega h^2$',size=20)\n",
    "plt.grid()"
   ]
  },
  {
   "cell_type": "markdown",
   "metadata": {
    "collapsed": false
   },
   "source": [
    "Three level DD is zero"
   ]
  },
  {
   "cell_type": "code",
   "execution_count": 50,
   "metadata": {
    "collapsed": false
   },
   "outputs": [
    {
     "data": {
      "text/plain": [
       "<matplotlib.text.Text at 0x7f309b658610>"
      ]
     },
     "execution_count": 50,
     "metadata": {},
     "output_type": "execute_result"
    },
    {
     "data": {
      "image/png": "[encoded data removed]",
      "text/plain": [
       "<matplotlib.figure.Figure at 0x7f3097cd8310>"
      ]
     },
     "metadata": {},
     "output_type": "display_data"
    }
   ],
   "source": [
    "plt.semilogy(df.MDF,df.sigmav,'k-',label='SARAH')\n",
    "plt.xlabel(r'$m_{\\rm DM}$ [GeV]',size=20)\n",
    "plt.ylabel(r'$\\langle\\sigma v \\rangle [{\\rm cm}^3/{\\rm s}]$' ,size=20)"
   ]
  },
  {
   "cell_type": "markdown",
   "metadata": {},
   "source": [
    "[![Home](http://www.incredimail.com/images/nav%20bar/home-icon.png)](./) \n",
    "[Jupyter home](./draft.pdf)"
   ]
  }
 ],
 "metadata": {
  "kernelspec": {
   "display_name": "Python 2",
   "language": "python",
   "name": "python2"
  },
  "language_info": {
   "codemirror_mode": {
    "name": "ipython",
    "version": 2
   },
   "file_extension": ".py",
   "mimetype": "text/x-python",
   "name": "python",
   "nbconvert_exporter": "python",
   "pygments_lexer": "ipython2",
   "version": "2.7.9"
  }
 },
 "nbformat": 4,
 "nbformat_minor": 0
}
