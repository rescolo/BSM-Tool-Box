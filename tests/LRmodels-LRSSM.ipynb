{
 "cells": [
  {
   "cell_type": "markdown",
   "metadata": {},
   "source": [
    "#  Left-Right Symmetricstandard model\n",
    "See for example \n",
    "\n",
    "...\n"
   ]
  },
  {
   "cell_type": "code",
   "execution_count": 1,
   "metadata": {
    "collapsed": false
   },
   "outputs": [
    {
     "name": "stdout",
     "output_type": "stream",
     "text": [
      "Populating the interactive namespace from numpy and matplotlib\n"
     ]
    }
   ],
   "source": [
    "%pylab inline"
   ]
  },
  {
   "cell_type": "code",
   "execution_count": 2,
   "metadata": {
    "collapsed": false
   },
   "outputs": [],
   "source": [
    "import pandas as pd\n",
    "import numpy as np\n",
    "import os, sys, inspect\n",
    "import commands\n",
    "from hep import *\n",
    "import IPython.display as dp"
   ]
  },
  {
   "cell_type": "markdown",
   "metadata": {},
   "source": [
    "## Check one point\n",
    "You can edit manually the input file:\n",
    "\n",
    "`LesHouches.in.LRmodelsLRSSM`\n",
    "\n",
    "and run the command\n",
    "\n",
    "`SHELL> ../SPHENO/bin/SPhenoLRmodelsLRSSM LesHouches.in.LRmodelsLRSSM`\n",
    "\n",
    "to get the output file:\n",
    "\n",
    "`SPheno.spc.LRmodelsLRSSM`\n",
    "\n",
    "which will be used as the `MadGraph` `param_card.dat`.\n",
    "\n",
    "Here intead we use a Python module which have the input/outout as _attributtes_:\n",
    "\n",
    "* self.LHA \n",
    "* self.LHA_OUT\n",
    "\n",
    "and a method `self.runSPheno()` which generates the `SPheno.spc.LRmodelsLRSSM` output file."
   ]
  },
  {
   "cell_type": "markdown",
   "metadata": {},
   "source": [
    "### Object intialization"
   ]
  },
  {
   "cell_type": "code",
   "execution_count": 3,
   "metadata": {
    "collapsed": false
   },
   "outputs": [],
   "source": [
    "a=hep(MODEL='LRmodelsLRSSM')"
   ]
  },
  {
   "cell_type": "markdown",
   "metadata": {},
   "source": [
    "`a-object` is an object with many attributes and methods. Use the tab to explore them. Some of them are\n",
    "* a.Series: [pandas](http://pandas.pydata.org/) Series object with the \"relevant\" variables \n",
    "* a.LHA: Input LesHouces file as [pyslha](https://pypi.python.org/pypi/pyslha/) object\n",
    "* a.runSPheno() -> a.LHA_out: return LHA output files as [pyslha](https://pypi.python.org/pypi/pyslha/) object\n",
    "* a.runmicromegas() -> a.runSPheno() -> Updated the `a-object`  with micrOMEGAS \"relevant\" output\n",
    "\n",
    "The following configuration need to be switched to 0."
   ]
  },
  {
   "cell_type": "code",
   "execution_count": 4,
   "metadata": {
    "collapsed": false
   },
   "outputs": [
    {
     "data": {
      "text/plain": [
       "'1.             # Write effective Higgs couplings (HiggsBounds blocks): put 0 to use file with MadGraph! '"
      ]
     },
     "execution_count": 4,
     "metadata": {},
     "output_type": "execute_result"
    }
   ],
   "source": [
    "a.LHA.blocks['SPHENOINPUT'].entries[520]"
   ]
  },
  {
   "cell_type": "markdown",
   "metadata": {},
   "source": [
    "### Input parameters\n",
    "Left-Right Symmetric Standard Model with scalar bi-doublet and Scalar triplet\n",
    "\n",
    "### In SARAH input file this correspons to"
   ]
  },
  {
   "cell_type": "code",
   "execution_count": 5,
   "metadata": {
    "collapsed": false,
    "scrolled": true
   },
   "outputs": [
    {
     "data": {
      "text/plain": [
       "1       4.0000000E+03  # vRinput\n",
       "2       1.0000000E+01  # TanBeta\n",
       "3     1.0000000E-01  # lam1INPUT\n",
       "4     0.000000E+00   # lam2INPUT\n",
       "5     3.0000000E-01  # lam3INPUT\n",
       "6     -1.5000000E-01 # lam4INPUT\n",
       "7     2.0000000E-04  # rho1INPUT\n",
       "8     5.0000000E-03  # rho2INPUT\n",
       "9     0.000000E+00   # alp1INPUT\n",
       "10    0.000000E+00   # alp2INPUT\n",
       "11    -5.0000000E-03 # alp3INPUT\n",
       "dtype: object"
      ]
     },
     "execution_count": 5,
     "metadata": {},
     "output_type": "execute_result"
    }
   ],
   "source": [
    "pd.Series(a.LHA.blocks['MINPAR'].entries)"
   ]
  },
  {
   "cell_type": "markdown",
   "metadata": {},
   "source": [
    "### Change some inputs"
   ]
  },
  {
   "cell_type": "code",
   "execution_count": 13,
   "metadata": {
    "collapsed": false
   },
   "outputs": [],
   "source": [
    "v=a.vev\n",
    "#lambda_1=0.13\n",
    "devnull=commands.getoutput('rm -f SPheno.spc.%s' %a.MODEL)\n",
    "a.LHA.blocks['SPHENOINPUT'].entries[520]='0.             # Write effective Higgs couplings (HiggsBounds blocks): put 0 to use file with MadGraph! '\n",
    "a.LHA.blocks['SPHENOINPUT'].entries[55]='0               # Calculate one loop masses'\n",
    "for i in range(1,4):\n",
    "    a.LHA.blocks['YDRIN'].entries[i,i]='%0.8E  # Yv(%d,%d)' %(1E-1,i,i)\n",
    "tmp=a.runSPheno()"
   ]
  },
  {
   "cell_type": "markdown",
   "metadata": {},
   "source": [
    "### Output masses"
   ]
  },
  {
   "cell_type": "code",
   "execution_count": 14,
   "metadata": {
    "collapsed": false
   },
   "outputs": [
    {
     "data": {
      "text/plain": [
       "25             5.89569252E+01 # hh_1\n",
       "35             1.18606587E+02 # hh_2\n",
       "335            2.92176682E+02 # hh_3\n",
       "36             2.77817966E+02 # Ah_3\n",
       "37            2.02193870E+02 # Hpm_3\n",
       "9000055    4.00185657E+02 # deltaRpp\n",
       "23               9.11887000E+01 # VZ\n",
       "32              3.14309761E+03 # VZR\n",
       "24             8.03497269E+01 # VWLm\n",
       "34             1.87668736E+03 # VWRm\n",
       "1              5.00000000E-03 # Fd_1\n",
       "3              9.50000000E-02 # Fd_2\n",
       "5              4.18000000E+00 # Fd_3\n",
       "2              2.50000000E-03 # Fu_1\n",
       "4              1.27000000E+00 # Fu_2\n",
       "6              1.73500000E+02 # Fu_3\n",
       "11             5.10998930E-04 # Fe_1\n",
       "13             1.05658372E-01 # Fe_2\n",
       "15             1.77669000E+00 # Fe_3\n",
       "12             -2.74630126E-23# Fv_1\n",
       "14             -2.74630126E-23# Fv_2\n",
       "16             -2.74630126E-23# Fv_3\n",
       "6000012        5.93068882E+02 # Fv_4\n",
       "6000014        5.93068882E+02 # Fv_5\n",
       "6000016        5.93068882E+02 # Fv_6\n",
       "dtype: object"
      ]
     },
     "execution_count": 14,
     "metadata": {},
     "output_type": "execute_result"
    }
   ],
   "source": [
    "pd.Series(a.LHA_out_with_comments.blocks['MASS'].entries)"
   ]
  },
  {
   "cell_type": "markdown",
   "metadata": {},
   "source": [
    "### Output branchings and decay widths"
   ]
  },
  {
   "cell_type": "code",
   "execution_count": 15,
   "metadata": {
    "collapsed": false
   },
   "outputs": [],
   "source": [
    "ip=a.branchings(a.LHA_out.decays,min_pdg=23)"
   ]
  },
  {
   "cell_type": "code",
   "execution_count": 16,
   "metadata": {
    "collapsed": false
   },
   "outputs": [
    {
     "name": "stdout",
     "output_type": "stream",
     "text": [
      "Fv_4 ->  E- W-              2.133059e-02\n",
      "Fv_4 ->  E- TBAR B          1.901864e-02\n",
      "Fv_4 ->  NUM MU+ E-         1.745353e-09\n",
      "Fv_4 ->  NUE E+ E-          3.490707e-09\n",
      "Fv_4 ->  E- TBAR S          2.604965e-06\n",
      "Fv_4 ->  E+ T SBAR          2.604965e-06\n",
      "Fv_4 ->  E+ T BBAR          1.901864e-02\n",
      "Fv_4 ->  NUT E+ TAU-        1.745286e-09\n",
      "Fv_4 ->  NUT TAU+ E-        1.745286e-09\n",
      "Fv_4 ->  E- CBAR S          3.720257e-02\n",
      "Fv_4 ->  E+ T DBAR          2.604970e-06\n",
      "Fv_4 ->  E- Hm              3.852389e-01\n",
      "Fv_4 ->  NUM E+ MU-         1.745353e-09\n",
      "Fv_4 ->  E- TBAR D          2.604970e-06\n",
      "Fv_4 ->  E+ U DBAR          3.720405e-02\n",
      "Fv_4 ->  E+ C SBAR          3.720257e-02\n",
      "Fv_4 ->  E- UBAR D          3.720405e-02\n",
      "Fv_4 ->  E+ W+              2.133059e-02\n",
      "Fv_4 ->  E+ Hpm_3           3.852389e-01\n",
      "Fv_5 ->  NUE E+ MU-         1.745353e-09\n",
      "Fv_5 ->  MU- TBAR D         2.604970e-06\n",
      "Fv_5 ->  MU+ U DBAR         3.720404e-02\n",
      "Fv_5 ->  MU- CBAR S         3.720257e-02\n",
      "Fv_5 ->  MU- TBAR B         1.901861e-02\n",
      "Fv_5 ->  MU+ T BBAR         1.901861e-02\n",
      "Fv_5 ->  NUT MU+ TAU-       1.745286e-09\n",
      "Fv_5 ->  MU+ Hpm_3          3.852390e-01\n",
      "Fv_5 ->  MU+ W+             2.133059e-02\n",
      "Fv_5 ->  MU+ C SBAR         3.720257e-02\n",
      "Fv_5 ->  MU- TBAR S         2.604965e-06\n",
      "Fv_5 ->  NUT TAU+ MU-       1.745286e-09\n",
      "Fv_5 ->  MU- W-             2.133059e-02\n",
      "Fv_5 ->  MU- UBAR D         3.720404e-02\n",
      "Fv_5 ->  NUE MU+ E-         1.745353e-09\n",
      "Fv_5 ->  MU- Hm             3.852390e-01\n",
      "Fv_5 ->  NUM MU+ MU-        3.490706e-09\n",
      "Fv_5 ->  MU+ T DBAR         2.604970e-06\n",
      "Fv_5 ->  MU+ T SBAR         2.604965e-06\n",
      "Fv_6 ->  TAU- Hm            3.852460e-01\n",
      "Fv_6 ->  TAU- TBAR B        1.901625e-02\n",
      "Fv_6 ->  TAU- TBAR D        2.604892e-06\n",
      "Fv_6 ->  NUE TAU+ E-        1.745247e-09\n",
      "Fv_6 ->  TAU+ Hpm_3         3.852460e-01\n",
      "Fv_6 ->  NUT TAU+ TAU-      3.490358e-09\n",
      "Fv_6 ->  TAU+ T SBAR        2.604887e-06\n",
      "Fv_6 ->  TAU+ U DBAR        3.720177e-02\n",
      "Fv_6 ->  TAU- TBAR S        2.604887e-06\n",
      "Fv_6 ->  NUM MU+ TAU-       1.745246e-09\n",
      "Fv_6 ->  TAU+ T DBAR        2.604892e-06\n",
      "Fv_6 ->  TAU+ W+            2.133043e-02\n",
      "Fv_6 ->  TAU+ T BBAR        1.901625e-02\n",
      "Fv_6 ->  TAU- W-            2.133043e-02\n",
      "Fv_6 ->  TAU+ C SBAR        3.720029e-02\n",
      "Fv_6 ->  NUM TAU+ MU-       1.745246e-09\n",
      "Fv_6 ->  NUE E+ TAU-        1.745247e-09\n",
      "Fv_6 ->  TAU- UBAR D        3.720177e-02\n",
      "Fv_6 ->  TAU- CBAR S        3.720029e-02\n",
      "Z0 ->  SBAR S               1.523174e-01\n",
      "Z0 ->  DBAR D               1.523181e-01\n",
      "Z0 ->  CBAR C               1.185022e-01\n",
      "Z0 ->  NUM NUM              6.806278e-02\n",
      "Z0 ->  NUE NUE              6.806278e-02\n",
      "Z0 ->  E+ E-                3.436557e-02\n",
      "Z0 ->  NUT NUT              6.806278e-02\n",
      "Z0 ->  UBAR U               1.186208e-01\n",
      "Z0 ->  BBAR B               1.510341e-01\n",
      "Z0 ->  MU+ MU-              3.436529e-02\n",
      "Z0 ->  TAU+ TAU-            3.428819e-02\n",
      "W+ ->  C SBAR               3.332769e-01\n",
      "W+ ->  MU- NUM              1.111339e-01\n",
      "W+ ->  U DBAR               3.334025e-01\n",
      "W+ ->  E- NUE               1.111341e-01\n",
      "W+ ->  TAU- NUT             1.110526e-01\n",
      "h0 ->  UBAR U               3.626872e-11\n",
      "h0 ->  DBAR D               2.250512e-09\n",
      "h0 ->  CBAR C               1.321701e-04\n",
      "h0 ->  GLUE GLUE            2.228271e-03\n",
      "h0 ->  PHOT PHOT            1.722495e-06\n",
      "h0 ->  DBAR S               4.097139e-07\n",
      "h0 ->  SBAR S               8.174257e-06\n",
      "h0 ->  CBAR U               3.231515e-09\n",
      "h0 ->  BBAR S               9.830805e-04\n",
      "h0 ->  SBAR D               4.097139e-07\n",
      "h0 ->  BBAR D               2.078714e-05\n",
      "h0 ->  DBAR B               2.078714e-05\n",
      "h0 ->  BBAR B               9.956211e-01\n",
      "h0 ->  UBAR C               3.231515e-09\n",
      "h0 ->  SBAR B               9.830805e-04\n",
      "VZR ->  W- W+               1.943232e-02\n",
      "VZR ->  h0 Ah_3             2.724002e-04\n",
      "VZR ->  Hm W+               8.172880e-09\n",
      "VZR ->  Fv_4 Fv_4           5.790222e-02\n",
      "VZR ->  E+ E-               1.876346e-02\n",
      "VZR ->  Fv_6 Fv_6           5.790222e-02\n",
      "VZR ->  SBAR S              1.416318e-01\n",
      "VZR ->  Hpm_3 W-            8.172880e-09\n",
      "VZR ->  h0 Z0               1.825421e-03\n",
      "VZR ->  DBAR D              1.416318e-01\n",
      "VZR ->  W+ VWRm             1.361161e-05\n",
      "VZR ->  Fv_5 Fv_5           5.790222e-02\n",
      "VZR ->  hh_2 Ah_3           8.747638e-04\n",
      "VZR ->  NUE NUE             5.888240e-03\n",
      "VZR ->  NUM NUM             5.888240e-03\n",
      "VZR ->  UBAR U              8.320657e-02\n",
      "VZR ->  BBAR B              1.416312e-01\n",
      "VZR ->  unknown             2.321554e-02\n",
      "VZR ->  NUT NUT             5.888240e-03\n",
      "VZR ->  Hpm_3 Hm            1.749368e-02\n",
      "VZR ->  hh_3 Ah_3           7.488105e-03\n",
      "VZR ->  CBAR C              8.320652e-02\n",
      "VZR ->  hh_3 Z0             1.196822e-03\n",
      "VZR ->  hh_2 Z0             6.352422e-03\n",
      "VZR ->  W- W_prime_minus    1.361161e-05\n",
      "VZR ->  Hpm_3 VWRm          3.183498e-04\n",
      "VZR ->  Hm W_prime_minus    3.183498e-04\n",
      "VZR ->  MU+ MU-             1.876346e-02\n",
      "VZR ->  TBAR T              8.221500e-02\n",
      "VZR ->  TAU+ TAU-           1.876343e-02\n",
      "VWRm ->  MU+ NUM            1.122479e-08\n",
      "VWRm ->  Hm Z0              1.949225e-02\n",
      "VWRm ->  UBAR D             2.392682e-01\n",
      "VWRm ->  unknown            5.410005e-06\n",
      "VWRm ->  W- Z0              8.584365e-04\n",
      "VWRm ->  Ah_3 W-            1.880661e-02\n",
      "VWRm ->  Hm hh_3            5.145914e-04\n",
      "VWRm ->  Hm h0              4.176482e-03\n",
      "VWRm ->  CBAR S             2.392680e-01\n",
      "VWRm ->  Hm hh_2            1.436042e-02\n",
      "VWRm ->  hh_2 W-            4.394837e-04\n",
      "VWRm ->  TBAR B             2.361988e-01\n",
      "VWRm ->  h0 W-              1.500086e-04\n",
      "VWRm ->  hh_3 W-            1.888581e-02\n",
      "VWRm ->  MU+ Fv_5           6.891617e-02\n",
      "VWRm ->  E+ NUE             1.122479e-08\n",
      "VWRm ->  TAU+ NUT           1.122477e-08\n",
      "VWRm ->  Hm Ah_3            7.060575e-04\n",
      "VWRm ->  TAU+ Fv_6          6.891606e-02\n",
      "VWRm ->  E+ Fv_4            6.891617e-02\n",
      "hh_2 ->  BBAR D             1.939554e-05\n",
      "hh_2 ->  DBAR D             1.512868e-09\n",
      "hh_2 ->  W+ W-              3.692861e-04\n",
      "hh_2 ->  GLUE GLUE          1.605932e-03\n",
      "hh_2 ->  UBAR U             1.086648e-11\n",
      "hh_2 ->  PHOT PHOT          5.816895e-06\n",
      "hh_2 ->  DBAR S             3.500413e-07\n",
      "hh_2 ->  SBAR S             7.489120e-06\n",
      "hh_2 ->  CBAR U             2.777317e-09\n",
      "hh_2 ->  h0 h0              3.442695e-04\n",
      "hh_2 ->  BBAR S             9.172697e-04\n",
      "hh_2 ->  SBAR D             3.500413e-07\n",
      "hh_2 ->  CBAR C             9.124446e-05\n",
      "hh_2 ->  DBAR B             1.939554e-05\n",
      "hh_2 ->  BBAR B             9.956701e-01\n",
      "hh_2 ->  UBAR C             2.777317e-09\n",
      "hh_2 ->  Z0 Z0              3.178812e-05\n",
      "hh_2 ->  SBAR B             9.172697e-04\n",
      "Ah_3 ->  CBAR T             6.519999e-08\n",
      "Ah_3 ->  UBAR U             1.909045e-10\n",
      "Ah_3 ->  DBAR D             1.246183e-11\n",
      "Ah_3 ->  BBAR D             1.541557e-05\n",
      "Ah_3 ->  GLUE GLUE          1.353944e-04\n",
      "Ah_3 ->  PHOT PHOT          1.837134e-08\n",
      "Ah_3 ->  DBAR S             2.776480e-07\n",
      "Ah_3 ->  hh_2 Z0            1.161867e-02\n",
      "Ah_3 ->  SBAR S             9.993193e-06\n",
      "Ah_3 ->  CBAR U             2.217671e-09\n",
      "Ah_3 ->  TBAR U             4.509769e-10\n",
      "Ah_3 ->  BBAR S             7.290461e-04\n",
      "Ah_3 ->  SBAR D             2.776480e-07\n",
      "Ah_3 ->  CBAR C             1.351672e-07\n",
      "Ah_3 ->  TBAR C             6.519999e-08\n",
      "Ah_3 ->  DBAR B             1.541557e-05\n",
      "Ah_3 ->  BBAR B             9.791647e-01\n",
      "Ah_3 ->  UBAR C             2.217671e-09\n",
      "Ah_3 ->  UBAR T             4.509769e-10\n",
      "Ah_3 ->  SBAR B             7.290461e-04\n",
      "Ah_3 ->  h0 Z0              7.581430e-03\n",
      "Hpm_3 ->  hh_2 W+           1.719112e-03\n",
      "Hpm_3 ->  C SBAR            7.581668e-04\n",
      "Hpm_3 ->  h0 W+             3.725775e-02\n",
      "Hpm_3 ->  U DBAR            1.076539e-08\n",
      "Hpm_3 ->  W+ Z0             1.581575e-07\n",
      "Hpm_3 ->  T BBAR            9.602648e-01\n",
      "hh_3 ->  W- W+              4.313859e-02\n",
      "hh_3 ->  GLUE GLUE          1.214412e-04\n",
      "hh_3 ->  Hm W+              5.365605e-03\n",
      "hh_3 ->  BBAR B             9.172972e-01\n",
      "hh_3 ->  CBAR U             2.041812e-09\n",
      "hh_3 ->  DBAR B             1.418822e-05\n",
      "hh_3 ->  SBAR S             9.859315e-06\n",
      "hh_3 ->  CBAR T             6.719927e-08\n",
      "hh_3 ->  Hpm_3 W-           5.365605e-03\n",
      "hh_3 ->  DBAR D             8.177336e-11\n",
      "hh_3 ->  BBAR D             1.418822e-05\n",
      "hh_3 ->  SBAR B             6.710012e-04\n",
      "hh_3 ->  TBAR C             6.719927e-08\n",
      "hh_3 ->  h0 hh_2            3.837000e-03\n",
      "hh_3 ->  UBAR T             4.644837e-10\n",
      "hh_3 ->  UBAR U             2.472544e-10\n",
      "hh_3 ->  h0 h0              8.621250e-04\n",
      "hh_3 ->  SBAR D             2.555312e-07\n",
      "hh_3 ->  BBAR S             6.710012e-04\n",
      "hh_3 ->  CBAR C             7.215540e-07\n",
      "hh_3 ->  hh_2 hh_2          3.627223e-03\n",
      "hh_3 ->  PHOT PHOT          9.974634e-07\n",
      "hh_3 ->  DBAR S             2.555312e-07\n",
      "hh_3 ->  Z0 Z0              1.900261e-02\n",
      "hh_3 ->  TBAR U             4.644837e-10\n",
      "hh_3 ->  UBAR C             2.041812e-09\n",
      "deltaRpp ->  TAU- TAU-      3.333158e-01\n",
      "deltaRpp ->  W+ W+          7.700294e-10\n",
      "deltaRpp ->  E- E-          3.333421e-01\n",
      "deltaRpp ->  Hpm_3 W+       7.129592e-09\n",
      "deltaRpp ->  MU- MU-        3.333420e-01\n",
      "Gamma_Fv_4                  4.038184e-04\n",
      "Gamma_Fv_5                  4.038183e-04\n",
      "Gamma_Fv_6                  4.038096e-04\n",
      "Gamma_Z0                    2.515150e+00\n",
      "Gamma_W+                    2.106772e+00\n",
      "Gamma_h0                    9.840775e-02\n",
      "Gamma_VZR                   9.020518e+01\n",
      "Gamma_VWRm                  6.856602e+01\n",
      "Gamma_hh_2                  6.631341e-01\n",
      "Gamma_Ah_3                  1.738835e+01\n",
      "Gamma_Hpm_3                 8.673002e-01\n",
      "Gamma_hh_3                  1.716437e+01\n",
      "Gamma_deltaRpp              9.553477e-01\n",
      "dtype: float64\n"
     ]
    }
   ],
   "source": [
    "pd.set_option('display.max_rows', 500)\n",
    "print a.Br_names"
   ]
  },
  {
   "cell_type": "markdown",
   "metadata": {},
   "source": [
    "## Run Drell-Yann production $W_R$\n",
    "### By using present data in `SPheno.spc.LRmodelsLRSSM`"
   ]
  },
  {
   "cell_type": "code",
   "execution_count": 17,
   "metadata": {
    "collapsed": false
   },
   "outputs": [
    {
     "name": "stdout",
     "output_type": "stream",
     "text": [
      "Overwriting drellyann.mdg\n"
     ]
    }
   ],
   "source": [
    "%%writefile drellyann.mdg\n",
    "import model LRmodelsLRSSM -modelnam\n",
    "#p is already defined if imported from\tMadGraph console\n",
    "define p g d1 d1bar d2 d2bar u1 u1bar u2 u2bar\n",
    "define j g d1 d1bar d2 d2bar u1 u1bar u2 u2bar   \n",
    "##Only drell Yann WR\n",
    "generate p p > wrm QCD=0\n",
    "dd process  p p > wrmc QCD=0\n",
    "output MadOut -f\n",
    "exit"
   ]
  },
  {
   "cell_type": "code",
   "execution_count": 18,
   "metadata": {
    "collapsed": false
   },
   "outputs": [
    {
     "name": "stdout",
     "output_type": "stream",
     "text": [
      "The import format was not given, so we guess it as command\n",
      "import model LRmodelsLRSSM -modelnam\n",
      "INFO: Change particles name to pass to MG5 convention \n",
      "Defined multiparticle p = g u c d s u~ c~ d~ s~\n",
      "Defined multiparticle j = g u c d s u~ c~ d~ s~\n",
      "Defined multiparticle l+ = e+ mu+\n",
      "Defined multiparticle l- = e- mu-\n",
      "Defined multiparticle vl = ve vm vt\n",
      "Defined multiparticle all = g a d s b u c t d~ s~ b~ u~ c~ t~ hmm hh1 h2 hh3 h3 h+ z zp w+ wrm hmmc h- w- wrmc e- mu- ta- ve vm vt nu4 nu5 nu6 e+ mu+ ta+\n",
      "define p g d1 d1bar d2 d2bar u1 u1bar u2 u2bar\n",
      "quit\n",
      " \n",
      "\n",
      " \n",
      "\n"
     ]
    }
   ],
   "source": [
    "print commands.getoutput('../madgraph/bin/mg5_aMC  drellyann.mdg 2> /dev/null | tail -n15')"
   ]
  },
  {
   "cell_type": "markdown",
   "metadata": {},
   "source": [
    "### Replace `param.card` by `SPheno.spc.LRmodelsLRSSM`"
   ]
  },
  {
   "cell_type": "code",
   "execution_count": 19,
   "metadata": {
    "collapsed": true
   },
   "outputs": [],
   "source": [
    "cp SPheno.spc.LRmodelsLRSSM MadOut/Cards/param_card.dat"
   ]
  },
  {
   "cell_type": "code",
   "execution_count": 20,
   "metadata": {
    "collapsed": false
   },
   "outputs": [
    {
     "name": "stdout",
     "output_type": "stream",
     "text": [
      "Overwriting drellyann.mdg\n"
     ]
    }
   ],
   "source": [
    "%%writefile drellyann.mdg\n",
    "launch MadOut \n",
    "0\n",
    "0"
   ]
  },
  {
   "cell_type": "code",
   "execution_count": 21,
   "metadata": {
    "collapsed": false
   },
   "outputs": [
    {
     "name": "stdout",
     "output_type": "stream",
     "text": [
      "INFO: Storing parton level results \n",
      "INFO: End Parton \n",
      "reweight -from_cards\n",
      "decay_events -from_cards\n",
      "quit\n",
      "INFO:  \n",
      " \n",
      "INFO:  \n",
      " \n",
      "more information in /home/restrepo/prog/toolbox/toolbox/tests/MadOut/index.html\n",
      "quit\n",
      " \n",
      "\n",
      " \n",
      "\n"
     ]
    }
   ],
   "source": [
    "print commands.getoutput('../madgraph/bin/mg5_aMC  drellyann.mdg 2> /dev/null | tail -n15')"
   ]
  },
  {
   "cell_type": "code",
   "execution_count": 22,
   "metadata": {
    "collapsed": false
   },
   "outputs": [
    {
     "data": {
      "text/html": [
       "\n",
       "<HTML> \n",
       "<HEAD> \n",
       "     \n",
       "    <META HTTP-EQUIV=\"EXPIRES\" CONTENT=\"20\" > \n",
       "    <TITLE>Online Event Generation</TITLE>\n",
       "    <link rel=stylesheet href=\"./HTML/mgstyle.css\" type=\"text/css\">\n",
       "</HEAD>\n",
       "<BODY>\n",
       "<script type=\"text/javascript\">\n",
       "function UrlExists(url) {\n",
       "  var http = new XMLHttpRequest();\n",
       "  http.open('HEAD', url, false);\n",
       "  try{\n",
       "     http.send()\n",
       "     }\n",
       "  catch(err){\n",
       "   return 1==2;\n",
       "  }\n",
       "  return http.status!=404;\n",
       "}\n",
       "function check_link(url,alt, id){\n",
       "    var obj = document.getElementById(id);\n",
       "    if ( ! UrlExists(url)){\n",
       "       if ( ! UrlExists(alt)){\n",
       "         obj.href = url;\n",
       "         return 1==1;\n",
       "        }\n",
       "       obj.href = alt;\n",
       "       return 1 == 2;\n",
       "    }\n",
       "    obj.href = url;\n",
       "    return 1==1;\n",
       "}\n",
       "</script>    \n",
       "    <H2 align=center> Results in the LRmodelsLRSSM for p p > wrm QCD=0\n",
       ", p p > wrmc QCD=0\n",
       " </H2> \n",
       "    <HR>\n",
       "    \n",
       "    <br>\n",
       "    <br>\n",
       "    <H2 align=\"center\"> Available Results </H2>\n",
       "        <TABLE BORDER=2 align=\"center\">  \n",
       "            <TR align=\"center\">\n",
       "                <TH>Run</TH> \n",
       "                <TH>Collider</TH> \n",
       "                <TH> Banner </TH>\n",
       "                <TH> Cross section (pb) </TH> \n",
       "                <TH> Events  </TH>\n",
       "                <TH> Data </TH>  \n",
       "                <TH>Output</TH>\n",
       "                <TH>Action</TH> \n",
       "            </TR>      \n",
       "            \n",
       "        <tr>\n",
       "        <td rowspan=1>run_01</td> \n",
       "        <td rowspan=1><center>  p  p <br> 6500.0 x 6500.0  GeV </center></td>\n",
       "        \n",
       "        <td rowspan=1> <a href=\"./Events/run_01/run_01_tag_1_banner.txt\">tag_1</a></td>\n",
       "        \n",
       "        <td rowspan=1><center><a href=\"./HTML/run_01/results.html\"> 1.769 <font face=symbol>&#177;</font> 0.0017</a>  </center></td>\n",
       "        <td rowspan=1><center> 10000<center></td><td> parton madevent </td>\n",
       "        <td>  <a  id='run_01_tag_1_parton_LHE' href='./Events/run_01/unweighted_events.lhe.gz' onClick=\"check_link('./Events/run_01/unweighted_events.lhe.gz','./Events/run_01/unweighted_events.lhe','run_01_tag_1_parton_LHE')\">LHE</a></td>\n",
       "        <td> <INPUT TYPE=SUBMIT VALUE='remove run' onClick=\"alert('Launch ./bin/madevent in a shell, and run the following command: remove run_01 parton --tag=tag_1')\"><INPUT TYPE=SUBMIT VALUE='launch detector simulation' onClick=\"alert('Launch ./bin/madevent in a shell, and run the following command: pythia run_01 ')\"></td>\n",
       "        </tr>\n",
       "        </tr>\n",
       "        \n",
       "        <tr>\n",
       "        <td rowspan=1>run_02</td> \n",
       "        <td rowspan=1><center>  p  p <br> 6500.0 x 6500.0  GeV </center></td>\n",
       "        \n",
       "        <td rowspan=1> <a href=\"./Events/run_02/run_02_tag_1_banner.txt\">tag_1</a></td>\n",
       "        \n",
       "        <td rowspan=1><center><a href=\"./HTML/run_02/results.html\"> 1.769 <font face=symbol>&#177;</font> 0.0019</a>  </center></td>\n",
       "        <td rowspan=1><center> 10000<center></td><td> parton madevent </td>\n",
       "        <td>  <a  id='run_02_tag_1_parton_LHE' href='./Events/run_02/unweighted_events.lhe.gz' onClick=\"check_link('./Events/run_02/unweighted_events.lhe.gz','./Events/run_02/unweighted_events.lhe','run_02_tag_1_parton_LHE')\">LHE</a></td>\n",
       "        <td> <INPUT TYPE=SUBMIT VALUE='remove run' onClick=\"alert('Launch ./bin/madevent in a shell, and run the following command: remove run_02 parton --tag=tag_1')\"><INPUT TYPE=SUBMIT VALUE='launch detector simulation' onClick=\"alert('Launch ./bin/madevent in a shell, and run the following command: pythia run_02 ')\"></td>\n",
       "        </tr>\n",
       "        </tr>\n",
       "        \n",
       "        </TABLE>\n",
       "    <H3 align=center><A HREF=\"./index.html\"> Main Page </A></H3>\n",
       "</BODY> \n",
       "</HTML> \n"
      ],
      "text/plain": [
       "<IPython.core.display.HTML object>"
      ]
     },
     "execution_count": 22,
     "metadata": {},
     "output_type": "execute_result"
    }
   ],
   "source": [
    "dp.HTML('MadOut/crossx.html')"
   ]
  },
  {
   "cell_type": "markdown",
   "metadata": {},
   "source": [
    "## Run Drell-Yann production $l\\ N_R$"
   ]
  },
  {
   "cell_type": "code",
   "execution_count": null,
   "metadata": {
    "collapsed": true
   },
   "outputs": [],
   "source": [
    "%%writefile drellyann.mdg\n",
    "import model LRmodelsLRSSM -modelnam\n",
    "#p is already defined if imported from\tMadGraph console\n",
    "define p g d1 d1bar d2 d2bar u1 u1bar u2 u2bar\n",
    "define l e1 e2 e3 e1bar e2bar e3bar\n",
    "define NR nu4 nu5 nu6\n",
    "generate p p > l NR QCD=0\n",
    "utput MadOut -f\n",
    "exit"
   ]
  },
  {
   "cell_type": "code",
   "execution_count": null,
   "metadata": {
    "collapsed": true
   },
   "outputs": [],
   "source": [
    "cp SPheno.spc.LRmodelsLRSSM MadOut/Cards/param_card.dat"
   ]
  },
  {
   "cell_type": "code",
   "execution_count": null,
   "metadata": {
    "collapsed": true
   },
   "outputs": [],
   "source": [
    "print commands.getoutput('../madgraph/bin/mg5_aMC  drellyann.mdg 2> /dev/null | tail -n15')"
   ]
  },
  {
   "cell_type": "code",
   "execution_count": null,
   "metadata": {
    "collapsed": true
   },
   "outputs": [],
   "source": [
    "dp.HTML('MadOut/crossx.html')"
   ]
  },
  {
   "cell_type": "markdown",
   "metadata": {},
   "source": [
    "[![Home](http://www.incredimail.com/images/nav%20bar/home-icon.png)](./) \n",
    "[Jupyter home](./draft.pdf)"
   ]
  },
  {
   "cell_type": "code",
   "execution_count": null,
   "metadata": {
    "collapsed": true
   },
   "outputs": [],
   "source": []
  }
 ],
 "metadata": {
  "kernelspec": {
   "display_name": "Python 2",
   "language": "python",
   "name": "python2"
  },
  "language_info": {
   "codemirror_mode": {
    "name": "ipython",
    "version": 2
   },
   "file_extension": ".py",
   "mimetype": "text/x-python",
   "name": "python",
   "nbconvert_exporter": "python",
   "pygments_lexer": "ipython2",
   "version": "2.7.9"
  }
 },
 "nbformat": 4,
 "nbformat_minor": 0
}
