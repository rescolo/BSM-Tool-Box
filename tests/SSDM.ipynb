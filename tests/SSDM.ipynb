{
 "cells": [
  {
   "cell_type": "markdown",
   "metadata": {},
   "source": [
    "#  Singlet Scalar Dark Matter"
   ]
  },
  {
   "cell_type": "markdown",
   "metadata": {},
   "source": [
    "We expect here degenerate masses so we must be carefull about the DM particles that is registered by micrOMEGAS:\n",
    "\n",
    "We need to edit prtcls1.mld to have the righ order with Nv0 appearing first"
   ]
  },
  {
   "cell_type": "code",
   "execution_count": 1,
   "metadata": {},
   "outputs": [
    {
     "name": "stdout",
     "output_type": "stream",
     "text": [
      "Populating the interactive namespace from numpy and matplotlib\n"
     ]
    }
   ],
   "source": [
    "%pylab inline"
   ]
  },
  {
   "cell_type": "code",
   "execution_count": 3,
   "metadata": {},
   "outputs": [],
   "source": [
    "import pandas as pd #Series and DataFrames\n",
    "import numpy as np #arrays\n",
    "import os, sys, inspect\n",
    "import commands\n",
    "from hep import * \n",
    "import time"
   ]
  },
  {
   "cell_type": "markdown",
   "metadata": {},
   "source": [
    "## Feynrules implementation\n",
    "[Preliminary Analysis](../../../2016/micromegas_feynrules/correr_micrOMEGAs-markov.ipynb)\n",
    "\n",
    "See also full results with user galcen in fisica? or gfif?"
   ]
  },
  {
   "cell_type": "markdown",
   "metadata": {},
   "source": [
    "\n",
    "## Check one point"
   ]
  },
  {
   "cell_type": "code",
   "execution_count": 4,
   "metadata": {},
   "outputs": [],
   "source": [
    "a=hep(MODEL='SSDM')"
   ]
  },
  {
   "cell_type": "markdown",
   "metadata": {},
   "source": [
    "`a-object` is an object with many attributes and methods. Use the tab to explore them. Some of them are\n",
    "* a.Series: [pandas](http://pandas.pydata.org/) Series object with the \"relevant\" variables \n",
    "* a.LHA: Input LesHouces file as [pyslha](https://pypi.python.org/pypi/pyslha/) object\n",
    "* a.runSPheno() -> a.LHA_out: return LHA output files as [pyslha](https://pypi.python.org/pypi/pyslha/) object\n",
    "* a.runmicromegas() -> a.runSPheno() -> Updated the `a-object`  with micrOMEGAS \"relevant\" output"
   ]
  },
  {
   "cell_type": "code",
   "execution_count": 7,
   "metadata": {},
   "outputs": [
    {
     "data": {
      "text/plain": [
       "_dict([(1, '2.8000000E-01   # Lambda1IN'),\n",
       "       (2, '1.0000000E-02   # LamSHIN'),\n",
       "       (3, '0.0000000E+00   # LamSIN'),\n",
       "       (4, '2.0000000E+02   # MSinput')])"
      ]
     },
     "execution_count": 7,
     "metadata": {},
     "output_type": "execute_result"
    }
   ],
   "source": [
    "a.LHA.blocks['MINPAR'].entries"
   ]
  },
  {
   "cell_type": "markdown",
   "metadata": {},
   "source": [
    "Run one point"
   ]
  },
  {
   "cell_type": "markdown",
   "metadata": {},
   "source": [
    "### Fix Higgs mass"
   ]
  },
  {
   "cell_type": "code",
   "execution_count": 9,
   "metadata": {},
   "outputs": [
    {
     "data": {
      "text/plain": [
       "GFFermiconstant     1.166370e-05\n",
       "Zbosonpolemass      9.118870e+01\n",
       "alphasMZSMMSbar     1.187000e-01\n",
       "mbmbSMMSbar         4.180000e+00\n",
       "mtaupole            1.776690e+00\n",
       "mtoppole            1.735000e+02\n",
       "LamSIN              0.000000e+00\n",
       "Lambda1IN           2.800000e-01\n",
       "LamhS               6.000000e+01\n",
       "muS2                6.000000e+01\n",
       "Mh                  1.302877e+02\n",
       "MS                  1.907232e+03\n",
       "h0 ->  SBAR S       1.806505e-04\n",
       "h0 ->  DBAR D       5.022378e-07\n",
       "h0 ->  W- W+        3.150397e-01\n",
       "h0 ->  GLUE GLUE    8.048230e-02\n",
       "h0 ->  PHOT PHOT    2.611523e-03\n",
       "h0 ->  MU+ MU-      1.958746e-04\n",
       "h0 ->  Z0 Z0        3.815280e-02\n",
       "h0 ->  E+ E-        4.384726e-09\n",
       "h0 ->  CBAR C       2.281859e-02\n",
       "h0 ->  UBAR U       9.606354e-08\n",
       "h0 ->  BBAR B       4.839731e-01\n",
       "h0 ->  TAU+ TAU-    5.654484e-02\n",
       "Gamma_ss            0.000000e+00\n",
       "Gamma_h0            4.757755e-03\n",
       "dtype: float64"
      ]
     },
     "execution_count": 9,
     "metadata": {},
     "output_type": "execute_result"
    }
   ],
   "source": [
    "v=a.vev\n",
    "a.LHA.blocks['MINPAR'][2]='%0.8E       #LamhS' %60\n",
    "a.LHA.blocks['MINPAR'][4]='%0.8E       #muS2' %60\n",
    "moc=a.runmicromegas(Direct_Detection=True)\n",
    "ap=a.branchings(a.LHA_out.decays,min_pdg=25) #Fill a.Br_names\n",
    "a.Series['Mh']=a.LHA_out.blocks['MASS'][25]\n",
    "a.Series['MS']=a.LHA_out.blocks['MASS'][6666635]\n",
    "a.Series=a.Series.append(a.Br_names)\n",
    "a.Series"
   ]
  },
  {
   "cell_type": "markdown",
   "metadata": {},
   "source": [
    "## Scan $\\lambda - m_{DM}$\n",
    "Fig 1. of http://arxiv.org/pdf/1306.4710.pdf\n",
    "\n",
    "Check also Fig. 1 of https://arxiv.org/pdf/1411.1335v2.pdf"
   ]
  },
  {
   "cell_type": "code",
   "execution_count": 11,
   "metadata": {},
   "outputs": [
    {
     "name": "stdout",
     "output_type": "stream",
     "text": [
      "GFFermiconstant     1.166370e-05\n",
      "Zbosonpolemass      9.118870e+01\n",
      "alphasMZSMMSbar     1.187000e-01\n",
      "mbmbSMMSbar         4.180000e+00\n",
      "mtaupole            1.776690e+00\n",
      "mtoppole            1.735000e+02\n",
      "LamSIN              0.000000e+00\n",
      "Lambda1IN           2.800000e-01\n",
      "LamhS               6.000000e+01\n",
      "muS2                6.000000e+01\n",
      "Mh                  1.302877e+02\n",
      "MS                  1.907232e+03\n",
      "h0 ->  SBAR S       1.806505e-04\n",
      "h0 ->  DBAR D       5.022378e-07\n",
      "h0 ->  W- W+        3.150397e-01\n",
      "h0 ->  GLUE GLUE    8.048230e-02\n",
      "h0 ->  PHOT PHOT    2.611523e-03\n",
      "h0 ->  MU+ MU-      1.958746e-04\n",
      "h0 ->  Z0 Z0        3.815280e-02\n",
      "h0 ->  E+ E-        4.384726e-09\n",
      "h0 ->  CBAR C       2.281859e-02\n",
      "h0 ->  UBAR U       9.606354e-08\n",
      "h0 ->  BBAR B       4.839731e-01\n",
      "h0 ->  TAU+ TAU-    5.654484e-02\n",
      "Gamma_ss            0.000000e+00\n",
      "Gamma_h0            4.757755e-03\n",
      "dtype: float64\n"
     ]
    }
   ],
   "source": [
    "print a.Series"
   ]
  },
  {
   "cell_type": "code",
   "execution_count": 12,
   "metadata": {
    "scrolled": true
   },
   "outputs": [
    {
     "name": "stdout",
     "output_type": "stream",
     "text": [
      "0\n",
      "40.0 0.0001\n",
      "40.0 1.0\n",
      "120.0 0.0001\n",
      "120.0 1.0\n",
      "14.5702159405\n"
     ]
    }
   ],
   "source": [
    "start=time.time()\n",
    "df=pd.DataFrame() #initialize empty dataframe\n",
    "a.LHA.blocks['SPHENOINPUT'].entries[55]='0               # Calculate one loop masses'\n",
    "npoints=2\n",
    "dm_masses=np.linspace(40,120,npoints)\n",
    "LamSmin=1E-4;LamSmax=1\n",
    "lambdas=np.logspace(np.log10(LamSmin),np.log10(LamSmax),npoints)\n",
    "for MS in dm_masses:\n",
    "    if np.where(dm_masses==MS)[0][0]%10==0: #find the index of the array entry\n",
    "            print np.where(dm_masses==MS)[0][0]\n",
    "    #muS2=int_to_phys(LamS,MS)\n",
    "    muS2=MS #FIx!!!!\n",
    "    #loop in LamS\n",
    "    for LamS in lambdas:\n",
    "        print muS2,LamS\n",
    "        a.LHA.blocks['MINPAR'][2]='%0.8E       # LamhS' %LamS\n",
    "        a.LHA.blocks['MINPAR'][4]='%0.8E       # muS2' %muS2\n",
    "        a.runmicromegas(Direct_Detection=True)\n",
    "        pa=a.branchings(a.LHA_out.decays,min_pdg=25) #Fill a.Br_names\n",
    "        a.Series=a.Series.append(a.Br_names)\n",
    "        a.Series['Mh']=a.LHA_out.blocks['MASS'][25]\n",
    "        a.Series['MS']=a.LHA_out.blocks['MASS'][6666635]\n",
    "        df=df.append(a.Series,ignore_index=True)\n",
    "        df=df.fillna(0)\n",
    "    \n",
    "print time.time()-start"
   ]
  },
  {
   "cell_type": "code",
   "execution_count": 13,
   "metadata": {},
   "outputs": [
    {
     "data": {
      "text/html": [
       "<div>\n",
       "<table border=\"1\" class=\"dataframe\">\n",
       "  <thead>\n",
       "    <tr style=\"text-align: right;\">\n",
       "      <th></th>\n",
       "      <th>GFFermiconstant</th>\n",
       "      <th>Gamma_h0</th>\n",
       "      <th>Gamma_ss</th>\n",
       "      <th>LamSIN</th>\n",
       "      <th>Lambda1IN</th>\n",
       "      <th>LamhS</th>\n",
       "      <th>MS</th>\n",
       "      <th>Mh</th>\n",
       "      <th>Zbosonpolemass</th>\n",
       "      <th>alphasMZSMMSbar</th>\n",
       "      <th>...</th>\n",
       "      <th>h0 -&gt;  SBAR S</th>\n",
       "      <th>h0 -&gt;  TAU+ TAU-</th>\n",
       "      <th>h0 -&gt;  UBAR U</th>\n",
       "      <th>h0 -&gt;  W- W+</th>\n",
       "      <th>h0 -&gt;  Z0 Z0</th>\n",
       "      <th>h0 -&gt;  ss ss</th>\n",
       "      <th>mbmbSMMSbar</th>\n",
       "      <th>mtaupole</th>\n",
       "      <th>mtoppole</th>\n",
       "      <th>muS2</th>\n",
       "    </tr>\n",
       "  </thead>\n",
       "  <tbody>\n",
       "    <tr>\n",
       "      <th>0</th>\n",
       "      <td>0.000012</td>\n",
       "      <td>0.004758</td>\n",
       "      <td>0.0</td>\n",
       "      <td>0.0</td>\n",
       "      <td>0.28</td>\n",
       "      <td>0.0001</td>\n",
       "      <td>6.786933</td>\n",
       "      <td>130.287679</td>\n",
       "      <td>91.1887</td>\n",
       "      <td>0.1187</td>\n",
       "      <td>...</td>\n",
       "      <td>0.000181</td>\n",
       "      <td>0.056543</td>\n",
       "      <td>9.605982e-08</td>\n",
       "      <td>0.315028</td>\n",
       "      <td>0.038151</td>\n",
       "      <td>0.000039</td>\n",
       "      <td>4.18</td>\n",
       "      <td>1.77669</td>\n",
       "      <td>173.5</td>\n",
       "      <td>40.0</td>\n",
       "    </tr>\n",
       "  </tbody>\n",
       "</table>\n",
       "<p>1 rows × 27 columns</p>\n",
       "</div>"
      ],
      "text/plain": [
       "   GFFermiconstant  Gamma_h0  Gamma_ss  LamSIN  Lambda1IN   LamhS        MS  \\\n",
       "0         0.000012  0.004758       0.0     0.0       0.28  0.0001  6.786933   \n",
       "\n",
       "           Mh  Zbosonpolemass  alphasMZSMMSbar  ...   h0 ->  SBAR S  \\\n",
       "0  130.287679         91.1887           0.1187  ...        0.000181   \n",
       "\n",
       "   h0 ->  TAU+ TAU-  h0 ->  UBAR U  h0 ->  W- W+  h0 ->  Z0 Z0  h0 ->  ss ss  \\\n",
       "0          0.056543   9.605982e-08      0.315028      0.038151      0.000039   \n",
       "\n",
       "   mbmbSMMSbar  mtaupole  mtoppole  muS2  \n",
       "0         4.18   1.77669     173.5  40.0  \n",
       "\n",
       "[1 rows x 27 columns]"
      ]
     },
     "execution_count": 13,
     "metadata": {},
     "output_type": "execute_result"
    }
   ],
   "source": [
    "df[:1]"
   ]
  },
  {
   "cell_type": "markdown",
   "metadata": {},
   "source": [
    "### Relic density"
   ]
  },
  {
   "cell_type": "code",
   "execution_count": 14,
   "metadata": {},
   "outputs": [
    {
     "data": {
      "image/png": "[encoded data removed]",
      "text/plain": [
       "<matplotlib.figure.Figure at 0x7f658542c5d0>"
      ]
     },
     "metadata": {},
     "output_type": "display_data"
    }
   ],
   "source": [
    "plt.semilogy(df.MS,df.LamhS,'ko')\n",
    "plt.xlabel(r'$m_{\\rm DM}$ [GeV]',size=20)\n",
    "plt.ylabel(r'$\\Omega h^2$',size=20)\n",
    "plt.grid()"
   ]
  },
  {
   "cell_type": "code",
   "execution_count": 18,
   "metadata": {},
   "outputs": [
    {
     "data": {
      "text/plain": [
       "array(['GFFermiconstant', 'Gamma_h0', 'Gamma_ss', 'LamSIN', 'Lambda1IN',\n",
       "       'LamhS', 'MS', 'Mh', 'Zbosonpolemass', 'alphasMZSMMSbar',\n",
       "       'h0 ->  BBAR B', 'h0 ->  CBAR C', 'h0 ->  DBAR D', 'h0 ->  E+ E-',\n",
       "       'h0 ->  GLUE GLUE', 'h0 ->  MU+ MU-', 'h0 ->  PHOT PHOT',\n",
       "       'h0 ->  SBAR S', 'h0 ->  TAU+ TAU-', 'h0 ->  UBAR U',\n",
       "       'h0 ->  W- W+', 'h0 ->  Z0 Z0', 'h0 ->  ss ss', 'mbmbSMMSbar',\n",
       "       'mtaupole', 'mtoppole', 'muS2'], dtype=object)"
      ]
     },
     "execution_count": 18,
     "metadata": {},
     "output_type": "execute_result"
    }
   ],
   "source": [
    "df.columns.values"
   ]
  },
  {
   "cell_type": "code",
   "execution_count": null,
   "metadata": {},
   "outputs": [],
   "source": [
    "plt.semilogy(df.MS,df.neutron_SI,'k-')\n",
    "plt.xlabel(r'$m_{\\rm DM}$ [GeV]',size=20)\n",
    "plt.ylabel(r'Direct Detection [pb]' ,size=20)"
   ]
  },
  {
   "cell_type": "markdown",
   "metadata": {},
   "source": [
    "[![Home](http://www.incredimail.com/images/nav%20bar/home-icon.png)](./) \n",
    "[Jupyter home](./draft.pdf)"
   ]
  }
 ],
 "metadata": {
  "kernelspec": {
   "display_name": "Python 2",
   "language": "python",
   "name": "python2"
  },
  "language_info": {
   "codemirror_mode": {
    "name": "ipython",
    "version": 2
   },
   "file_extension": ".py",
   "mimetype": "text/x-python",
   "name": "python",
   "nbconvert_exporter": "python",
   "pygments_lexer": "ipython2",
   "version": "2.7.9"
  },
  "toc": {
   "colors": {
    "hover_highlight": "#DAA520",
    "running_highlight": "#FF0000",
    "selected_highlight": "#FFD700"
   },
   "moveMenuLeft": true,
   "nav_menu": {
    "height": "120px",
    "width": "252px"
   },
   "navigate_menu": true,
   "number_sections": true,
   "sideBar": true,
   "threshold": 4,
   "toc_cell": false,
   "toc_section_display": "block",
   "toc_window_display": false
  }
 },
 "nbformat": 4,
 "nbformat_minor": 1
}
