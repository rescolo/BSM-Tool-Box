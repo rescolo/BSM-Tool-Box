{
 "cells": [
  {
   "cell_type": "markdown",
   "metadata": {},
   "source": [
    "#  Singlet Scalar Dark Matter"
   ]
  },
  {
   "cell_type": "markdown",
   "metadata": {},
   "source": [
    "We expect here degenerate masses so we must be carefull about the DM particles that is registered by micrOMEGAS:\n",
    "\n",
    "We need to edit prtcls1.mld to have the righ order with Nv0 appearing first"
   ]
  },
  {
   "cell_type": "code",
   "execution_count": 1,
   "metadata": {
    "collapsed": false
   },
   "outputs": [
    {
     "name": "stdout",
     "output_type": "stream",
     "text": [
      "Populating the interactive namespace from numpy and matplotlib\n"
     ]
    }
   ],
   "source": [
    "%pylab inline"
   ]
  },
  {
   "cell_type": "code",
   "execution_count": 74,
   "metadata": {
    "collapsed": false
   },
   "outputs": [],
   "source": [
    "import pandas as pd #Series and DataFrames\n",
    "import numpy as np #arrays\n",
    "import os, sys, inspect\n",
    "import commands\n",
    "from hep import * \n",
    "import time"
   ]
  },
  {
   "cell_type": "markdown",
   "metadata": {},
   "source": [
    "## Feynrules implementation\n",
    "[Preliminary Analysis](../../../2016/micromegas_feynrules/correr_micrOMEGAs-markov.ipynb)\n",
    "\n",
    "See also full results with user galcen in fisica? or gfif?"
   ]
  },
  {
   "cell_type": "markdown",
   "metadata": {},
   "source": [
    "\n",
    "## Check one point"
   ]
  },
  {
   "cell_type": "code",
   "execution_count": 43,
   "metadata": {
    "collapsed": false
   },
   "outputs": [],
   "source": [
    "a=hep(MODEL='SSDM')"
   ]
  },
  {
   "cell_type": "markdown",
   "metadata": {},
   "source": [
    "`a-object` is an object with many attributes and methods. Use the tab to explore them. Some of them are\n",
    "* a.Series: [pandas](http://pandas.pydata.org/) Series object with the \"relevant\" variables \n",
    "* a.LHA: Input LesHouces file as [pyslha](https://pypi.python.org/pypi/pyslha/) object\n",
    "* a.runSPheno() -> a.LHA_out: return LHA output files as [pyslha](https://pypi.python.org/pypi/pyslha/) object\n",
    "* a.runmicromegas() -> a.runSPheno() -> Updated the `a-object`  with micrOMEGAS \"relevant\" output"
   ]
  },
  {
   "cell_type": "code",
   "execution_count": 44,
   "metadata": {
    "collapsed": false
   },
   "outputs": [
    {
     "data": {
      "text/plain": [
       "_dict([(1, '2.8000000E-01  # Lambda1IN'),\n",
       "       (2, '1.0000000E-02  # LamSHIN'),\n",
       "       (3, '0.0000000E+00  # LamSIN'),\n",
       "       (4, '2.0000000E+02  # MSinput')])"
      ]
     },
     "execution_count": 44,
     "metadata": {},
     "output_type": "execute_result"
    }
   ],
   "source": [
    "a.LHA.blocks['MINPAR'].entries"
   ]
  },
  {
   "cell_type": "markdown",
   "metadata": {},
   "source": [
    "Run one point"
   ]
  },
  {
   "cell_type": "markdown",
   "metadata": {},
   "source": [
    "### Fix Higgs mass"
   ]
  },
  {
   "cell_type": "code",
   "execution_count": 51,
   "metadata": {
    "collapsed": false
   },
   "outputs": [
    {
     "data": {
      "text/plain": [
       "MASS { 25 :  130; 6666635 :  25.8; 23 :  91.2; 24 :  80.3; 1 :  0.005; 3 :  0.095; 5 :  4.18; 2 :  0.0025; 4 :  1.27; 6 :  174; 11 :  0.000511; 13 :  0.106; 15 :  1.78 }"
      ]
     },
     "execution_count": 51,
     "metadata": {},
     "output_type": "execute_result"
    }
   ],
   "source": [
    "a.LHA_out.blocks['MASS']"
   ]
  },
  {
   "cell_type": "code",
   "execution_count": 95,
   "metadata": {
    "collapsed": false
   },
   "outputs": [
    {
     "data": {
      "text/plain": [
       "GFFermiconstant            1.166370e-05\n",
       "LamSIN                     0.000000e+00\n",
       "Lambda1IN                  2.800000e-01\n",
       "LamhS                      6.000000e+01\n",
       "Zbosonpolemass             9.118870e+01\n",
       "alphasMZSMMSbar            1.187000e-01\n",
       "mbmbSMMSbar                4.180000e+00\n",
       "mtaupole                   1.776690e+00\n",
       "mtoppole                   1.735000e+02\n",
       "muS2                       6.000000e+01\n",
       "Omega_h2                   4.050000e-06\n",
       "proton_SI                  1.491000e-05\n",
       "proton_SD                  0.000000e+00\n",
       "neutron_SI                 1.538000e-05\n",
       "neutron_SD                 0.000000e+00\n",
       "O_chnl:~Ss ~Ss -> Wp Wm    5.024610e-01\n",
       "O_chnl:~Ss ~Ss -> Z Z      2.508410e-01\n",
       "O_chnl:~Ss ~Ss -> h h      2.421640e-01\n",
       "Mh                         1.302877e+02\n",
       "MS                         1.907232e+03\n",
       "h0 ->  SBAR S              1.806505e-04\n",
       "h0 ->  DBAR D              5.022378e-07\n",
       "h0 ->  W- W+               3.150397e-01\n",
       "h0 ->  GLUE GLUE           8.048230e-02\n",
       "h0 ->  PHOT PHOT           2.611523e-03\n",
       "h0 ->  MU+ MU-             1.958746e-04\n",
       "h0 ->  Z0 Z0               3.815280e-02\n",
       "h0 ->  E+ E-               4.384726e-09\n",
       "h0 ->  CBAR C              2.281859e-02\n",
       "h0 ->  UBAR U              9.606354e-08\n",
       "h0 ->  BBAR B              4.839731e-01\n",
       "h0 ->  TAU+ TAU-           5.654484e-02\n",
       "dtype: float64"
      ]
     },
     "execution_count": 95,
     "metadata": {},
     "output_type": "execute_result"
    }
   ],
   "source": [
    "v=a.vev\n",
    "a.LHA.blocks['MINPAR'][2]='%0.8E       #LamhS' %60\n",
    "a.LHA.blocks['MINPAR'][4]='%0.8E       #muS2' %60\n",
    "moc=a.runmicromegas(Direct_Detection=True)\n",
    "ap=a.branchings(a.LHA_out.decays,min_pdg=25) #Fill a.Br_names\n",
    "a.Series['Mh']=a.LHA_out.blocks['MASS'][25]\n",
    "a.Series['MS']=a.LHA_out.blocks['MASS'][6666635]\n",
    "a.Series=a.Series.append(a.Br_names)\n",
    "a.Series"
   ]
  },
  {
   "cell_type": "markdown",
   "metadata": {},
   "source": [
    "## Scan $\\lambda - m_{DM}$\n",
    "Fig 1. of http://arxiv.org/pdf/1306.4710.pdf\n",
    "\n",
    "Check also Fig. 1 of https://arxiv.org/pdf/1411.1335v2.pdf"
   ]
  },
  {
   "cell_type": "code",
   "execution_count": 64,
   "metadata": {
    "collapsed": false
   },
   "outputs": [
    {
     "name": "stdout",
     "output_type": "stream",
     "text": [
      "24.1 24.1 0.0280889489 3.228e-09\n"
     ]
    }
   ],
   "source": [
    "print a.Series.Omega_h2,a.Series['Omega_h2'],a.Series['h0 ->  Z0 Z0'],a.Series.neutron_SI"
   ]
  },
  {
   "cell_type": "code",
   "execution_count": 86,
   "metadata": {
    "collapsed": false
   },
   "outputs": [
    {
     "data": {
      "text/plain": [
       "0.0"
      ]
     },
     "execution_count": 86,
     "metadata": {},
     "output_type": "execute_result"
    }
   ],
   "source": [
    "np.log10(1)"
   ]
  },
  {
   "cell_type": "code",
   "execution_count": 84,
   "metadata": {
    "collapsed": false
   },
   "outputs": [
    {
     "data": {
      "text/plain": [
       "array([  1.00000000e-04,   1.09749877e-04,   1.20450354e-04,\n",
       "         1.32194115e-04,   1.45082878e-04,   1.59228279e-04,\n",
       "         1.74752840e-04,   1.91791026e-04,   2.10490414e-04,\n",
       "         2.31012970e-04,   2.53536449e-04,   2.78255940e-04,\n",
       "         3.05385551e-04,   3.35160265e-04,   3.67837977e-04,\n",
       "         4.03701726e-04,   4.43062146e-04,   4.86260158e-04,\n",
       "         5.33669923e-04,   5.85702082e-04,   6.42807312e-04,\n",
       "         7.05480231e-04,   7.74263683e-04,   8.49753436e-04,\n",
       "         9.32603347e-04,   1.02353102e-03,   1.12332403e-03,\n",
       "         1.23284674e-03,   1.35304777e-03,   1.48496826e-03,\n",
       "         1.62975083e-03,   1.78864953e-03,   1.96304065e-03,\n",
       "         2.15443469e-03,   2.36448941e-03,   2.59502421e-03,\n",
       "         2.84803587e-03,   3.12571585e-03,   3.43046929e-03,\n",
       "         3.76493581e-03,   4.13201240e-03,   4.53487851e-03,\n",
       "         4.97702356e-03,   5.46227722e-03,   5.99484250e-03,\n",
       "         6.57933225e-03,   7.22080902e-03,   7.92482898e-03,\n",
       "         8.69749003e-03,   9.54548457e-03,   1.04761575e-02,\n",
       "         1.14975700e-02,   1.26185688e-02,   1.38488637e-02,\n",
       "         1.51991108e-02,   1.66810054e-02,   1.83073828e-02,\n",
       "         2.00923300e-02,   2.20513074e-02,   2.42012826e-02,\n",
       "         2.65608778e-02,   2.91505306e-02,   3.19926714e-02,\n",
       "         3.51119173e-02,   3.85352859e-02,   4.22924287e-02,\n",
       "         4.64158883e-02,   5.09413801e-02,   5.59081018e-02,\n",
       "         6.13590727e-02,   6.73415066e-02,   7.39072203e-02,\n",
       "         8.11130831e-02,   8.90215085e-02,   9.77009957e-02,\n",
       "         1.07226722e-01,   1.17681195e-01,   1.29154967e-01,\n",
       "         1.41747416e-01,   1.55567614e-01,   1.70735265e-01,\n",
       "         1.87381742e-01,   2.05651231e-01,   2.25701972e-01,\n",
       "         2.47707636e-01,   2.71858824e-01,   2.98364724e-01,\n",
       "         3.27454916e-01,   3.59381366e-01,   3.94420606e-01,\n",
       "         4.32876128e-01,   4.75081016e-01,   5.21400829e-01,\n",
       "         5.72236766e-01,   6.28029144e-01,   6.89261210e-01,\n",
       "         7.56463328e-01,   8.30217568e-01,   9.11162756e-01,\n",
       "         1.00000000e+00])"
      ]
     },
     "execution_count": 84,
     "metadata": {},
     "output_type": "execute_result"
    }
   ],
   "source": []
  },
  {
   "cell_type": "code",
   "execution_count": 96,
   "metadata": {
    "collapsed": false,
    "scrolled": true
   },
   "outputs": [
    {
     "name": "stdout",
     "output_type": "stream",
     "text": [
      "0\n",
      "107.420419931\n"
     ]
    }
   ],
   "source": [
    "start=time.time()\n",
    "df=pd.DataFrame() #initialize empty dataframe\n",
    "a.LHA.blocks['SPHENOINPUT'].entries[55]='0               # Calculate one loop masses'\n",
    "npoints=10\n",
    "dm_masses=np.linspace(40,120,npoints)\n",
    "LamSmin=1E-4;LamSmax=1\n",
    "lamdas=np.logspace(np.log10(LamSmin),np.log10(LamSmax),npoints)\n",
    "for MS in dm_masses:\n",
    "    if np.where(dm_masses==MS)[0][0]%10==0: #find the index of the array entry\n",
    "            print np.where(dm_masses==MS)[0][0]\n",
    "    #muS2=int_to_phys(LamS,MS)\n",
    "    muS2=MS #FIx!!!!\n",
    "    #loop in LamS\n",
    "    for LamS in lamdas:\n",
    "        a.LHA.blocks['MINPAR'][4]='%0.8E       # LamhS' %LamS\n",
    "        a.LHA.blocks['MINPAR'][4]='%0.8E       # muS2' %muS2\n",
    "        a.runmicromegas(Direct_Detection=True)\n",
    "        pa=a.branchings(a.LHA_out.decays,min_pdg=25) #Fill a.Br_names\n",
    "        a.Series=a.Series.append(a.Br_names)\n",
    "        a.Series['Mh']=a.LHA_out.blocks['MASS'][25]\n",
    "        a.Series['MS']=a.LHA_out.blocks['MASS'][6666635]\n",
    "        df=df.append(a.Series,ignore_index=True)\n",
    "        df=df.fillna(0)\n",
    "    \n",
    "print time.time()-start"
   ]
  },
  {
   "cell_type": "code",
   "execution_count": 92,
   "metadata": {
    "collapsed": false
   },
   "outputs": [
    {
     "data": {
      "text/html": [
       "<div>\n",
       "<table border=\"1\" class=\"dataframe\">\n",
       "  <thead>\n",
       "    <tr style=\"text-align: right;\">\n",
       "      <th></th>\n",
       "      <th>GFFermiconstant</th>\n",
       "      <th>LamSHIN</th>\n",
       "      <th>LamSIN</th>\n",
       "      <th>Lambda1IN</th>\n",
       "      <th>MS</th>\n",
       "      <th>Mh</th>\n",
       "      <th>O_chnl:~Ss ~Ss -&gt; d3 D3</th>\n",
       "      <th>O_chnl:~Ss ~Ss -&gt; e3 E3</th>\n",
       "      <th>O_chnl:~Ss ~Ss -&gt; g g</th>\n",
       "      <th>O_chnl:~Ss ~Ss -&gt; u2 U2</th>\n",
       "      <th>...</th>\n",
       "      <th>h0 -&gt;  Z0 Z0</th>\n",
       "      <th>h0 -&gt;  ss ss</th>\n",
       "      <th>mbmbSMMSbar</th>\n",
       "      <th>mtaupole</th>\n",
       "      <th>mtoppole</th>\n",
       "      <th>muS2</th>\n",
       "      <th>neutron_SD</th>\n",
       "      <th>neutron_SI</th>\n",
       "      <th>proton_SD</th>\n",
       "      <th>proton_SI</th>\n",
       "    </tr>\n",
       "  </thead>\n",
       "  <tbody>\n",
       "    <tr>\n",
       "      <th>0</th>\n",
       "      <td>0.000012</td>\n",
       "      <td>0.01</td>\n",
       "      <td>0</td>\n",
       "      <td>0.28</td>\n",
       "      <td>25.421363</td>\n",
       "      <td>130.287679</td>\n",
       "      <td>0.857164</td>\n",
       "      <td>0.078763</td>\n",
       "      <td>0.018063</td>\n",
       "      <td>0.044461</td>\n",
       "      <td>...</td>\n",
       "      <td>0.028089</td>\n",
       "      <td>0.263778</td>\n",
       "      <td>4.18</td>\n",
       "      <td>1.77669</td>\n",
       "      <td>173.5</td>\n",
       "      <td>40</td>\n",
       "      <td>0</td>\n",
       "      <td>3.228000e-09</td>\n",
       "      <td>0</td>\n",
       "      <td>3.150000e-09</td>\n",
       "    </tr>\n",
       "  </tbody>\n",
       "</table>\n",
       "<p>1 rows × 34 columns</p>\n",
       "</div>"
      ],
      "text/plain": [
       "   GFFermiconstant  LamSHIN  LamSIN  Lambda1IN         MS          Mh  \\\n",
       "0         0.000012     0.01       0       0.28  25.421363  130.287679   \n",
       "\n",
       "   O_chnl:~Ss ~Ss -> d3 D3  O_chnl:~Ss ~Ss -> e3 E3  O_chnl:~Ss ~Ss -> g g  \\\n",
       "0                 0.857164                 0.078763               0.018063   \n",
       "\n",
       "   O_chnl:~Ss ~Ss -> u2 U2      ...       h0 ->  Z0 Z0  h0 ->  ss ss  \\\n",
       "0                 0.044461      ...           0.028089      0.263778   \n",
       "\n",
       "   mbmbSMMSbar  mtaupole  mtoppole  muS2  neutron_SD    neutron_SI  proton_SD  \\\n",
       "0         4.18   1.77669     173.5    40           0  3.228000e-09          0   \n",
       "\n",
       "      proton_SI  \n",
       "0  3.150000e-09  \n",
       "\n",
       "[1 rows x 34 columns]"
      ]
     },
     "execution_count": 92,
     "metadata": {},
     "output_type": "execute_result"
    }
   ],
   "source": [
    "df[:1]"
   ]
  },
  {
   "cell_type": "code",
   "execution_count": 93,
   "metadata": {
    "collapsed": false
   },
   "outputs": [
    {
     "data": {
      "text/plain": [
       "0     0.01\n",
       "1     0.01\n",
       "2     0.01\n",
       "3     0.01\n",
       "4     0.01\n",
       "5     0.01\n",
       "6     0.01\n",
       "7     0.01\n",
       "8     0.01\n",
       "9     0.01\n",
       "10    0.01\n",
       "11    0.01\n",
       "12    0.01\n",
       "13    0.01\n",
       "14    0.01\n",
       "15    0.01\n",
       "16    0.01\n",
       "17    0.01\n",
       "18    0.01\n",
       "19    0.01\n",
       "20    0.01\n",
       "21    0.01\n",
       "22    0.01\n",
       "23    0.01\n",
       "24    0.01\n",
       "25    0.01\n",
       "26    0.01\n",
       "27    0.01\n",
       "28    0.01\n",
       "29    0.01\n",
       "      ... \n",
       "70    0.01\n",
       "71    0.01\n",
       "72    0.01\n",
       "73    0.01\n",
       "74    0.01\n",
       "75    0.01\n",
       "76    0.01\n",
       "77    0.01\n",
       "78    0.01\n",
       "79    0.01\n",
       "80    0.01\n",
       "81    0.01\n",
       "82    0.01\n",
       "83    0.01\n",
       "84    0.01\n",
       "85    0.01\n",
       "86    0.01\n",
       "87    0.01\n",
       "88    0.01\n",
       "89    0.01\n",
       "90    0.01\n",
       "91    0.01\n",
       "92    0.01\n",
       "93    0.01\n",
       "94    0.01\n",
       "95    0.01\n",
       "96    0.01\n",
       "97    0.01\n",
       "98    0.01\n",
       "99    0.01\n",
       "Name: LamSHIN, dtype: float64"
      ]
     },
     "execution_count": 93,
     "metadata": {},
     "output_type": "execute_result"
    }
   ],
   "source": [
    "df.L"
   ]
  },
  {
   "cell_type": "markdown",
   "metadata": {},
   "source": [
    "### Relic density"
   ]
  },
  {
   "cell_type": "code",
   "execution_count": 40,
   "metadata": {
    "collapsed": false
   },
   "outputs": [
    {
     "data": {
      "image/png": "[encoded data removed]",
      "text/plain": [
       "<matplotlib.figure.Figure at 0x7f1aa9bfae50>"
      ]
     },
     "metadata": {},
     "output_type": "display_data"
    }
   ],
   "source": [
    "plt.semilogy(df.MS,df.LamhS,'ko')\n",
    "plt.xlabel(r'$m_{\\rm DM}$ [GeV]',size=20)\n",
    "plt.ylabel(r'$\\Omega h^2$',size=20)\n",
    "plt.grid()"
   ]
  },
  {
   "cell_type": "code",
   "execution_count": 10,
   "metadata": {
    "collapsed": false
   },
   "outputs": [
    {
     "data": {
      "image/png": "[encoded data removed]",
      "text/plain": [
       "<matplotlib.figure.Figure at 0x7f6c5af9dcd0>"
      ]
     },
     "metadata": {},
     "output_type": "display_data"
    }
   ],
   "source": [
    "plt.semilogy(df.MS,df.neutron_SI,'k-')\n",
    "plt.xlabel(r'$m_{\\rm DM}$ [GeV]',size=20)\n",
    "plt.ylabel(r'Direct Detection [pb]' ,size=20)"
   ]
  },
  {
   "cell_type": "markdown",
   "metadata": {},
   "source": [
    "[![Home](http://www.incredimail.com/images/nav%20bar/home-icon.png)](./) \n",
    "[Jupyter home](./draft.pdf)"
   ]
  }
 ],
 "metadata": {
  "kernelspec": {
   "display_name": "Python 2",
   "language": "python",
   "name": "python2"
  },
  "language_info": {
   "codemirror_mode": {
    "name": "ipython",
    "version": 2
   },
   "file_extension": ".py",
   "mimetype": "text/x-python",
   "name": "python",
   "nbconvert_exporter": "python",
   "pygments_lexer": "ipython2",
   "version": "2.7.9"
  }
 },
 "nbformat": 4,
 "nbformat_minor": 0
}
