{
 "cells": [
  {
   "cell_type": "markdown",
   "metadata": {},
   "source": [
    "#  B-L extended standard model\n",
    "See for example \n",
    "\n",
    "* [arxiv:1609.03594](http://arxiv.org/pdf/1609.03594.pdf)\n",
    "* [arxiv:1304.4700](https://arxiv.org/pdf/1304.4700v1.pdf)\n",
    "* DOI:<a href='http://inspirehep.net/search?ln=en&p=doi:10.1016/0370-2693(91)90952-M'>10.1016/0370-2693(91)90952-M</a>\n"
   ]
  },
  {
   "cell_type": "code",
   "execution_count": 2,
   "metadata": {
    "collapsed": false
   },
   "outputs": [
    {
     "name": "stdout",
     "output_type": "stream",
     "text": [
      "Populating the interactive namespace from numpy and matplotlib\n"
     ]
    }
   ],
   "source": [
    "%pylab inline"
   ]
  },
  {
   "cell_type": "code",
   "execution_count": 3,
   "metadata": {
    "collapsed": false
   },
   "outputs": [],
   "source": [
    "import pandas as pd\n",
    "import numpy as np\n",
    "import os, sys, inspect\n",
    "import commands\n",
    "from hep import *"
   ]
  },
  {
   "cell_type": "markdown",
   "metadata": {},
   "source": [
    "\n",
    "## Check one point"
   ]
  },
  {
   "cell_type": "code",
   "execution_count": 5,
   "metadata": {
    "collapsed": false
   },
   "outputs": [],
   "source": [
    "a=hep(MODEL='ZpBminusLSM')"
   ]
  },
  {
   "cell_type": "markdown",
   "metadata": {},
   "source": [
    "`a-object` is an object with many attributes and methods. Use the tab to explore them. Some of them are\n",
    "* a.Series: [pandas](http://pandas.pydata.org/) Series object with the \"relevant\" variables \n",
    "* a.LHA: Input LesHouces file as [pyslha](https://pypi.python.org/pypi/pyslha/) object\n",
    "* a.runSPheno() -> a.LHA_out: return LHA output files as [pyslha](https://pypi.python.org/pypi/pyslha/) object\n",
    "* a.runmicromegas() -> a.runSPheno() -> Updated the `a-object`  with micrOMEGAS \"relevant\" output"
   ]
  },
  {
   "cell_type": "code",
   "execution_count": 6,
   "metadata": {
    "collapsed": false
   },
   "outputs": [
    {
     "data": {
      "text/plain": [
       "'1.             # Write effective Higgs couplings (HiggsBounds blocks): put 0 to use file with MadGraph! '"
      ]
     },
     "execution_count": 6,
     "metadata": {},
     "output_type": "execute_result"
    }
   ],
   "source": [
    "a.LHA.blocks['SPHENOINPUT'].entries[520]"
   ]
  },
  {
   "cell_type": "markdown",
   "metadata": {},
   "source": [
    "### Input parameters"
   ]
  },
  {
   "cell_type": "code",
   "execution_count": 10,
   "metadata": {
    "collapsed": false
   },
   "outputs": [
    {
     "data": {
      "text/plain": [
       "1     -1.2700000E-01 # Lambda1INPUT\n",
       "2     -7.2000000E-05 # Lambda2INPUT\n",
       "3     0.000000E+00   # Lambda3INPUT\n",
       "10        5.0000000E-01  # g1pINPUT\n",
       "11       0.000000E+00   # g1p1INPUT\n",
       "12       0.000000E+00   # g11pINPUT\n",
       "20         2.5000000E+03  # vXinput\n",
       "dtype: object"
      ]
     },
     "execution_count": 10,
     "metadata": {},
     "output_type": "execute_result"
    }
   ],
   "source": [
    "pd.Series(a.LHA.blocks['MINPAR'].entries)"
   ]
  },
  {
   "cell_type": "markdown",
   "metadata": {},
   "source": [
    "### Change some inputs"
   ]
  },
  {
   "cell_type": "code",
   "execution_count": 11,
   "metadata": {
    "collapsed": false
   },
   "outputs": [],
   "source": [
    "v=a.vev\n",
    "#lambda_1=0.13\n",
    "devnull=commands.getoutput('rm -f SPheno.spc.%s' %a.MODEL)\n",
    "a.LHA.blocks['SPHENOINPUT'].entries[520]='0.             # Write effective Higgs couplings (HiggsBounds blocks): put 0 to use file with MadGraph! '\n",
    "a.LHA.blocks['SPHENOINPUT'].entries[55]='0               # Calculate one loop masses'\n",
    "a.LHA.blocks['MINPAR'].entries[10]='5.0000000E-01  # g1pINPUT'\n",
    "a.LHA.blocks['MINPAR'].entries[2]='-1.000000E-01   # Lambda2INPUT'\n",
    "#a.LHA.blocks['YVIN'].entries[1,1]='%0.8E  # Yv(1,1)' %5E-6\n",
    "#a.LHA.blocks['YVIN'].entries[2,2]='%0.8E  # Yv(2,2)' %5E-6\n",
    "#a.LHA.blocks['YVIN'].entries[3,3]='%0.8E  # Yv(3,3)' %5E-6\n",
    "tmp=a.runSPheno()"
   ]
  },
  {
   "cell_type": "markdown",
   "metadata": {},
   "source": [
    "### Output masses"
   ]
  },
  {
   "cell_type": "code",
   "execution_count": 13,
   "metadata": {
    "collapsed": false
   },
   "outputs": [
    {
     "data": {
      "text/plain": [
       "25         1.24091258E+02 # hh_1\n",
       "35         1.11803399E+03 # hh_2\n",
       "23           9.11887000E+01 # VZ\n",
       "24          8.03497269E+01 # VWm\n",
       "31          2.50000000E+03 # VZp\n",
       "1          5.00000000E-03 # Fd_1\n",
       "3          9.50000000E-02 # Fd_2\n",
       "5          4.18000000E+00 # Fd_3\n",
       "2          2.50000000E-03 # Fu_1\n",
       "4          1.27000000E+00 # Fu_2\n",
       "6          1.73500000E+02 # Fu_3\n",
       "11         5.10998930E-04 # Fe_1\n",
       "13         1.05658372E-01 # Fe_2\n",
       "15         1.77669000E+00 # Fe_3\n",
       "12         0.00000000E+00 # Fv_1\n",
       "14         0.00000000E+00 # Fv_2\n",
       "16         0.00000000E+00 # Fv_3\n",
       "8810012    1.23084939E+03 # Fv_4\n",
       "8810014    1.23084939E+03 # Fv_5\n",
       "8810016    1.23084939E+03 # Fv_6\n",
       "dtype: object"
      ]
     },
     "execution_count": 13,
     "metadata": {},
     "output_type": "execute_result"
    }
   ],
   "source": [
    "pd.Series(a.LHA_out_with_comments.blocks['MASS'].entries)"
   ]
  },
  {
   "cell_type": "markdown",
   "metadata": {},
   "source": [
    "### Output branchings and decay widths"
   ]
  },
  {
   "cell_type": "code",
   "execution_count": 14,
   "metadata": {
    "collapsed": false
   },
   "outputs": [],
   "source": [
    "ip=a.branchings(a.LHA_out.decays,min_pdg=23)"
   ]
  },
  {
   "cell_type": "code",
   "execution_count": 15,
   "metadata": {
    "collapsed": false
   },
   "outputs": [
    {
     "name": "stdout",
     "output_type": "stream",
     "text": [
      "h0 ->  SBAR S        2.199132e-04\n",
      "h0 ->  DBAR D        6.113944e-07\n",
      "h0 ->  W+ W-         2.018502e-01\n",
      "h0 ->  GLUE GLUE     8.869160e-02\n",
      "h0 ->  PHOT PHOT     2.685222e-03\n",
      "h0 ->  MU+ MU-       2.364716e-04\n",
      "h0 ->  Z0 Z0         2.126368e-02\n",
      "h0 ->  E+ E-         5.293505e-09\n",
      "h0 ->  CBAR C        2.778783e-02\n",
      "h0 ->  UBAR U        1.169848e-07\n",
      "h0 ->  BBAR B        5.890078e-01\n",
      "h0 ->  TAU+ TAU-     6.825654e-02\n",
      "VZp ->  NUE NUE      7.558271e-02\n",
      "VZp ->  DBAR D       5.038848e-02\n",
      "VZp ->  NUT NUT      7.558271e-02\n",
      "VZp ->  SBAR S       5.038848e-02\n",
      "VZp ->  NUM NUM      7.558271e-02\n",
      "VZp ->  BBAR B       5.038848e-02\n",
      "VZp ->  E+ E-        1.511654e-01\n",
      "VZp ->  CBAR C       5.038848e-02\n",
      "VZp ->  Fv_6 Fv_6    5.810589e-03\n",
      "VZp ->  Fv_5 Fv_5    5.810589e-03\n",
      "VZp ->  UBAR U       5.038848e-02\n",
      "VZp ->  MU+ MU-      1.511654e-01\n",
      "VZp ->  TBAR T       5.038142e-02\n",
      "VZp ->  Fv_4 Fv_4    5.810589e-03\n",
      "VZp ->  TAU+ TAU-    1.511654e-01\n",
      "Gamma_Fv_6           0.000000e+00\n",
      "Gamma_hh_2           0.000000e+00\n",
      "Gamma_Z0             0.000000e+00\n",
      "Gamma_W+             0.000000e+00\n",
      "Gamma_h0             3.752854e-03\n",
      "Gamma_Fv_4           0.000000e+00\n",
      "Gamma_Fv_5           0.000000e+00\n",
      "Gamma_VZp            1.096722e+02\n",
      "dtype: float64\n"
     ]
    }
   ],
   "source": [
    "pd.set_option('display.max_rows', 500)\n",
    "print a.Br_names"
   ]
  },
  {
   "cell_type": "markdown",
   "metadata": {},
   "source": [
    "[![Home](http://www.incredimail.com/images/nav%20bar/home-icon.png)](./) \n",
    "[Jupyter home](./draft.pdf)"
   ]
  }
 ],
 "metadata": {
  "kernelspec": {
   "display_name": "Python 2",
   "language": "python",
   "name": "python2"
  },
  "language_info": {
   "codemirror_mode": {
    "name": "ipython",
    "version": 2
   },
   "file_extension": ".py",
   "mimetype": "text/x-python",
   "name": "python",
   "nbconvert_exporter": "python",
   "pygments_lexer": "ipython2",
   "version": "2.7.9"
  }
 },
 "nbformat": 4,
 "nbformat_minor": 0
}
