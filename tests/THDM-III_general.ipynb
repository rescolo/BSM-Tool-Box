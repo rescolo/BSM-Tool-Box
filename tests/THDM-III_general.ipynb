{
 "cells": [
  {
   "cell_type": "markdown",
   "metadata": {},
   "source": [
    "#  Inert doublet model"
   ]
  },
  {
   "cell_type": "markdown",
   "metadata": {},
   "source": [
    "According to this  [bug report](http://stauby.de/sarah_userforum/viewtopic.php?f=5&t=50#p252), we need to change by hand the file [prtcls1.mdl](../micromegas/SimplifiedDMIDM/work/models/prtcls1.mdl) to be sure that the DM candidate appears as the first defined $Z_2$-particle. In this case:\n",
    "\n",
    "` etR       |~etR    |~etR    |35 ...\n",
    "etI       |~etI    |~etI    |36 ...\n",
    "etp       |~etp    |~Etp    |37 ...`"
   ]
  },
  {
   "cell_type": "code",
   "execution_count": 1,
   "metadata": {
    "collapsed": false
   },
   "outputs": [
    {
     "name": "stdout",
     "output_type": "stream",
     "text": [
      "Populating the interactive namespace from numpy and matplotlib\n"
     ]
    }
   ],
   "source": [
    "%pylab inline"
   ]
  },
  {
   "cell_type": "code",
   "execution_count": 2,
   "metadata": {
    "collapsed": false
   },
   "outputs": [],
   "source": [
    "import pandas as pd\n",
    "import numpy as np\n",
    "import os, sys, inspect\n",
    "import commands\n",
    "from hep import *"
   ]
  },
  {
   "cell_type": "markdown",
   "metadata": {},
   "source": [
    "Define functions to change from general basis to physical basis "
   ]
  },
  {
   "cell_type": "code",
   "execution_count": 25,
   "metadata": {
    "collapsed": false
   },
   "outputs": [],
   "source": [
    "def phys_to_int( m_h,m_H,m_A,m_Hp,alpha,lambda6,lambda7,m12_2,tan_beta,v):\n",
    "  '''\n",
    "    See arXiv:\n",
    "  '''\n",
    "  v2=v*v\n",
    "  \n",
    "  beta=np.arctan(tan_beta)\n",
    "  sb = np.sin(beta)\n",
    "  sb2 = sb*sb\n",
    "  cb = np.cos(beta)\n",
    "  cb2 = cb*cb\n",
    "  tb = np.tan(beta)\n",
    "  ctb = 1./tb\n",
    "  \n",
    "  sa  = np.sin(alpha)\n",
    "  sa2 = sa*sa\n",
    "  ca  = np.cos(alpha)\n",
    "  ca2 = ca*ca\n",
    "\n",
    "  sba=np.sin(beta-alpha)\n",
    "  cba = np.sqrt(1.-sba*sba)\n",
    "  \n",
    "  l1=(m_H*m_H*ca2+m_h*m_h*sa2-m12_2*tb)/v2/cb2-1.5*lambda6*tb+0.5*lambda7*tb*tb*tb\n",
    "  l2=(m_H*m_H*sa2+m_h*m_h*ca2-m12_2*ctb)/v2/sb2+0.5*lambda6*ctb*ctb*ctb-1.5*lambda7*ctb\n",
    "  l3=((m_H*m_H-m_h*m_h)*ca*sa+2.*m_Hp*m_Hp*sb*cb-m12_2)/v2/sb/cb-0.5*lambda6*ctb-0.5*lambda7*tb\n",
    "  l4=((m_A*m_A-2.*m_Hp*m_Hp)*cb*sb+m12_2)/v2/sb/cb-0.5*lambda6*ctb-0.5*lambda7*tb\n",
    "  l5=(m12_2-m_A*m_A*sb*cb)/v2/sb/cb-0.5*lambda6*ctb-0.5*lambda7*tb\n",
    "  #m22_2 = -0.5/sb*(pow(m_h,2)*ca*sba+pow(m_H,2)*sa*cba)+m12_2*ctb\n",
    "  sinba = sba    \n",
    "  \n",
    "  return l1,l2,l3,l4,l5"
   ]
  },
  {
   "cell_type": "markdown",
   "metadata": {},
   "source": [
    "Define function to run official micromegas IDM"
   ]
  },
  {
   "cell_type": "markdown",
   "metadata": {},
   "source": [
    "\n",
    "## Check one point"
   ]
  },
  {
   "cell_type": "markdown",
   "metadata": {},
   "source": [
    "###  With SARAH implementation\n",
    "Based in [Scotogenic model implementation](https://github.com/restrepo/Scotogenic) by Avelino Vicente. Model files in the [SARAH/Models/SimplifiedDM/IDM](../SARAH/Models/SimplifiedDM/IDM) folder of this repo. We use below the python [hep](./hep.py) module to automalically manage input/output SARAH-Toolbox files (in a similar way to SSP)"
   ]
  },
  {
   "cell_type": "code",
   "execution_count": 7,
   "metadata": {
    "collapsed": false
   },
   "outputs": [],
   "source": [
    "a=hep(MODEL='THDMIII')"
   ]
  },
  {
   "cell_type": "markdown",
   "metadata": {},
   "source": [
    "`a-object` is an object with many attributes and methods. Use the tab to explore them. Some of them are\n",
    "* a.Series: [pandas](http://pandas.pydata.org/) Series object with the \"relevant\" variables \n",
    "* a.LHA: Input LesHouces file as [pyslha](https://pypi.python.org/pypi/pyslha/) object\n",
    "* a.runSPheno() -> a.LHA_out: return LHA output files as [pyslha](https://pypi.python.org/pypi/pyslha/) object\n",
    "* a.runmicromegas() -> a.runSPheno() -> Updated the `a-object`  with micrOMEGAS \"relevant\" output"
   ]
  },
  {
   "cell_type": "code",
   "execution_count": 231,
   "metadata": {
    "collapsed": false
   },
   "outputs": [
    {
     "name": "stdout",
     "output_type": "stream",
     "text": [
      "3.16820359E-04  # BR(B->X_s gamma)\n"
     ]
    }
   ],
   "source": [
    "v=a.vev\n",
    "ip=pd.Series({'m_h':125.6,'m_H':355,'m_A':355,'m_Hp':350,'sinba':0.1,'lambda6':5.6,'lambda7':0,'tanb':30,'m12_2':1E2,\n",
    "             'm_tau':1.77669000,'m_b':4.18,'m_t':1.73500000E+02,'cotbU':1/10.}) \n",
    "beta=np.arctan(ip.tanb)\n",
    "alpha=-np.arcsin(ip.sinba)+beta\n",
    "l1,l2,l3,l4,l5=phys_to_int( ip.m_h,ip.m_H,ip.m_A,ip.m_Hp,alpha,ip.lambda6,ip.lambda7,ip.m12_2,ip.tanb,v)\n",
    "devnull=commands.getoutput('rm -f SPheno.spc.%s' %a.MODEL)\n",
    "a.LHA.blocks['SPHENOINPUT'].entries[55]='0               # Calculate one loop masses'\n",
    "a.LHA.blocks['MINPAR'][1] ='%0.8E       # lambda1' %l1\n",
    "a.LHA.blocks['MINPAR'][2] ='%0.8E       # lambda2' %l2\n",
    "a.LHA.blocks['MINPAR'][3] ='%0.8E       # lambda3' %l3\n",
    "a.LHA.blocks['MINPAR'][4] ='%0.8E       # lambda4' %l4\n",
    "a.LHA.blocks['MINPAR'][5] ='%0.8E       # lambda5' %l5\n",
    "a.LHA.blocks['MINPAR'][6] ='%0.8E       # lambda6' %ip.lambda6\n",
    "a.LHA.blocks['MINPAR'][7] ='%0.8E       # lambda7' %ip.lambda7\n",
    "a.LHA.blocks['MINPAR'][9] ='%0.8E       # m12_2' % ip.m12_2\n",
    "a.LHA.blocks['MINPAR'][10] ='%0.8E       # tanb' %ip.tanb\n",
    "a.LHA.blocks['EPSEIN'].entries[3,3]='%0.8E       # epsYE(3,3)' %(-ip.tanb*ip.m_tau*np.sqrt(2)/v)\n",
    "a.LHA.blocks['EPSDIN'].entries[3,3]='%0.8E       # epsYD(3,3)' %(-ip.tanb*ip.m_b*np.sqrt(2)/v)\n",
    "a.LHA.blocks['EPSUIN'].entries[3,3]='%0.8E       # epsYU(3,3)' %(ip.cotbU*ip.m_t*np.sqrt(2)/v)\n",
    "a.runSPheno()\n",
    "print a.LHA_out_with_comments.blocks['FLAVORKITQFV'].entries[200]"
   ]
  },
  {
   "cell_type": "code",
   "execution_count": 232,
   "metadata": {
    "collapsed": false
   },
   "outputs": [
    {
     "name": "stdout",
     "output_type": "stream",
     "text": [
      "3.16769923E-04  # BR(B->X_s gamma)\n"
     ]
    }
   ],
   "source": [
    "ip.cotbU=-1.\n",
    "a.LHA.blocks['EPSUIN'].entries[3,3]='%0.8E       # epsYU(3,3)' %(ip.cotbU*ip.m_t*np.sqrt(2)/v)\n",
    "a.runSPheno()\n",
    "print a.LHA_out_with_comments.blocks['FLAVORKITQFV'].entries[200]"
   ]
  },
  {
   "cell_type": "code",
   "execution_count": 233,
   "metadata": {
    "collapsed": false
   },
   "outputs": [
    {
     "name": "stdout",
     "output_type": "stream",
     "text": [
      "3.16742184E-04  # BR(B->X_s gamma)\n"
     ]
    }
   ],
   "source": [
    "ip.cotbU=-2\n",
    "a.LHA.blocks['EPSUIN'].entries[3,3]='%0.8E       # epsYU(3,3)' %(ip.cotbU*ip.m_t*np.sqrt(2)/v)\n",
    "a.runSPheno()\n",
    "print a.LHA_out_with_comments.blocks['FLAVORKITQFV'].entries[200]"
   ]
  },
  {
   "cell_type": "code",
   "execution_count": 234,
   "metadata": {
    "collapsed": false
   },
   "outputs": [
    {
     "name": "stdout",
     "output_type": "stream",
     "text": [
      "3.16749797E-04  # BR(B->X_s gamma)\n"
     ]
    }
   ],
   "source": [
    "ip.cotbU=-4\n",
    "a.LHA.blocks['EPSUIN'].entries[3,3]='%0.8E       # epsYU(3,3)' %(ip.cotbU*ip.m_t*np.sqrt(2)/v)\n",
    "a.runSPheno()\n",
    "print a.LHA_out_with_comments.blocks['FLAVORKITQFV'].entries[200]"
   ]
  },
  {
   "cell_type": "code",
   "execution_count": 236,
   "metadata": {
    "collapsed": false
   },
   "outputs": [
    {
     "data": {
      "text/plain": [
       "1     -3.31089530E+01       # lambda1\n",
       "2      2.04888705E+00       # lambda2\n",
       "3      1.11028977E+01       # lambda3\n",
       "4     -2.00628165E+00       # lambda4\n",
       "5     -2.12257114E+00       # lambda5\n",
       "6      5.60000000E+00       # lambda6\n",
       "7      0.00000000E+00       # lambda7\n",
       "9        1.00000000E+02       # m12_2\n",
       "10        3.00000000E+01       # tanb\n",
       "dtype: object"
      ]
     },
     "execution_count": 236,
     "metadata": {},
     "output_type": "execute_result"
    }
   ],
   "source": [
    "pd.Series(a.LHA.blocks['MINPAR'].entries)"
   ]
  },
  {
   "cell_type": "code",
   "execution_count": 237,
   "metadata": {
    "collapsed": false
   },
   "outputs": [
    {
     "data": {
      "text/plain": [
       "25    1.25600000E+02  # hh_1\n",
       "35    3.55000000E+02  # hh_2\n",
       "36    3.55000000E+02  # Ah_2\n",
       "37    3.50000000E+02  # Hm_2\n",
       "23      9.11887000E+01  # VZ\n",
       "24     8.03497269E+01  # VWm\n",
       "1     5.00000000E-03  # Fd_1\n",
       "3     9.50000000E-02  # Fd_2\n",
       "5     4.18000000E+00  # Fd_3\n",
       "2     2.50000000E-03  # Fu_1\n",
       "4     1.27000000E+00  # Fu_2\n",
       "6     1.73500000E+02  # Fu_3\n",
       "11    5.10998930E-04  # Fe_1\n",
       "13    1.05658372E-01  # Fe_2\n",
       "15    1.77669000E+00  # Fe_3\n",
       "dtype: object"
      ]
     },
     "execution_count": 237,
     "metadata": {},
     "output_type": "execute_result"
    }
   ],
   "source": [
    "pd.Series(a.LHA_out_with_comments.blocks['MASS'].entries)"
   ]
  },
  {
   "cell_type": "markdown",
   "metadata": {},
   "source": [
    "[Jupyter home](./draft.pdf)"
   ]
  }
 ],
 "metadata": {
  "kernelspec": {
   "display_name": "Python 2",
   "language": "python",
   "name": "python2"
  },
  "language_info": {
   "codemirror_mode": {
    "name": "ipython",
    "version": 2
   },
   "file_extension": ".py",
   "mimetype": "text/x-python",
   "name": "python",
   "nbconvert_exporter": "python",
   "pygments_lexer": "ipython2",
   "version": "2.7.9"
  }
 },
 "nbformat": 4,
 "nbformat_minor": 0
}
