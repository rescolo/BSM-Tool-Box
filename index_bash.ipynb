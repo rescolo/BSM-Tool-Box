{
 "cells": [
  {
   "cell_type": "markdown",
   "metadata": {},
   "source": [
    "# SARAH Toolbox\n",
    "## Collection of models to be run from a docker image\n",
    "Launch virtual docker image: \n",
    "[![Binder](http://mybinder.org/badge.svg)](http://mybinder.org/repo/restrepo/radinert-DTFDTSDM-Toolbox)\n",
    "\n",
    "[Jupyter home](./) (Files, New -> Terminal, etc)\n",
    "[![Home](http://www.incredimail.com/images/nav%20bar/home-icon.png)](./)\n",
    "\n",
    "### Highly recommended:\n",
    "[Run from a terminal](../terminals/1):\n",
    "[![T](http://mysitemyway.com/_shared/images/icons/full_color/terminal.png)](../terminals/1)\n",
    "## Implemented models\n",
    "Each model is to be run in a specific virtual machine. Follow the binder button in each github repo\n",
    "* `SARAH/Models/SSDM/` (for test purposes)\n",
    "* `SARAH/Models/SM/HighScale` (For RGE running: ./butler SM/HighScale) [Repo](https://github.com/restrepo/SM-Toolbox/)\n",
    "* `SARAH/Models/SimplifiedDM/DFDM` (This image)\n",
    "* `SARAH/Models/SimplifiedDM/SDFDM` (This image)\n",
    "\n",
    "## Instructions to compile the model\n",
    "In `SPHENO` and `micromegas`\n",
    "\n",
    "See possible analysis based on the models in  [./tests](./tests) folder.\n",
    "\n",
    "Below we define the model to be compiled:"
   ]
  },
  {
   "cell_type": "code",
   "execution_count": 1,
   "metadata": {
    "collapsed": false
   },
   "outputs": [
    {
     "name": "stdout",
     "output_type": "stream",
     "text": []
    }
   ],
   "source": [
    "MODEL=radinertDTFDTSDM"
   ]
  },
  {
   "cell_type": "markdown",
   "metadata": {},
   "source": [
    "To better control in the outputs, it is recomended that the commands be executed [from a terminal](../terminals/1). Only possible errors are to be shown below"
   ]
  },
  {
   "cell_type": "code",
   "execution_count": 2,
   "metadata": {
    "collapsed": false
   },
   "outputs": [
    {
     "name": "stdout",
     "output_type": "stream",
     "text": []
    }
   ],
   "source": [
    "./compile_spheno_directly.sh $MODEL > /dev/null"
   ]
  },
  {
   "cell_type": "markdown",
   "metadata": {},
   "source": [
    "make a work dir"
   ]
  },
  {
   "cell_type": "code",
   "execution_count": 3,
   "metadata": {
    "collapsed": false
   },
   "outputs": [
    {
     "name": "stdout",
     "output_type": "stream",
     "text": []
    }
   ],
   "source": [
    "mkdir -p test_compilation\n",
    "cd test_compilation"
   ]
  },
  {
   "cell_type": "code",
   "execution_count": 4,
   "metadata": {
    "collapsed": false
   },
   "outputs": [
    {
     "name": "stdout",
     "output_type": "stream",
     "text": []
    }
   ],
   "source": [
    "LHAINPUT=../SPHENO/$MODEL/Input_Files/LesHouches.in.$MODEL\n",
    "if [ -f ../SARAH/Models/$MODEL/LesHouches.in.$MODEL ]; then\n",
    "   LHAINPUT=../SARAH/Models/$MODEL/LesHouches.in.$MODEL\n",
    "fi"
   ]
  },
  {
   "cell_type": "markdown",
   "metadata": {},
   "source": [
    "Run SPheno and generate LHA output file"
   ]
  },
  {
   "cell_type": "code",
   "execution_count": 5,
   "metadata": {
    "collapsed": false
   },
   "outputs": [
    {
     "name": "stdout",
     "output_type": "stream",
     "text": [
      " Calculating branching ratios and decay widths\r\n",
      " Calculating low energy constraints\r\n",
      " Writing output files\r\n",
      " Finished!\r\n"
     ]
    }
   ],
   "source": [
    "cp $LHAINPUT . #only a number of limited charactes accepted as input\n",
    "../SPHENO/bin/SPheno$MODEL LesHouches.in.$MODEL"
   ]
  },
  {
   "cell_type": "code",
   "execution_count": 6,
   "metadata": {
    "collapsed": false
   },
   "outputs": [
    {
     "name": "stdout",
     "output_type": "stream",
     "text": [
      "/home/restrepo/prog/toolbox/toolbox/test_compilation\r\n"
     ]
    }
   ],
   "source": [
    "pwd"
   ]
  },
  {
   "cell_type": "markdown",
   "metadata": {},
   "source": [
    "Compile `micromegas` model"
   ]
  },
  {
   "cell_type": "code",
   "execution_count": 7,
   "metadata": {
    "collapsed": false
   },
   "outputs": [
    {
     "name": "stdout",
     "output_type": "stream",
     "text": [
      "ar: creating work_aux.a\r\n",
      "ar: creating aLib.a\r\n"
     ]
    }
   ],
   "source": [
    "cd ../micromegas\n",
    "make > /dev/null\n",
    "make > /dev/null\n",
    "cd $MODEL\n",
    "make main=CalcOmega.cpp > /dev/null"
   ]
  },
  {
   "cell_type": "markdown",
   "metadata": {},
   "source": [
    "### Include Indirect Detection"
   ]
  },
  {
   "cell_type": "code",
   "execution_count": 8,
   "metadata": {
    "collapsed": false
   },
   "outputs": [
    {
     "name": "stdout",
     "output_type": "stream",
     "text": []
    }
   ],
   "source": [
    "micromegas_with_DDetection=CalcOmega_with_DDetection_MOv4.2.cpp \n",
    "IDmsg=\"======== Indirect Detection ========\"\n",
    "if [ -f \"$micromegas_with_DDetection\" ]  && [ ! \"$(grep \"$IDmsg\" \"$micromegas_with_DDetection\" )\" ]; then\n",
    "    tmpfile=$(mktemp /tmp/CalcOmega_UP.XXXXXX)\n",
    "    grep -B 1000 'fclose(channels);' \"$micromegas_with_DDetection\" | grep -v 'fclose(channels);' > \"$tmpfile\"\n",
    "    echo \"\n",
    "{\n",
    "  double Emin=1,/* Energy cut  in GeV   */  sigmaV;\n",
    "  double vcs_gz,vcs_gg;\n",
    "  char txt[100];\n",
    "  double SpA[NZ],SpE[NZ],SpP[NZ];\n",
    "  double FluxA[NZ],FluxE[NZ],FluxP[NZ];\n",
    "  double * SpNe=NULL,*SpNm=NULL,*SpNl=NULL;\n",
    "  double Etest=Mcdm/2;\n",
    "\n",
    "  printf(\\\"\\n$IDmsg\\n\\\"); \n",
    "  sigmaV=calcSpectrum(1+2+4,SpA,SpE,SpP,SpNe,SpNm,SpNl ,&err);\n",
    "\n",
    "}\" >> \"$tmpfile\"\n",
    "\n",
    "  grep -A 1000 'fclose(channels);' \"$micromegas_with_DDetection\" >> \"$tmpfile\"\n",
    "  mv \"$tmpfile\" \"$micromegas_with_DDetection\"\n",
    "else \n",
    "  echo \"$IDmsg\"\n",
    "  echo \"already included\"\n",
    "fi"
   ]
  },
  {
   "cell_type": "markdown",
   "metadata": {},
   "source": [
    "Run micromegas"
   ]
  },
  {
   "cell_type": "code",
   "execution_count": 9,
   "metadata": {
    "collapsed": false
   },
   "outputs": [
    {
     "name": "stdout",
     "output_type": "stream",
     "text": []
    }
   ],
   "source": [
    "make main=\"$micromegas_with_DDetection\" > /dev/null"
   ]
  },
  {
   "cell_type": "code",
   "execution_count": 10,
   "metadata": {
    "collapsed": false
   },
   "outputs": [
    {
     "name": "stdout",
     "output_type": "stream",
     "text": [
      "\r\n",
      "Masses of odd sector Particles:\r\n",
      "~Nv1 : MNv1  =     0.0 || ~Nv2 : MNv2  =     0.0 || ~Nv3 : MNv3  =     0.0 \r\n",
      "~ci1 : Mci1  =     0.0 || ~ci2 : Mci2  =     0.0 || ~etI : MetI  =    98.5 \r\n",
      "~XP1 : MXP1  =   100.0 || ~XO1 : MXO1  =   101.5 || ~XP2 : MXP2  =   560.0 \r\n",
      "~XO2 : MXO2  =   560.0 || \r\n",
      "PROCESS: ~Nv1,~Nv1->AllEven,1*x{h,g,A,Z,Wp,Wm,nu1,nu2,nu3,d1,D1,d2,D2,d3,D3,u1,U1,u2,U2,u3,U3,e1,E1,e2,E2,e3,E3\r\n",
      "PROCESS: Z->2*x\r\n",
      "PROCESS: Wp->2*x\r\n",
      "PROCESS: u1->2*x\r\n",
      "PROCESS: ~Nv1,~Nv2->AllEven,1*x{h,g,A,Z,Wp,Wm,nu1,nu2,nu3,d1,D1,d2,D2,d3,D3,u1,U1,u2,U2,u3,U3,e1,E1,e2,E2,e3,E3\r\n",
      "PROCESS: ~Nv1,~Nv3->AllEven,1*x{h,g,A,Z,Wp,Wm,nu1,nu2,nu3,d1,D1,d2,D2,d3,D3,u1,U1,u2,U2,u3,U3,e1,E1,e2,E2,e3,E3\r\n",
      "PROCESS: ~Nv1,~ci1->AllEven,1*x{h,g,A,Z,Wp,Wm,nu1,nu2,nu3,d1,D1,d2,D2,d3,D3,u1,U1,u2,U2,u3,U3,e1,E1,e2,E2,e3,E3\r\n",
      "PROCESS: ~Nv1,~ci2->AllEven,1*x{h,g,A,Z,Wp,Wm,nu1,nu2,nu3,d1,D1,d2,D2,d3,D3,u1,U1,u2,U2,u3,U3,e1,E1,e2,E2,e3,E3\r\n",
      "PROCESS: ~Nv2,~Nv2->AllEven,1*x{h,g,A,Z,Wp,Wm,nu1,nu2,nu3,d1,D1,d2,D2,d3,D3,u1,U1,u2,U2,u3,U3,e1,E1,e2,E2,e3,E3\r\n",
      "PROCESS: ~Nv2,~Nv3->AllEven,1*x{h,g,A,Z,Wp,Wm,nu1,nu2,nu3,d1,D1,d2,D2,d3,D3,u1,U1,u2,U2,u3,U3,e1,E1,e2,E2,e3,E3\r\n",
      "PROCESS: ~Nv2,~ci1->AllEven,1*x{h,g,A,Z,Wp,Wm,nu1,nu2,nu3,d1,D1,d2,D2,d3,D3,u1,U1,u2,U2,u3,U3,e1,E1,e2,E2,e3,E3\r\n",
      "PROCESS: ~Nv2,~ci2->AllEven,1*x{h,g,A,Z,Wp,Wm,nu1,nu2,nu3,d1,D1,d2,D2,d3,D3,u1,U1,u2,U2,u3,U3,e1,E1,e2,E2,e3,E3\r\n",
      "PROCESS: ~Nv3,~Nv3->AllEven,1*x{h,g,A,Z,Wp,Wm,nu1,nu2,nu3,d1,D1,d2,D2,d3,D3,u1,U1,u2,U2,u3,U3,e1,E1,e2,E2,e3,E3\r\n",
      "PROCESS: ~Nv3,~ci1->AllEven,1*x{h,g,A,Z,Wp,Wm,nu1,nu2,nu3,d1,D1,d2,D2,d3,D3,u1,U1,u2,U2,u3,U3,e1,E1,e2,E2,e3,E3\r\n",
      "PROCESS: ~Nv3,~ci2->AllEven,1*x{h,g,A,Z,Wp,Wm,nu1,nu2,nu3,d1,D1,d2,D2,d3,D3,u1,U1,u2,U2,u3,U3,e1,E1,e2,E2,e3,E3\r\n",
      "PROCESS: ~ci1,~ci1->AllEven,1*x{h,g,A,Z,Wp,Wm,nu1,nu2,nu3,d1,D1,d2,D2,d3,D3,u1,U1,u2,U2,u3,U3,e1,E1,e2,E2,e3,E3\r\n",
      "PROCESS: ~ci1,~Ci1->AllEven,1*x{h,g,A,Z,Wp,Wm,nu1,nu2,nu3,d1,D1,d2,D2,d3,D3,u1,U1,u2,U2,u3,U3,e1,E1,e2,E2,e3,E3\r\n",
      "PROCESS: ~ci1,~ci2->AllEven,1*x{h,g,A,Z,Wp,Wm,nu1,nu2,nu3,d1,D1,d2,D2,d3,D3,u1,U1,u2,U2,u3,U3,e1,E1,e2,E2,e3,E3\r\n",
      "PROCESS: ~ci1,~Ci2->AllEven,1*x{h,g,A,Z,Wp,Wm,nu1,nu2,nu3,d1,D1,d2,D2,d3,D3,u1,U1,u2,U2,u3,U3,e1,E1,e2,E2,e3,E3\r\n",
      "PROCESS: ~ci2,~ci2->AllEven,1*x{h,g,A,Z,Wp,Wm,nu1,nu2,nu3,d1,D1,d2,D2,d3,D3,u1,U1,u2,U2,u3,U3,e1,E1,e2,E2,e3,E3\r\n",
      "PROCESS: ~ci2,~Ci2->AllEven,1*x{h,g,A,Z,Wp,Wm,nu1,nu2,nu3,d1,D1,d2,D2,d3,D3,u1,U1,u2,U2,u3,U3,e1,E1,e2,E2,e3,E3\r\n",
      "PROCESS: ~etI,~Nv1->AllEven,1*x{h,g,A,Z,Wp,Wm,nu1,nu2,nu3,d1,D1,d2,D2,d3,D3,u1,U1,u2,U2,u3,U3,e1,E1,e2,E2,e3,E3\r\n",
      "PROCESS: ~etI,~Nv2->AllEven,1*x{h,g,A,Z,Wp,Wm,nu1,nu2,nu3,d1,D1,d2,D2,d3,D3,u1,U1,u2,U2,u3,U3,e1,E1,e2,E2,e3,E3\r\n",
      "PROCESS: ~etI,~Nv3->AllEven,1*x{h,g,A,Z,Wp,Wm,nu1,nu2,nu3,d1,D1,d2,D2,d3,D3,u1,U1,u2,U2,u3,U3,e1,E1,e2,E2,e3,E3\r\n",
      "PROCESS: ~etI,~ci1->AllEven,1*x{h,g,A,Z,Wp,Wm,nu1,nu2,nu3,d1,D1,d2,D2,d3,D3,u1,U1,u2,U2,u3,U3,e1,E1,e2,E2,e3,E3\r\n",
      "PROCESS: ~etI,~ci2->AllEven,1*x{h,g,A,Z,Wp,Wm,nu1,nu2,nu3,d1,D1,d2,D2,d3,D3,u1,U1,u2,U2,u3,U3,e1,E1,e2,E2,e3,E3\r\n",
      "PROCESS: ~etI,~etI->AllEven,1*x{h,g,A,Z,Wp,Wm,nu1,nu2,nu3,d1,D1,d2,D2,d3,D3,u1,U1,u2,U2,u3,U3,e1,E1,e2,E2,e3,E3\r\n",
      "PROCESS: ~etI,~XP1->AllEven,1*x{h,g,A,Z,Wp,Wm,nu1,nu2,nu3,d1,D1,d2,D2,d3,D3,u1,U1,u2,U2,u3,U3,e1,E1,e2,E2,e3,E3\r\n",
      "PROCESS: ~etI,~XO1->AllEven,1*x{h,g,A,Z,Wp,Wm,nu1,nu2,nu3,d1,D1,d2,D2,d3,D3,u1,U1,u2,U2,u3,U3,e1,E1,e2,E2,e3,E3\r\n",
      "PROCESS: ~etI,~XP2->AllEven,1*x{h,g,A,Z,Wp,Wm,nu1,nu2,nu3,d1,D1,d2,D2,d3,D3,u1,U1,u2,U2,u3,U3,e1,E1,e2,E2,e3,E3\r\n",
      "PROCESS: ~etI,~XO2->AllEven,1*x{h,g,A,Z,Wp,Wm,nu1,nu2,nu3,d1,D1,d2,D2,d3,D3,u1,U1,u2,U2,u3,U3,e1,E1,e2,E2,e3,E3\r\n",
      "PROCESS: ~XP1,~Nv1->AllEven,1*x{h,g,A,Z,Wp,Wm,nu1,nu2,nu3,d1,D1,d2,D2,d3,D3,u1,U1,u2,U2,u3,U3,e1,E1,e2,E2,e3,E3\r\n",
      "PROCESS: ~XP1,~Nv2->AllEven,1*x{h,g,A,Z,Wp,Wm,nu1,nu2,nu3,d1,D1,d2,D2,d3,D3,u1,U1,u2,U2,u3,U3,e1,E1,e2,E2,e3,E3\r\n",
      "PROCESS: ~XP1,~Nv3->AllEven,1*x{h,g,A,Z,Wp,Wm,nu1,nu2,nu3,d1,D1,d2,D2,d3,D3,u1,U1,u2,U2,u3,U3,e1,E1,e2,E2,e3,E3\r\n",
      "PROCESS: ~XP1,~ci1->AllEven,1*x{h,g,A,Z,Wp,Wm,nu1,nu2,nu3,d1,D1,d2,D2,d3,D3,u1,U1,u2,U2,u3,U3,e1,E1,e2,E2,e3,E3\r\n",
      "PROCESS: ~XP1,~Ci1->AllEven,1*x{h,g,A,Z,Wp,Wm,nu1,nu2,nu3,d1,D1,d2,D2,d3,D3,u1,U1,u2,U2,u3,U3,e1,E1,e2,E2,e3,E3\r\n",
      "PROCESS: ~XP1,~ci2->AllEven,1*x{h,g,A,Z,Wp,Wm,nu1,nu2,nu3,d1,D1,d2,D2,d3,D3,u1,U1,u2,U2,u3,U3,e1,E1,e2,E2,e3,E3\r\n",
      "PROCESS: ~XP1,~Ci2->AllEven,1*x{h,g,A,Z,Wp,Wm,nu1,nu2,nu3,d1,D1,d2,D2,d3,D3,u1,U1,u2,U2,u3,U3,e1,E1,e2,E2,e3,E3\r\n",
      "PROCESS: ~XP1,~XP1->AllEven,1*x{h,g,A,Z,Wp,Wm,nu1,nu2,nu3,d1,D1,d2,D2,d3,D3,u1,U1,u2,U2,u3,U3,e1,E1,e2,E2,e3,E3\r\n",
      "PROCESS: ~XP1,~xP1->AllEven,1*x{h,g,A,Z,Wp,Wm,nu1,nu2,nu3,d1,D1,d2,D2,d3,D3,u1,U1,u2,U2,u3,U3,e1,E1,e2,E2,e3,E3\r\n",
      "PROCESS: ~XP1,~XO1->AllEven,1*x{h,g,A,Z,Wp,Wm,nu1,nu2,nu3,d1,D1,d2,D2,d3,D3,u1,U1,u2,U2,u3,U3,e1,E1,e2,E2,e3,E3\r\n",
      "PROCESS: ~XP1,~XP2->AllEven,1*x{h,g,A,Z,Wp,Wm,nu1,nu2,nu3,d1,D1,d2,D2,d3,D3,u1,U1,u2,U2,u3,U3,e1,E1,e2,E2,e3,E3\r\n",
      "PROCESS: ~XP1,~xP2->AllEven,1*x{h,g,A,Z,Wp,Wm,nu1,nu2,nu3,d1,D1,d2,D2,d3,D3,u1,U1,u2,U2,u3,U3,e1,E1,e2,E2,e3,E3\r\n",
      "PROCESS: ~XP1,~XO2->AllEven,1*x{h,g,A,Z,Wp,Wm,nu1,nu2,nu3,d1,D1,d2,D2,d3,D3,u1,U1,u2,U2,u3,U3,e1,E1,e2,E2,e3,E3\r\n",
      "PROCESS: ~XO1,~Nv1->AllEven,1*x{h,g,A,Z,Wp,Wm,nu1,nu2,nu3,d1,D1,d2,D2,d3,D3,u1,U1,u2,U2,u3,U3,e1,E1,e2,E2,e3,E3\r\n",
      "PROCESS: ~XO1,~Nv2->AllEven,1*x{h,g,A,Z,Wp,Wm,nu1,nu2,nu3,d1,D1,d2,D2,d3,D3,u1,U1,u2,U2,u3,U3,e1,E1,e2,E2,e3,E3\r\n",
      "PROCESS: ~XO1,~Nv3->AllEven,1*x{h,g,A,Z,Wp,Wm,nu1,nu2,nu3,d1,D1,d2,D2,d3,D3,u1,U1,u2,U2,u3,U3,e1,E1,e2,E2,e3,E3\r\n",
      "PROCESS: ~XO1,~ci1->AllEven,1*x{h,g,A,Z,Wp,Wm,nu1,nu2,nu3,d1,D1,d2,D2,d3,D3,u1,U1,u2,U2,u3,U3,e1,E1,e2,E2,e3,E3\r\n",
      "PROCESS: ~XO1,~ci2->AllEven,1*x{h,g,A,Z,Wp,Wm,nu1,nu2,nu3,d1,D1,d2,D2,d3,D3,u1,U1,u2,U2,u3,U3,e1,E1,e2,E2,e3,E3\r\n",
      "PROCESS: ~XO1,~XO1->AllEven,1*x{h,g,A,Z,Wp,Wm,nu1,nu2,nu3,d1,D1,d2,D2,d3,D3,u1,U1,u2,U2,u3,U3,e1,E1,e2,E2,e3,E3\r\n",
      "PROCESS: ~XO1,~XO2->AllEven,1*x{h,g,A,Z,Wp,Wm,nu1,nu2,nu3,d1,D1,d2,D2,d3,D3,u1,U1,u2,U2,u3,U3,e1,E1,e2,E2,e3,E3\r\n",
      "PROCESS: ~XP2,~Nv1->AllEven,1*x{h,g,A,Z,Wp,Wm,nu1,nu2,nu3,d1,D1,d2,D2,d3,D3,u1,U1,u2,U2,u3,U3,e1,E1,e2,E2,e3,E3\r\n",
      "PROCESS: ~XP2,~Nv2->AllEven,1*x{h,g,A,Z,Wp,Wm,nu1,nu2,nu3,d1,D1,d2,D2,d3,D3,u1,U1,u2,U2,u3,U3,e1,E1,e2,E2,e3,E3\r\n",
      "PROCESS: ~XP2,~Nv3->AllEven,1*x{h,g,A,Z,Wp,Wm,nu1,nu2,nu3,d1,D1,d2,D2,d3,D3,u1,U1,u2,U2,u3,U3,e1,E1,e2,E2,e3,E3\r\n",
      "PROCESS: ~XP2,~ci1->AllEven,1*x{h,g,A,Z,Wp,Wm,nu1,nu2,nu3,d1,D1,d2,D2,d3,D3,u1,U1,u2,U2,u3,U3,e1,E1,e2,E2,e3,E3\r\n",
      "PROCESS: ~XP2,~Ci1->AllEven,1*x{h,g,A,Z,Wp,Wm,nu1,nu2,nu3,d1,D1,d2,D2,d3,D3,u1,U1,u2,U2,u3,U3,e1,E1,e2,E2,e3,E3\r\n",
      "PROCESS: ~XP2,~ci2->AllEven,1*x{h,g,A,Z,Wp,Wm,nu1,nu2,nu3,d1,D1,d2,D2,d3,D3,u1,U1,u2,U2,u3,U3,e1,E1,e2,E2,e3,E3\r\n",
      "PROCESS: ~XP2,~Ci2->AllEven,1*x{h,g,A,Z,Wp,Wm,nu1,nu2,nu3,d1,D1,d2,D2,d3,D3,u1,U1,u2,U2,u3,U3,e1,E1,e2,E2,e3,E3\r\n",
      "PROCESS: ~XP2,~XO1->AllEven,1*x{h,g,A,Z,Wp,Wm,nu1,nu2,nu3,d1,D1,d2,D2,d3,D3,u1,U1,u2,U2,u3,U3,e1,E1,e2,E2,e3,E3\r\n",
      "PROCESS: ~XP2,~XP2->AllEven,1*x{h,g,A,Z,Wp,Wm,nu1,nu2,nu3,d1,D1,d2,D2,d3,D3,u1,U1,u2,U2,u3,U3,e1,E1,e2,E2,e3,E3\r\n",
      "PROCESS: ~XP2,~xP2->AllEven,1*x{h,g,A,Z,Wp,Wm,nu1,nu2,nu3,d1,D1,d2,D2,d3,D3,u1,U1,u2,U2,u3,U3,e1,E1,e2,E2,e3,E3\r\n",
      "PROCESS: ~XP2,~XO2->AllEven,1*x{h,g,A,Z,Wp,Wm,nu1,nu2,nu3,d1,D1,d2,D2,d3,D3,u1,U1,u2,U2,u3,U3,e1,E1,e2,E2,e3,E3\r\n",
      "PROCESS: ~XO2,~Nv1->AllEven,1*x{h,g,A,Z,Wp,Wm,nu1,nu2,nu3,d1,D1,d2,D2,d3,D3,u1,U1,u2,U2,u3,U3,e1,E1,e2,E2,e3,E3\r\n",
      "PROCESS: ~XO2,~Nv2->AllEven,1*x{h,g,A,Z,Wp,Wm,nu1,nu2,nu3,d1,D1,d2,D2,d3,D3,u1,U1,u2,U2,u3,U3,e1,E1,e2,E2,e3,E3\r\n",
      "PROCESS: ~XO2,~Nv3->AllEven,1*x{h,g,A,Z,Wp,Wm,nu1,nu2,nu3,d1,D1,d2,D2,d3,D3,u1,U1,u2,U2,u3,U3,e1,E1,e2,E2,e3,E3\r\n",
      "PROCESS: ~XO2,~ci1->AllEven,1*x{h,g,A,Z,Wp,Wm,nu1,nu2,nu3,d1,D1,d2,D2,d3,D3,u1,U1,u2,U2,u3,U3,e1,E1,e2,E2,e3,E3\r\n",
      "PROCESS: ~XO2,~ci2->AllEven,1*x{h,g,A,Z,Wp,Wm,nu1,nu2,nu3,d1,D1,d2,D2,d3,D3,u1,U1,u2,U2,u3,U3,e1,E1,e2,E2,e3,E3\r\n",
      "PROCESS: ~XO2,~XO2->AllEven,1*x{h,g,A,Z,Wp,Wm,nu1,nu2,nu3,d1,D1,d2,D2,d3,D3,u1,U1,u2,U2,u3,U3,e1,E1,e2,E2,e3,E3\r\n",
      "\r\n"
     ]
    }
   ],
   "source": [
    "cd ../../test_compilation\n",
    "../micromegas/$MODEL/$(basename \"$micromegas_with_DDetection\" .cpp) SPheno.spc.$MODEL "
   ]
  },
  {
   "cell_type": "markdown",
   "metadata": {
    "collapsed": true
   },
   "source": [
    "## Go now to: \n",
    "* [main ipyrhon file](./tests/radinert-DTFDTSDM.ipynb) → radinertDTFDTSDM: Singlet Doublet Triplet Dark matter"
   ]
  },
  {
   "cell_type": "code",
   "execution_count": null,
   "metadata": {
    "collapsed": true
   },
   "outputs": [],
   "source": []
  }
 ],
 "metadata": {
  "kernelspec": {
   "display_name": "Bash",
   "language": "bash",
   "name": "bash"
  },
  "language_info": {
   "codemirror_mode": "shell",
   "file_extension": ".sh",
   "mimetype": "text/x-sh",
   "name": "bash"
  }
 },
 "nbformat": 4,
 "nbformat_minor": 0
}
