{
 "cells": [
  {
   "cell_type": "markdown",
   "metadata": {},
   "source": [
    "# SARAH Toolbox\n",
    "## Collection of models to be run from a docker image\n",
    "Launch virtual docker image: \n",
    "[![Binder](http://mybinder.org/badge.svg)](http://mybinder.org/repo/restrepo/radinertRSIII-Toolbox)\n",
    "\n",
    "[Jupyter home](./) (Files, New -> Terminal, etc)\n",
    "[![Home](http://www.incredimail.com/images/nav%20bar/home-icon.png)](./)\n",
    "\n",
    "### Highly recommended:\n",
    "[Run from a terminal](../terminals/1):\n",
    "[![T](http://mysitemyway.com/_shared/images/icons/full_color/terminal.png)](../terminals/1)\n",
    "## Implemented models\n",
    "Each model is to be run in a specific virtual machine. Follow the binder button in each github repo\n",
    "* `SARAH/Models/SSDM/` (for test purposes)\n",
    "* `SARAH/Models/SM/HighScale` (For RGE running: ./butler SM/HighScale) [Repo](https://github.com/restrepo/SM-Toolbox/)\n",
    "* `SARAH/Models/SimplifiedDM/DFDM` (This image)\n",
    "* `SARAH/Models/SimplifiedDM/SDFDM` (This image)\n",
    "\n",
    "## Instructions to compile the model\n",
    "In `SPHENO` and `micromegas`\n",
    "\n",
    "See possible analysis based on the models in  [./tests](./tests) folder.\n",
    "\n",
    "Below we define the model to be compiled:"
   ]
  },
  {
   "cell_type": "code",
   "execution_count": 1,
   "metadata": {
    "collapsed": false
   },
   "outputs": [
    {
     "name": "stdout",
     "output_type": "stream",
     "text": []
    }
   ],
   "source": [
    "MODEL=SimplifiedDMSDFDM"
   ]
  },
  {
   "cell_type": "markdown",
   "metadata": {},
   "source": [
    "To better control in the outputs, it is recomended that the commands be executed [from a terminal](../terminals/1). Only possible errors are to be shown below"
   ]
  },
  {
   "cell_type": "code",
   "execution_count": 2,
   "metadata": {
    "collapsed": false
   },
   "outputs": [
    {
     "name": "stdout",
     "output_type": "stream",
     "text": []
    }
   ],
   "source": [
    "cd SPHENO\n",
    "make Model=$MODEL > /dev/null\n",
    "cd .."
   ]
  },
  {
   "cell_type": "markdown",
   "metadata": {},
   "source": [
    "make a work dir"
   ]
  },
  {
   "cell_type": "code",
   "execution_count": 2,
   "metadata": {
    "collapsed": false
   },
   "outputs": [
    {
     "name": "stdout",
     "output_type": "stream",
     "text": []
    }
   ],
   "source": [
    "mkdir -p test_compilation\n",
    "cd test_compilation"
   ]
  },
  {
   "cell_type": "code",
   "execution_count": 3,
   "metadata": {
    "collapsed": false
   },
   "outputs": [
    {
     "name": "stdout",
     "output_type": "stream",
     "text": []
    }
   ],
   "source": [
    "LHAINPUT=../SPHENO/$MODEL/Input_Files/LesHouches.in.$MODEL\n",
    "if [ -f ../SARAH/Models/$MODEL/LesHouches.in.$MODEL ]; then\n",
    "   LHAINPUT=../SARAH/Models/$MODEL/LesHouches.in.$MODEL\n",
    "fi\n",
    "cp $LHAINPUT . #only a number of limited charactes accepted as input"
   ]
  },
  {
   "cell_type": "markdown",
   "metadata": {},
   "source": [
    "Run SPheno and generate LHA output file. However, there is one caveat in `MadGraph`: `MadEvent` has problems with reading the HiggsBounds specific blocks in the SPheno spectrum file (`HiggsBoundsInputHiggsCouplingsFermions` and `HiggsBoundsInputHiggsCouplingsBosons`). If these blocks are included, MadEvent won’t accept the file. Therefore, The `HiggsBounds` blocks need to be disabled:"
   ]
  },
  {
   "cell_type": "code",
   "execution_count": 4,
   "metadata": {
    "collapsed": false
   },
   "outputs": [
    {
     "name": "stdout",
     "output_type": "stream",
     "text": []
    }
   ],
   "source": [
    "sed -ri 's/(^520) 1/\\1 0/' LesHouches.in.$MODEL"
   ]
  },
  {
   "cell_type": "markdown",
   "metadata": {},
   "source": [
    "In fact:"
   ]
  },
  {
   "cell_type": "code",
   "execution_count": 5,
   "metadata": {
    "collapsed": false
   },
   "outputs": [
    {
     "name": "stdout",
     "output_type": "stream",
     "text": [
      "520 0.              # Write effective Higgs couplings (HiggsBounds blocks): put 0 to use file with MadGraph! \r\n"
     ]
    }
   ],
   "source": [
    "grep ^520 LesHouches.in.$MODEL"
   ]
  },
  {
   "cell_type": "markdown",
   "metadata": {},
   "source": [
    "We now run the spectrum generator"
   ]
  },
  {
   "cell_type": "code",
   "execution_count": 6,
   "metadata": {
    "collapsed": false
   },
   "outputs": [
    {
     "name": "stdout",
     "output_type": "stream",
     "text": [
      " Calculating branching ratios and decay widths\r\n",
      " Calculating low energy constraints\r\n",
      " Writing output files\r\n",
      " Finished!\r\n"
     ]
    }
   ],
   "source": [
    "../SPHENO/bin/SPheno$MODEL LesHouches.in.$MODEL"
   ]
  },
  {
   "cell_type": "markdown",
   "metadata": {},
   "source": [
    "with the LHA output:"
   ]
  },
  {
   "cell_type": "code",
   "execution_count": 7,
   "metadata": {
    "collapsed": false
   },
   "outputs": [
    {
     "name": "stdout",
     "output_type": "stream",
     "text": [
      "SPheno.spc.SimplifiedDMSDFDM\r\n"
     ]
    }
   ],
   "source": [
    "ls SPheno.spc.$MODEL"
   ]
  },
  {
   "cell_type": "markdown",
   "metadata": {},
   "source": [
    "## micrOMEGAS"
   ]
  },
  {
   "cell_type": "code",
   "execution_count": 8,
   "metadata": {
    "collapsed": false
   },
   "outputs": [
    {
     "name": "stdout",
     "output_type": "stream",
     "text": [
      "ar: creating work_aux.a\r\n",
      "ar: creating aLib.a\r\n"
     ]
    }
   ],
   "source": [
    "cd ../micromegas\n",
    "make > /dev/null\n",
    "make > /dev/null\n",
    "cd $MODEL\n",
    "make main=CalcOmega.cpp > /dev/null"
   ]
  },
  {
   "cell_type": "markdown",
   "metadata": {},
   "source": [
    "###  Include Indirect Detection"
   ]
  },
  {
   "cell_type": "code",
   "execution_count": 9,
   "metadata": {
    "collapsed": false
   },
   "outputs": [
    {
     "name": "stdout",
     "output_type": "stream",
     "text": []
    }
   ],
   "source": [
    "micromegas_with_DDetection=CalcOmega_with_DDetection_MOv4.2.cpp \n",
    "IDmsg=\"======== Indirect Detection ========\"\n",
    "if [ -f \"$micromegas_with_DDetection\" ]  && [ ! \"$(grep \"$IDmsg\" \"$micromegas_with_DDetection\" )\" ]; then\n",
    "    tmpfile=$(mktemp /tmp/CalcOmega_UP.XXXXXX)\n",
    "    grep -B 1000 'fclose(channels);' \"$micromegas_with_DDetection\" | grep -v 'fclose(channels);' > \"$tmpfile\"\n",
    "    echo \"\n",
    "{\n",
    "  double Emin=1,/* Energy cut  in GeV   */  sigmaV;\n",
    "  double vcs_gz,vcs_gg;\n",
    "  char txt[100];\n",
    "  double SpA[NZ],SpE[NZ],SpP[NZ];\n",
    "  double FluxA[NZ],FluxE[NZ],FluxP[NZ];\n",
    "  double * SpNe=NULL,*SpNm=NULL,*SpNl=NULL;\n",
    "  double Etest=Mcdm/2;\n",
    "\n",
    "  printf(\\\"\\n$IDmsg\\n\\\"); \n",
    "  sigmaV=calcSpectrum(1+2+4,SpA,SpE,SpP,SpNe,SpNm,SpNl ,&err);\n",
    "\n",
    "}\" >> \"$tmpfile\"\n",
    "\n",
    "  grep -A 1000 'fclose(channels);' \"$micromegas_with_DDetection\" >> \"$tmpfile\"\n",
    "  mv \"$tmpfile\" \"$micromegas_with_DDetection\"\n",
    "else \n",
    "  echo \"$IDmsg\"\n",
    "  echo \"already included\"\n",
    "fi"
   ]
  },
  {
   "cell_type": "markdown",
   "metadata": {},
   "source": [
    "Compile `micrOMEGAS` with direct detection"
   ]
  },
  {
   "cell_type": "code",
   "execution_count": 15,
   "metadata": {
    "collapsed": false
   },
   "outputs": [
    {
     "name": "stdout",
     "output_type": "stream",
     "text": [
      "ar: creating work_aux.a\r\n",
      "ar: creating aLib.a\r\n"
     ]
    }
   ],
   "source": [
    "make main=\"$micromegas_with_DDetection\" > /dev/null"
   ]
  },
  {
   "cell_type": "code",
   "execution_count": 16,
   "metadata": {
    "collapsed": false
   },
   "outputs": [
    {
     "name": "stdout",
     "output_type": "stream",
     "text": [
      "\r\n",
      "Masses of odd sector Particles:\r\n",
      "~Chi : MChi1 =   199.7 || ~Re  : MRe   =   200.0 || ~Chi : MChi2 =   200.0 \r\n",
      "~Chi : MChi3 =  2000.3 || \r\n",
      "PROCESS: ~Chi1,~Chi1->AllEven,1*x{h,g,A,Z,Wp,Wm,nu1,Nu1,nu2,Nu2,nu3,Nu3,d1,D1,d2,D2,d3,D3,u1,U1,u2,U2,u3,U3,e1,E1,e2,E2,e3,E3\r\n",
      "PROCESS: ~Chi1,~Chi2->AllEven,1*x{h,g,A,Z,Wp,Wm,nu1,Nu1,nu2,Nu2,nu3,Nu3,d1,D1,d2,D2,d3,D3,u1,U1,u2,U2,u3,U3,e1,E1,e2,E2,e3,E3\r\n",
      "PROCESS: ~Re,~Chi1->AllEven,1*x{h,g,A,Z,Wp,Wm,nu1,Nu1,nu2,Nu2,nu3,Nu3,d1,D1,d2,D2,d3,D3,u1,U1,u2,U2,u3,U3,e1,E1,e2,E2,e3,E3\r\n",
      "PROCESS: ~Re,~Re->AllEven,1*x{h,g,A,Z,Wp,Wm,nu1,Nu1,nu2,Nu2,nu3,Nu3,d1,D1,d2,D2,d3,D3,u1,U1,u2,U2,u3,U3,e1,E1,e2,E2,e3,E3\r\n",
      "PROCESS: ~Re,~re->AllEven,1*x{h,g,A,Z,Wp,Wm,nu1,Nu1,nu2,Nu2,nu3,Nu3,d1,D1,d2,D2,d3,D3,u1,U1,u2,U2,u3,U3,e1,E1,e2,E2,e3,E3\r\n",
      "PROCESS: ~Re,~Chi2->AllEven,1*x{h,g,A,Z,Wp,Wm,nu1,Nu1,nu2,Nu2,nu3,Nu3,d1,D1,d2,D2,d3,D3,u1,U1,u2,U2,u3,U3,e1,E1,e2,E2,e3,E3\r\n",
      "PROCESS: ~Chi2,~Chi2->AllEven,1*x{h,g,A,Z,Wp,Wm,nu1,Nu1,nu2,Nu2,nu3,Nu3,d1,D1,d2,D2,d3,D3,u1,U1,u2,U2,u3,U3,e1,E1,e2,E2,e3,E3\r\n",
      "Xf=2.75e+01 Omega h^2=1.66e-02\r\n",
      "\r\n",
      "# Channels which contribute to 1/(omega) more than 1%.\r\n",
      "# Relative contributions in % are displayed\r\n",
      "   13% ~Re ~Chi1 ->A Wm \r\n",
      "   10% ~Re ~Chi1 ->Z Wm \r\n",
      "    9% ~Re ~re ->u1 U1 \r\n",
      "    9% ~Re ~re ->u2 U2 \r\n",
      "    7% ~Chi1 ~Chi1 ->Wp Wm \r\n",
      "    6% ~Re ~re ->d1 D1 \r\n",
      "    6% ~Re ~re ->d2 D2 \r\n",
      "    6% ~Re ~re ->d3 D3 \r\n",
      "    5% ~Re ~re ->u3 U3 \r\n",
      "    4% ~Re ~re ->e1 E1 \r\n",
      "    4% ~Re ~re ->e2 E2 \r\n",
      "    4% ~Re ~re ->e3 E3 \r\n",
      "    4% ~Re ~Re ->Wm Wm \r\n",
      "    3% ~Re ~re ->A A \r\n",
      "    3% ~Re ~re ->A Z \r\n",
      "    2% ~Re ~Chi1 ->d3 U3 \r\n",
      "    1% ~Re ~re ->nu1 Nu1 \r\n",
      "    1% ~Re ~re ->nu2 Nu2 \r\n",
      "    1% ~Re ~re ->nu3 Nu3 \r\n",
      "\r\n",
      "==== Calculation of CDM-nucleons amplitudes  =====\r\n",
      "         TREE LEVEL\r\n",
      "PROCESS: QUARKS,~Chi1->QUARKS,~Chi1{d1,D1,d2,D2,d3,D3,u1,U1,u2,U2,u3,U3\r\n",
      "Delete diagrams with _S0_!=1,_V5_,A\r\n",
      "PROCESS: QUARKS,~Chi1->QUARKS,~Chi1{d1,D1,d2,D2,u1,U1\r\n",
      "Delete diagrams with _V5_!=1,_S0_,A\r\n",
      "CDM-nucleon micrOMEGAs amplitudes:\r\n",
      "proton:  SI  -9.888E-11  SD  0.000E+00\r\n",
      "neutron: SI  -9.987E-11  SD  0.000E+00\r\n",
      "         BOX DIAGRAMS\r\n",
      "CDM-nucleon micrOMEGAs amplitudes:\r\n",
      "proton:  SI  -9.888E-11  SD  0.000E+00\r\n",
      "neutron: SI  -9.987E-11  SD  0.000E+00\r\n",
      "CDM-nucleon cross sections[pb]:\r\n",
      " proton  SI 4.234E-12  SD 0.000E+00\r\n",
      " neutron SI 4.319E-12  SD 0.000E+00\r\n",
      "\r\n",
      "======== Direct Detection ========\r\n",
      "73Ge: Total number of events=9.86E-07 /day/kg\r\n",
      "Number of events in 10 - 50 KeV region=5.34E-07 /day/kg\r\n",
      "131Xe: Total number of events=1.66E-06 /day/kg\r\n",
      "Number of events in 10 - 50 KeV region=8.27E-07 /day/kg\r\n",
      "23Na: Total number of events=9.85E-08 /day/kg\r\n",
      "Number of events in 10 - 50 KeV region=5.38E-08 /day/kg\r\n",
      "I127: Total number of events=1.62E-06 /day/kg\r\n",
      "Number of events in 10 - 50 KeV region=8.26E-07 /day/kg\r\n",
      "\r\n",
      "======== Indirect Detection ========\r\n",
      "    Channel          vcs[cm^3/s]\r\n",
      "PROCESS: h->2*x\r\n",
      "PROCESS: ~Chi1,~Chi1->Wp,e1,Nu1\r\n",
      "Delete diagrams with Wp!=2\r\n",
      "PROCESS: ~Chi1,~Chi1->Wp,Wm,A\r\n",
      "==================================\r\n",
      " annihilation cross section 1.28E-25 cm^3/s\r\n",
      " contribution of processes\r\n",
      "  ~Chi1,~Chi1 -> Wp Wm  9.57E-01\r\n",
      "  ~Chi1,~Chi1 -> A Wp   4.29E-02\r\n"
     ]
    }
   ],
   "source": [
    "cd ../../test_compilation\n",
    "../micromegas/$MODEL/$(basename \"$micromegas_with_DDetection\" .cpp) SPheno.spc.$MODEL"
   ]
  },
  {
   "cell_type": "markdown",
   "metadata": {},
   "source": [
    "##  Madgraph\n",
    "\n",
    "We are using [MG5_aMC_v2_3_3](https://launchpad.net/mg5amcnlo/2.0/2.3.x/+download/MG5_aMC_v2.3.3.tar.gz).\n",
    "\n",
    "We follow here clossely the SARAH Manual: _Exploring new models in all detail with_ `SARAH`, [arxiv.org:1503.04200](https://arxiv.org/pdf/1503.04200.pdf), Sec. \"Dilepton analysis with MadGraph\", pag. 118, but adapted to our problem.\n",
    "\n",
    "The command to generate the UFO files is\n",
    "\n",
    " `MakeUFO []`\n",
    " \n",
    "Within the SARAH toolbox used here, this `Mathematica` command is automatically executed and the resulting code is copied into the proper `MadGraph` folder at `madgraph/models/$MODEL`\n",
    "\n",
    "Here, we use an input file for MadGraph: `install_and_check.mdg`  which contains the following lines.\n",
    "(If all tests are passed hit `<ENTER>`)"
   ]
  },
  {
   "cell_type": "code",
   "execution_count": 16,
   "metadata": {
    "collapsed": false
   },
   "outputs": [
    {
     "name": "stdout",
     "output_type": "stream",
     "text": []
    }
   ],
   "source": [
    "cat << EOF > install_and_check.mdg #Creates the file with the folloing content before EOF\n",
    "#install pythia-pgs  \n",
    "## Check your root installation and install Delphes\n",
    "#install Delphes\n",
    "## Check SARAH model\n",
    "import model $MODEL -modelname\n",
    "# p is already defined if imported from\tMadGraph console\n",
    "define p g d1 d1bar d2 d2bar u1 u1bar u2 u2bar\n",
    "check p p > e2 e2bar\n",
    "EOF"
   ]
  },
  {
   "cell_type": "code",
   "execution_count": 17,
   "metadata": {
    "collapsed": false
   },
   "outputs": [
    {
     "name": "stdout",
     "output_type": "stream",
     "text": [
      "************************************************************\r\n",
      "load MG5 configuration from input/mg5_configuration.txt \r\n",
      "fastjet-config does not seem to correspond to a valid fastjet-config executable (v3+). We will use fjcore instead.\r\n",
      " Please set the 'fastjet'variable to the full (absolute) /PATH/TO/fastjet-config (including fastjet-config).\r\n",
      " MG5_aMC> set fastjet /PATH/TO/fastjet-config\r\n",
      "\r\n",
      "set lhapdf to lhapdf-config\r\n",
      "Using default eps viewer \"evince\". Set another one in ./input/mg5_configuration.txt\r\n",
      "Using default web browser \"firefox\". Set another one in ./input/mg5_configuration.txt\r\n",
      "import /home/restrepo/prog/toolbox/toolbox/test_compilation/install_and_check.mdg\r\n",
      "The import format was not given, so we guess it as command\r\n",
      "import model SimplifiedDMSDFDM -modelname\r\n",
      "Defined multiparticle all = g a nu1 nu2 nu3 nu1bar nu2bar nu3bar d1 d2 d3 u1 u2 u3 d1bar d2bar d3bar u1bar u2bar u3bar h z wp wpc re e1 e2 e3 chi1 chi2 chi3 rebar e1bar e2bar e3bar\r\n",
      "define p g d1 d1bar d2 d2bar u1 u1bar u2 u2bar\r\n",
      "Defined multiparticle p = g d1 d2 u1 u2 d1bar d2bar u1bar u2bar\r\n",
      "check p p > e2 e2bar\r\n",
      "check: PJFRY not available on your system; it will be skipped.\u001b[0m\r\n",
      "check: GOLEM not available on your system; it will be skipped.\u001b[0m\r\n",
      "\r\n",
      "\r\n"
     ]
    }
   ],
   "source": [
    "cd ../madgraph  \n",
    "./bin/mg5_aMC ../test_compilation/install_and_check.mdg 2>/dev/null | tail -n20\n",
    "cd ../test_compilation"
   ]
  },
  {
   "cell_type": "markdown",
   "metadata": {},
   "source": [
    "Now we can generate some processes. We just check that the lightest righ handed neutrino does no couple with the photon.\n",
    "The possible VBF processes is in a commented line."
   ]
  },
  {
   "cell_type": "code",
   "execution_count": 18,
   "metadata": {
    "collapsed": false
   },
   "outputs": [
    {
     "name": "stdout",
     "output_type": "stream",
     "text": [
      "save configuration file to /home/restrepo/prog/toolbox/toolbox/test_compilation/MadOut/Cards/me5_configuration.txt\r\n",
      "INFO: Use Fortran compiler gfortran \r\n",
      "INFO: Generate jpeg diagrams \r\n",
      "INFO: Generate web pages \r\n",
      "Output to directory /home/restrepo/prog/toolbox/toolbox/test_compilation/MadOut done.\r\n",
      "Type \"launch\" to generate events from this process, or see\r\n",
      "/home/restrepo/prog/toolbox/toolbox/test_compilation/MadOut/README\r\n",
      "Run \"open index.html\" to see more information about this process.\r\n",
      "exit\r\n",
      " \r\n",
      "quit\r\n",
      " \r\n",
      "\r\n",
      " \r\n",
      "\r\n"
     ]
    }
   ],
   "source": [
    "cat << EOF > VBF.mdg #Creates the file with the folloing content before EOF \n",
    "#See: http://www.niu.edu/spmartin/madgraph/madsyntax.html\n",
    "import model $MODEL -modelname\n",
    "#p is already defined if imported from\tMadGraph console\n",
    "define p g d1 d1bar d2 d2bar u1 u1bar u2 u2bar\n",
    "define j g d1 d1bar d2 d2bar u1 u1bar u2 u2bar   \n",
    "#Just check that right-handed neutrino does no couples to foton:\n",
    "generate p p > e2 e2bar QCD=0\n",
    "output MadOut -f\n",
    "exit\n",
    "EOF\n",
    "../madgraph/bin/mg5_aMC VBF.mdg  2> /dev/null | tail -n15"
   ]
  },
  {
   "cell_type": "markdown",
   "metadata": {
    "collapsed": false
   },
   "source": [
    "In the first of line `VBF.mdg`, we import the model in `MadGraph`. The option `-modelname` is used to keep the names of the particles as given in the model files. By default, `MadGraph` will try to use the default naming conventions. However, this would fail for this model. We define a multi-particle called `p` which consists of gluon and all the light quarks. If we import the model direcly from the `MadGraph` console, `p` is definded automatically from the new model name particles.\n",
    "\n",
    "The output for MadEvent is written to a new subdirectory `test_compilation/MadOut`  and we close `MadGraph` when it is done via exit. \n",
    "\n",
    "After MadGraph has created the output for MadEvent and finished, we can enter the new subdirectory `test_compilation/MadOut`. The important settings to generate events are done via the files in the Cards-directory: the file `param_card.dat` is used to give the input for all parameters, `run_card.dat` controls the event generations. In the last file, the user can for instance set the beam type and energy, define the renormalization scale, apply cuts, and fix the number of events. We want to use, of course, the spectrum file as written by SPheno. \n",
    "\n",
    "When we have the spectrum file in the correct form, we can copy this file to the Cards directory as\n",
    "`param_card.dat`."
   ]
  },
  {
   "cell_type": "code",
   "execution_count": 19,
   "metadata": {
    "collapsed": false
   },
   "outputs": [
    {
     "name": "stdout",
     "output_type": "stream",
     "text": []
    }
   ],
   "source": [
    "cp SPheno.spc.$MODEL MadOut/Cards/param_card.dat "
   ]
  },
  {
   "cell_type": "markdown",
   "metadata": {},
   "source": [
    "Changes in any of the input parameters, require to update the `SPheno` output and overwrite the `MadOut/Cards/param_card.dat` file"
   ]
  },
  {
   "cell_type": "code",
   "execution_count": 26,
   "metadata": {
    "collapsed": false
   },
   "outputs": [
    {
     "name": "stdout",
     "output_type": "stream",
     "text": [
      "     Cross-section :   825.3 +- 1.873 pb\r\n"
     ]
    }
   ],
   "source": [
    "cat << EOF > launch.mdg\n",
    "launch MadOut -f\n",
    "EOF\n",
    "../madgraph/bin/mg5_aMC launch.mdg 2>/dev/null | grep ' Cross-section :'"
   ]
  },
  {
   "cell_type": "markdown",
   "metadata": {
    "collapsed": true
   },
   "source": [
    "## Go now to: \n",
    "* [main ipyrhon file](./tests/SimplifiedDMSDFDM) → Singlet Doublet Fermion Dark Matter."
   ]
  }
 ],
 "metadata": {
  "kernelspec": {
   "display_name": "Bash",
   "language": "bash",
   "name": "bash"
  },
  "language_info": {
   "codemirror_mode": "shell",
   "file_extension": ".sh",
   "mimetype": "text/x-sh",
   "name": "bash"
  }
 },
 "nbformat": 4,
 "nbformat_minor": 0
}
